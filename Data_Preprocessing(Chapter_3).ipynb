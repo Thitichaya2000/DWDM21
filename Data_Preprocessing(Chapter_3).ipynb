{
  "nbformat": 4,
  "nbformat_minor": 0,
  "metadata": {
    "colab": {
      "name": "Data Preprocessing(Chapter 3).ipynb",
      "provenance": [],
      "authorship_tag": "ABX9TyPPf1TMHOXoc8geFhdWJW+1",
      "include_colab_link": true
    },
    "kernelspec": {
      "name": "python3",
      "display_name": "Python 3"
    },
    "language_info": {
      "name": "python"
    }
  },
  "cells": [
    {
      "cell_type": "markdown",
      "metadata": {
        "id": "view-in-github",
        "colab_type": "text"
      },
      "source": [
        "<a href=\"https://colab.research.google.com/github/Thitichaya2000/DWDM21/blob/main/Data_Preprocessing(Chapter_3).ipynb\" target=\"_parent\"><img src=\"https://colab.research.google.com/assets/colab-badge.svg\" alt=\"Open In Colab\"/></a>"
      ]
    },
    {
      "cell_type": "code",
      "metadata": {
        "id": "AXSyu4B37wCo"
      },
      "source": [
        "import pandas as pd #ข้อมูลลักษณะ ตาราง"
      ],
      "execution_count": 1,
      "outputs": []
    },
    {
      "cell_type": "code",
      "metadata": {
        "colab": {
          "base_uri": "https://localhost:8080/"
        },
        "id": "z-jUs0Cg-YAk",
        "outputId": "78f4a7fc-c88d-495b-f526-45e542425ebe"
      },
      "source": [
        "from google.colab import drive ##เชื่อม google drive\n",
        "drive.mount('/content/drive')"
      ],
      "execution_count": 2,
      "outputs": [
        {
          "output_type": "stream",
          "text": [
            "Mounted at /content/drive\n"
          ],
          "name": "stdout"
        }
      ]
    },
    {
      "cell_type": "code",
      "metadata": {
        "id": "xVb4LvP0-lsC"
      },
      "source": [
        "import os # จัดการไฟล์และpath"
      ],
      "execution_count": 3,
      "outputs": []
    },
    {
      "cell_type": "code",
      "metadata": {
        "colab": {
          "base_uri": "https://localhost:8080/",
          "height": 418
        },
        "id": "nduAcIVa-o1r",
        "outputId": "a5a5b4b3-2eee-491d-d919-19719dd7ea16"
      },
      "source": [
        "path = '/content/drive/My Drive/DWDM2021_DATA'\n",
        "data_cases = pd.read_csv(os.path.join(path, 'confirmed-cases.csv'))\n",
        "data_cases"
      ],
      "execution_count": 4,
      "outputs": [
        {
          "output_type": "execute_result",
          "data": {
            "text/html": [
              "<div>\n",
              "<style scoped>\n",
              "    .dataframe tbody tr th:only-of-type {\n",
              "        vertical-align: middle;\n",
              "    }\n",
              "\n",
              "    .dataframe tbody tr th {\n",
              "        vertical-align: top;\n",
              "    }\n",
              "\n",
              "    .dataframe thead th {\n",
              "        text-align: right;\n",
              "    }\n",
              "</style>\n",
              "<table border=\"1\" class=\"dataframe\">\n",
              "  <thead>\n",
              "    <tr style=\"text-align: right;\">\n",
              "      <th></th>\n",
              "      <th>No.</th>\n",
              "      <th>announce_date</th>\n",
              "      <th>Notified date</th>\n",
              "      <th>sex</th>\n",
              "      <th>age</th>\n",
              "      <th>Unit</th>\n",
              "      <th>nationality</th>\n",
              "      <th>province_of_isolation</th>\n",
              "      <th>risk</th>\n",
              "      <th>province_of_onset</th>\n",
              "      <th>district_of_onset</th>\n",
              "    </tr>\n",
              "  </thead>\n",
              "  <tbody>\n",
              "    <tr>\n",
              "      <th>0</th>\n",
              "      <td>1</td>\n",
              "      <td>12/1/2020</td>\n",
              "      <td>NaN</td>\n",
              "      <td>หญิง</td>\n",
              "      <td>61.0</td>\n",
              "      <td>ปี</td>\n",
              "      <td>China</td>\n",
              "      <td>กรุงเทพมหานคร</td>\n",
              "      <td>คนต่างชาติเดินทางมาจากต่างประเทศ</td>\n",
              "      <td>กรุงเทพมหานคร</td>\n",
              "      <td>NaN</td>\n",
              "    </tr>\n",
              "    <tr>\n",
              "      <th>1</th>\n",
              "      <td>2</td>\n",
              "      <td>17/1/2020</td>\n",
              "      <td>NaN</td>\n",
              "      <td>หญิง</td>\n",
              "      <td>74.0</td>\n",
              "      <td>ปี</td>\n",
              "      <td>China</td>\n",
              "      <td>กรุงเทพมหานคร</td>\n",
              "      <td>คนต่างชาติเดินทางมาจากต่างประเทศ</td>\n",
              "      <td>กรุงเทพมหานคร</td>\n",
              "      <td>NaN</td>\n",
              "    </tr>\n",
              "    <tr>\n",
              "      <th>2</th>\n",
              "      <td>3</td>\n",
              "      <td>22/1/2020</td>\n",
              "      <td>NaN</td>\n",
              "      <td>หญิง</td>\n",
              "      <td>73.0</td>\n",
              "      <td>ปี</td>\n",
              "      <td>Thailand</td>\n",
              "      <td>นครปฐม</td>\n",
              "      <td>คนต่างชาติเดินทางมาจากต่างประเทศ</td>\n",
              "      <td>นครปฐม</td>\n",
              "      <td>เมือง</td>\n",
              "    </tr>\n",
              "    <tr>\n",
              "      <th>3</th>\n",
              "      <td>4</td>\n",
              "      <td>22/1/2020</td>\n",
              "      <td>NaN</td>\n",
              "      <td>ชาย</td>\n",
              "      <td>68.0</td>\n",
              "      <td>ปี</td>\n",
              "      <td>China</td>\n",
              "      <td>กรุงเทพมหานคร</td>\n",
              "      <td>คนต่างชาติเดินทางมาจากต่างประเทศ</td>\n",
              "      <td>กรุงเทพมหานคร</td>\n",
              "      <td>NaN</td>\n",
              "    </tr>\n",
              "    <tr>\n",
              "      <th>4</th>\n",
              "      <td>5</td>\n",
              "      <td>24/1/2020</td>\n",
              "      <td>NaN</td>\n",
              "      <td>หญิง</td>\n",
              "      <td>66.0</td>\n",
              "      <td>ปี</td>\n",
              "      <td>China</td>\n",
              "      <td>นนทบุรี</td>\n",
              "      <td>คนต่างชาติเดินทางมาจากต่างประเทศ</td>\n",
              "      <td>กรุงเทพมหานคร</td>\n",
              "      <td>NaN</td>\n",
              "    </tr>\n",
              "    <tr>\n",
              "      <th>...</th>\n",
              "      <td>...</td>\n",
              "      <td>...</td>\n",
              "      <td>...</td>\n",
              "      <td>...</td>\n",
              "      <td>...</td>\n",
              "      <td>...</td>\n",
              "      <td>...</td>\n",
              "      <td>...</td>\n",
              "      <td>...</td>\n",
              "      <td>...</td>\n",
              "      <td>...</td>\n",
              "    </tr>\n",
              "    <tr>\n",
              "      <th>512617</th>\n",
              "      <td>512618</td>\n",
              "      <td>26/7/2021</td>\n",
              "      <td>25/7/2021</td>\n",
              "      <td>ชาย</td>\n",
              "      <td>NaN</td>\n",
              "      <td>NaN</td>\n",
              "      <td>NaN</td>\n",
              "      <td>ชลบุรี</td>\n",
              "      <td>ทัณฑสถาน/เรือนจำ</td>\n",
              "      <td>NaN</td>\n",
              "      <td>NaN</td>\n",
              "    </tr>\n",
              "    <tr>\n",
              "      <th>512618</th>\n",
              "      <td>512619</td>\n",
              "      <td>26/7/2021</td>\n",
              "      <td>25/7/2021</td>\n",
              "      <td>ชาย</td>\n",
              "      <td>NaN</td>\n",
              "      <td>NaN</td>\n",
              "      <td>NaN</td>\n",
              "      <td>ชลบุรี</td>\n",
              "      <td>ทัณฑสถาน/เรือนจำ</td>\n",
              "      <td>NaN</td>\n",
              "      <td>NaN</td>\n",
              "    </tr>\n",
              "    <tr>\n",
              "      <th>512619</th>\n",
              "      <td>512620</td>\n",
              "      <td>26/7/2021</td>\n",
              "      <td>25/7/2021</td>\n",
              "      <td>ชาย</td>\n",
              "      <td>NaN</td>\n",
              "      <td>NaN</td>\n",
              "      <td>NaN</td>\n",
              "      <td>ชลบุรี</td>\n",
              "      <td>ทัณฑสถาน/เรือนจำ</td>\n",
              "      <td>NaN</td>\n",
              "      <td>NaN</td>\n",
              "    </tr>\n",
              "    <tr>\n",
              "      <th>512620</th>\n",
              "      <td>512621</td>\n",
              "      <td>26/7/2021</td>\n",
              "      <td>25/7/2021</td>\n",
              "      <td>ชาย</td>\n",
              "      <td>NaN</td>\n",
              "      <td>NaN</td>\n",
              "      <td>NaN</td>\n",
              "      <td>ชลบุรี</td>\n",
              "      <td>ทัณฑสถาน/เรือนจำ</td>\n",
              "      <td>NaN</td>\n",
              "      <td>NaN</td>\n",
              "    </tr>\n",
              "    <tr>\n",
              "      <th>512621</th>\n",
              "      <td>512622</td>\n",
              "      <td>26/7/2021</td>\n",
              "      <td>25/7/2021</td>\n",
              "      <td>ชาย</td>\n",
              "      <td>NaN</td>\n",
              "      <td>NaN</td>\n",
              "      <td>NaN</td>\n",
              "      <td>ชลบุรี</td>\n",
              "      <td>ทัณฑสถาน/เรือนจำ</td>\n",
              "      <td>NaN</td>\n",
              "      <td>NaN</td>\n",
              "    </tr>\n",
              "  </tbody>\n",
              "</table>\n",
              "<p>512622 rows × 11 columns</p>\n",
              "</div>"
            ],
            "text/plain": [
              "           No. announce_date  ... province_of_onset district_of_onset\n",
              "0            1     12/1/2020  ...     กรุงเทพมหานคร               NaN\n",
              "1            2     17/1/2020  ...     กรุงเทพมหานคร               NaN\n",
              "2            3     22/1/2020  ...            นครปฐม             เมือง\n",
              "3            4     22/1/2020  ...     กรุงเทพมหานคร               NaN\n",
              "4            5     24/1/2020  ...     กรุงเทพมหานคร               NaN\n",
              "...        ...           ...  ...               ...               ...\n",
              "512617  512618     26/7/2021  ...               NaN               NaN\n",
              "512618  512619     26/7/2021  ...               NaN               NaN\n",
              "512619  512620     26/7/2021  ...               NaN               NaN\n",
              "512620  512621     26/7/2021  ...               NaN               NaN\n",
              "512621  512622     26/7/2021  ...               NaN               NaN\n",
              "\n",
              "[512622 rows x 11 columns]"
            ]
          },
          "metadata": {
            "tags": []
          },
          "execution_count": 4
        }
      ]
    },
    {
      "cell_type": "markdown",
      "metadata": {
        "id": "mVCK6fSRAP1o"
      },
      "source": [
        "##Meta Data (Data ที่ใช้อธิบาย Data)"
      ]
    },
    {
      "cell_type": "markdown",
      "metadata": {
        "id": "nAsETB16AZeE"
      },
      "source": [
        "###ชี้ข้อมูลในตาราง"
      ]
    },
    {
      "cell_type": "markdown",
      "metadata": {
        "id": "ssrE5YmhOlts"
      },
      "source": [
        "ชี้แบบธรรมดา ใช้ [ชื่อ column][index]"
      ]
    },
    {
      "cell_type": "code",
      "metadata": {
        "colab": {
          "base_uri": "https://localhost:8080/"
        },
        "id": "5eXUuWqLAgCG",
        "outputId": "9fdb5318-0bfb-48fb-d429-2a9a8c4644a8"
      },
      "source": [
        "data_cases['risk']"
      ],
      "execution_count": 5,
      "outputs": [
        {
          "output_type": "execute_result",
          "data": {
            "text/plain": [
              "0         คนต่างชาติเดินทางมาจากต่างประเทศ\n",
              "1         คนต่างชาติเดินทางมาจากต่างประเทศ\n",
              "2         คนต่างชาติเดินทางมาจากต่างประเทศ\n",
              "3         คนต่างชาติเดินทางมาจากต่างประเทศ\n",
              "4         คนต่างชาติเดินทางมาจากต่างประเทศ\n",
              "                        ...               \n",
              "512617                    ทัณฑสถาน/เรือนจำ\n",
              "512618                    ทัณฑสถาน/เรือนจำ\n",
              "512619                    ทัณฑสถาน/เรือนจำ\n",
              "512620                    ทัณฑสถาน/เรือนจำ\n",
              "512621                    ทัณฑสถาน/เรือนจำ\n",
              "Name: risk, Length: 512622, dtype: object"
            ]
          },
          "metadata": {
            "tags": []
          },
          "execution_count": 5
        }
      ]
    },
    {
      "cell_type": "code",
      "metadata": {
        "colab": {
          "base_uri": "https://localhost:8080/",
          "height": 34
        },
        "id": "eGW1bdTAAwUE",
        "outputId": "f9378dad-c1d1-48c9-eed2-82229ea70598"
      },
      "source": [
        "data_cases['risk'][678] #เลือก column ก่อน"
      ],
      "execution_count": 6,
      "outputs": [
        {
          "output_type": "execute_result",
          "data": {
            "application/vnd.google.colaboratory.intrinsic+json": {
              "type": "string"
            },
            "text/plain": [
              "'สัมผัสใกล้ชิดกับผู้ป่วยยืนยันรายก่อนหน้านี้'"
            ]
          },
          "metadata": {
            "tags": []
          },
          "execution_count": 6
        }
      ]
    },
    {
      "cell_type": "code",
      "metadata": {
        "colab": {
          "base_uri": "https://localhost:8080/",
          "height": 418
        },
        "id": "tDvgfaXBBA6c",
        "outputId": "ca086eef-a45a-4415-d804-d055dc102df6"
      },
      "source": [
        "data_cases[['age' , 'risk' , 'sex']]"
      ],
      "execution_count": 7,
      "outputs": [
        {
          "output_type": "execute_result",
          "data": {
            "text/html": [
              "<div>\n",
              "<style scoped>\n",
              "    .dataframe tbody tr th:only-of-type {\n",
              "        vertical-align: middle;\n",
              "    }\n",
              "\n",
              "    .dataframe tbody tr th {\n",
              "        vertical-align: top;\n",
              "    }\n",
              "\n",
              "    .dataframe thead th {\n",
              "        text-align: right;\n",
              "    }\n",
              "</style>\n",
              "<table border=\"1\" class=\"dataframe\">\n",
              "  <thead>\n",
              "    <tr style=\"text-align: right;\">\n",
              "      <th></th>\n",
              "      <th>age</th>\n",
              "      <th>risk</th>\n",
              "      <th>sex</th>\n",
              "    </tr>\n",
              "  </thead>\n",
              "  <tbody>\n",
              "    <tr>\n",
              "      <th>0</th>\n",
              "      <td>61.0</td>\n",
              "      <td>คนต่างชาติเดินทางมาจากต่างประเทศ</td>\n",
              "      <td>หญิง</td>\n",
              "    </tr>\n",
              "    <tr>\n",
              "      <th>1</th>\n",
              "      <td>74.0</td>\n",
              "      <td>คนต่างชาติเดินทางมาจากต่างประเทศ</td>\n",
              "      <td>หญิง</td>\n",
              "    </tr>\n",
              "    <tr>\n",
              "      <th>2</th>\n",
              "      <td>73.0</td>\n",
              "      <td>คนต่างชาติเดินทางมาจากต่างประเทศ</td>\n",
              "      <td>หญิง</td>\n",
              "    </tr>\n",
              "    <tr>\n",
              "      <th>3</th>\n",
              "      <td>68.0</td>\n",
              "      <td>คนต่างชาติเดินทางมาจากต่างประเทศ</td>\n",
              "      <td>ชาย</td>\n",
              "    </tr>\n",
              "    <tr>\n",
              "      <th>4</th>\n",
              "      <td>66.0</td>\n",
              "      <td>คนต่างชาติเดินทางมาจากต่างประเทศ</td>\n",
              "      <td>หญิง</td>\n",
              "    </tr>\n",
              "    <tr>\n",
              "      <th>...</th>\n",
              "      <td>...</td>\n",
              "      <td>...</td>\n",
              "      <td>...</td>\n",
              "    </tr>\n",
              "    <tr>\n",
              "      <th>512617</th>\n",
              "      <td>NaN</td>\n",
              "      <td>ทัณฑสถาน/เรือนจำ</td>\n",
              "      <td>ชาย</td>\n",
              "    </tr>\n",
              "    <tr>\n",
              "      <th>512618</th>\n",
              "      <td>NaN</td>\n",
              "      <td>ทัณฑสถาน/เรือนจำ</td>\n",
              "      <td>ชาย</td>\n",
              "    </tr>\n",
              "    <tr>\n",
              "      <th>512619</th>\n",
              "      <td>NaN</td>\n",
              "      <td>ทัณฑสถาน/เรือนจำ</td>\n",
              "      <td>ชาย</td>\n",
              "    </tr>\n",
              "    <tr>\n",
              "      <th>512620</th>\n",
              "      <td>NaN</td>\n",
              "      <td>ทัณฑสถาน/เรือนจำ</td>\n",
              "      <td>ชาย</td>\n",
              "    </tr>\n",
              "    <tr>\n",
              "      <th>512621</th>\n",
              "      <td>NaN</td>\n",
              "      <td>ทัณฑสถาน/เรือนจำ</td>\n",
              "      <td>ชาย</td>\n",
              "    </tr>\n",
              "  </tbody>\n",
              "</table>\n",
              "<p>512622 rows × 3 columns</p>\n",
              "</div>"
            ],
            "text/plain": [
              "         age                              risk   sex\n",
              "0       61.0  คนต่างชาติเดินทางมาจากต่างประเทศ  หญิง\n",
              "1       74.0  คนต่างชาติเดินทางมาจากต่างประเทศ  หญิง\n",
              "2       73.0  คนต่างชาติเดินทางมาจากต่างประเทศ  หญิง\n",
              "3       68.0  คนต่างชาติเดินทางมาจากต่างประเทศ   ชาย\n",
              "4       66.0  คนต่างชาติเดินทางมาจากต่างประเทศ  หญิง\n",
              "...      ...                               ...   ...\n",
              "512617   NaN                  ทัณฑสถาน/เรือนจำ   ชาย\n",
              "512618   NaN                  ทัณฑสถาน/เรือนจำ   ชาย\n",
              "512619   NaN                  ทัณฑสถาน/เรือนจำ   ชาย\n",
              "512620   NaN                  ทัณฑสถาน/เรือนจำ   ชาย\n",
              "512621   NaN                  ทัณฑสถาน/เรือนจำ   ชาย\n",
              "\n",
              "[512622 rows x 3 columns]"
            ]
          },
          "metadata": {
            "tags": []
          },
          "execution_count": 7
        }
      ]
    },
    {
      "cell_type": "markdown",
      "metadata": {
        "id": "klBfPhj7CDu-"
      },
      "source": [
        "ชี้แบบ .iloc[] (มองข้อมูลเป็น matrix)"
      ]
    },
    {
      "cell_type": "code",
      "metadata": {
        "colab": {
          "base_uri": "https://localhost:8080/",
          "height": 34
        },
        "id": "Nwt4R6Z_CNf_",
        "outputId": "bed3a711-4e90-427e-d8f5-8b3c37a4d74c"
      },
      "source": [
        "data_cases.iloc[678,8]"
      ],
      "execution_count": 8,
      "outputs": [
        {
          "output_type": "execute_result",
          "data": {
            "application/vnd.google.colaboratory.intrinsic+json": {
              "type": "string"
            },
            "text/plain": [
              "'สัมผัสใกล้ชิดกับผู้ป่วยยืนยันรายก่อนหน้านี้'"
            ]
          },
          "metadata": {
            "tags": []
          },
          "execution_count": 8
        }
      ]
    },
    {
      "cell_type": "code",
      "metadata": {
        "colab": {
          "base_uri": "https://localhost:8080/",
          "height": 358
        },
        "id": "olneeCi2Cgmm",
        "outputId": "77fc785c-f618-463c-ca66-a6182916a8ba"
      },
      "source": [
        "data_cases.iloc[-10:,4:9:2]"
      ],
      "execution_count": 9,
      "outputs": [
        {
          "output_type": "execute_result",
          "data": {
            "text/html": [
              "<div>\n",
              "<style scoped>\n",
              "    .dataframe tbody tr th:only-of-type {\n",
              "        vertical-align: middle;\n",
              "    }\n",
              "\n",
              "    .dataframe tbody tr th {\n",
              "        vertical-align: top;\n",
              "    }\n",
              "\n",
              "    .dataframe thead th {\n",
              "        text-align: right;\n",
              "    }\n",
              "</style>\n",
              "<table border=\"1\" class=\"dataframe\">\n",
              "  <thead>\n",
              "    <tr style=\"text-align: right;\">\n",
              "      <th></th>\n",
              "      <th>age</th>\n",
              "      <th>nationality</th>\n",
              "      <th>risk</th>\n",
              "    </tr>\n",
              "  </thead>\n",
              "  <tbody>\n",
              "    <tr>\n",
              "      <th>512612</th>\n",
              "      <td>NaN</td>\n",
              "      <td>NaN</td>\n",
              "      <td>ทัณฑสถาน/เรือนจำ</td>\n",
              "    </tr>\n",
              "    <tr>\n",
              "      <th>512613</th>\n",
              "      <td>NaN</td>\n",
              "      <td>NaN</td>\n",
              "      <td>ทัณฑสถาน/เรือนจำ</td>\n",
              "    </tr>\n",
              "    <tr>\n",
              "      <th>512614</th>\n",
              "      <td>NaN</td>\n",
              "      <td>NaN</td>\n",
              "      <td>ทัณฑสถาน/เรือนจำ</td>\n",
              "    </tr>\n",
              "    <tr>\n",
              "      <th>512615</th>\n",
              "      <td>NaN</td>\n",
              "      <td>NaN</td>\n",
              "      <td>ทัณฑสถาน/เรือนจำ</td>\n",
              "    </tr>\n",
              "    <tr>\n",
              "      <th>512616</th>\n",
              "      <td>NaN</td>\n",
              "      <td>NaN</td>\n",
              "      <td>ทัณฑสถาน/เรือนจำ</td>\n",
              "    </tr>\n",
              "    <tr>\n",
              "      <th>512617</th>\n",
              "      <td>NaN</td>\n",
              "      <td>NaN</td>\n",
              "      <td>ทัณฑสถาน/เรือนจำ</td>\n",
              "    </tr>\n",
              "    <tr>\n",
              "      <th>512618</th>\n",
              "      <td>NaN</td>\n",
              "      <td>NaN</td>\n",
              "      <td>ทัณฑสถาน/เรือนจำ</td>\n",
              "    </tr>\n",
              "    <tr>\n",
              "      <th>512619</th>\n",
              "      <td>NaN</td>\n",
              "      <td>NaN</td>\n",
              "      <td>ทัณฑสถาน/เรือนจำ</td>\n",
              "    </tr>\n",
              "    <tr>\n",
              "      <th>512620</th>\n",
              "      <td>NaN</td>\n",
              "      <td>NaN</td>\n",
              "      <td>ทัณฑสถาน/เรือนจำ</td>\n",
              "    </tr>\n",
              "    <tr>\n",
              "      <th>512621</th>\n",
              "      <td>NaN</td>\n",
              "      <td>NaN</td>\n",
              "      <td>ทัณฑสถาน/เรือนจำ</td>\n",
              "    </tr>\n",
              "  </tbody>\n",
              "</table>\n",
              "</div>"
            ],
            "text/plain": [
              "        age nationality              risk\n",
              "512612  NaN         NaN  ทัณฑสถาน/เรือนจำ\n",
              "512613  NaN         NaN  ทัณฑสถาน/เรือนจำ\n",
              "512614  NaN         NaN  ทัณฑสถาน/เรือนจำ\n",
              "512615  NaN         NaN  ทัณฑสถาน/เรือนจำ\n",
              "512616  NaN         NaN  ทัณฑสถาน/เรือนจำ\n",
              "512617  NaN         NaN  ทัณฑสถาน/เรือนจำ\n",
              "512618  NaN         NaN  ทัณฑสถาน/เรือนจำ\n",
              "512619  NaN         NaN  ทัณฑสถาน/เรือนจำ\n",
              "512620  NaN         NaN  ทัณฑสถาน/เรือนจำ\n",
              "512621  NaN         NaN  ทัณฑสถาน/เรือนจำ"
            ]
          },
          "metadata": {
            "tags": []
          },
          "execution_count": 9
        }
      ]
    },
    {
      "cell_type": "code",
      "metadata": {
        "colab": {
          "base_uri": "https://localhost:8080/",
          "height": 358
        },
        "id": "5iOZYmF5Cxol",
        "outputId": "135c9a7d-8514-4ad0-ff4a-337b056f9d1e"
      },
      "source": [
        "data_cases.iloc[-10:,[3,4,8]]"
      ],
      "execution_count": 10,
      "outputs": [
        {
          "output_type": "execute_result",
          "data": {
            "text/html": [
              "<div>\n",
              "<style scoped>\n",
              "    .dataframe tbody tr th:only-of-type {\n",
              "        vertical-align: middle;\n",
              "    }\n",
              "\n",
              "    .dataframe tbody tr th {\n",
              "        vertical-align: top;\n",
              "    }\n",
              "\n",
              "    .dataframe thead th {\n",
              "        text-align: right;\n",
              "    }\n",
              "</style>\n",
              "<table border=\"1\" class=\"dataframe\">\n",
              "  <thead>\n",
              "    <tr style=\"text-align: right;\">\n",
              "      <th></th>\n",
              "      <th>sex</th>\n",
              "      <th>age</th>\n",
              "      <th>risk</th>\n",
              "    </tr>\n",
              "  </thead>\n",
              "  <tbody>\n",
              "    <tr>\n",
              "      <th>512612</th>\n",
              "      <td>หญิง</td>\n",
              "      <td>NaN</td>\n",
              "      <td>ทัณฑสถาน/เรือนจำ</td>\n",
              "    </tr>\n",
              "    <tr>\n",
              "      <th>512613</th>\n",
              "      <td>ชาย</td>\n",
              "      <td>NaN</td>\n",
              "      <td>ทัณฑสถาน/เรือนจำ</td>\n",
              "    </tr>\n",
              "    <tr>\n",
              "      <th>512614</th>\n",
              "      <td>ชาย</td>\n",
              "      <td>NaN</td>\n",
              "      <td>ทัณฑสถาน/เรือนจำ</td>\n",
              "    </tr>\n",
              "    <tr>\n",
              "      <th>512615</th>\n",
              "      <td>ชาย</td>\n",
              "      <td>NaN</td>\n",
              "      <td>ทัณฑสถาน/เรือนจำ</td>\n",
              "    </tr>\n",
              "    <tr>\n",
              "      <th>512616</th>\n",
              "      <td>ชาย</td>\n",
              "      <td>NaN</td>\n",
              "      <td>ทัณฑสถาน/เรือนจำ</td>\n",
              "    </tr>\n",
              "    <tr>\n",
              "      <th>512617</th>\n",
              "      <td>ชาย</td>\n",
              "      <td>NaN</td>\n",
              "      <td>ทัณฑสถาน/เรือนจำ</td>\n",
              "    </tr>\n",
              "    <tr>\n",
              "      <th>512618</th>\n",
              "      <td>ชาย</td>\n",
              "      <td>NaN</td>\n",
              "      <td>ทัณฑสถาน/เรือนจำ</td>\n",
              "    </tr>\n",
              "    <tr>\n",
              "      <th>512619</th>\n",
              "      <td>ชาย</td>\n",
              "      <td>NaN</td>\n",
              "      <td>ทัณฑสถาน/เรือนจำ</td>\n",
              "    </tr>\n",
              "    <tr>\n",
              "      <th>512620</th>\n",
              "      <td>ชาย</td>\n",
              "      <td>NaN</td>\n",
              "      <td>ทัณฑสถาน/เรือนจำ</td>\n",
              "    </tr>\n",
              "    <tr>\n",
              "      <th>512621</th>\n",
              "      <td>ชาย</td>\n",
              "      <td>NaN</td>\n",
              "      <td>ทัณฑสถาน/เรือนจำ</td>\n",
              "    </tr>\n",
              "  </tbody>\n",
              "</table>\n",
              "</div>"
            ],
            "text/plain": [
              "         sex  age              risk\n",
              "512612  หญิง  NaN  ทัณฑสถาน/เรือนจำ\n",
              "512613   ชาย  NaN  ทัณฑสถาน/เรือนจำ\n",
              "512614   ชาย  NaN  ทัณฑสถาน/เรือนจำ\n",
              "512615   ชาย  NaN  ทัณฑสถาน/เรือนจำ\n",
              "512616   ชาย  NaN  ทัณฑสถาน/เรือนจำ\n",
              "512617   ชาย  NaN  ทัณฑสถาน/เรือนจำ\n",
              "512618   ชาย  NaN  ทัณฑสถาน/เรือนจำ\n",
              "512619   ชาย  NaN  ทัณฑสถาน/เรือนจำ\n",
              "512620   ชาย  NaN  ทัณฑสถาน/เรือนจำ\n",
              "512621   ชาย  NaN  ทัณฑสถาน/เรือนจำ"
            ]
          },
          "metadata": {
            "tags": []
          },
          "execution_count": 10
        }
      ]
    },
    {
      "cell_type": "code",
      "metadata": {
        "colab": {
          "base_uri": "https://localhost:8080/",
          "height": 296
        },
        "id": "vLcyyQ7UDd5-",
        "outputId": "b2d730d0-0520-4d3c-b057-11a60795f4dd"
      },
      "source": [
        "data_cases.describe()\n",
        "##mean เฉลี่ยที่ติดอายุ 35.5\n",
        "#std กระจายอยู่ช่วงนี้"
      ],
      "execution_count": 11,
      "outputs": [
        {
          "output_type": "execute_result",
          "data": {
            "text/html": [
              "<div>\n",
              "<style scoped>\n",
              "    .dataframe tbody tr th:only-of-type {\n",
              "        vertical-align: middle;\n",
              "    }\n",
              "\n",
              "    .dataframe tbody tr th {\n",
              "        vertical-align: top;\n",
              "    }\n",
              "\n",
              "    .dataframe thead th {\n",
              "        text-align: right;\n",
              "    }\n",
              "</style>\n",
              "<table border=\"1\" class=\"dataframe\">\n",
              "  <thead>\n",
              "    <tr style=\"text-align: right;\">\n",
              "      <th></th>\n",
              "      <th>No.</th>\n",
              "      <th>age</th>\n",
              "    </tr>\n",
              "  </thead>\n",
              "  <tbody>\n",
              "    <tr>\n",
              "      <th>count</th>\n",
              "      <td>512622.000000</td>\n",
              "      <td>462839.000000</td>\n",
              "    </tr>\n",
              "    <tr>\n",
              "      <th>mean</th>\n",
              "      <td>256311.500000</td>\n",
              "      <td>35.529470</td>\n",
              "    </tr>\n",
              "    <tr>\n",
              "      <th>std</th>\n",
              "      <td>147981.369183</td>\n",
              "      <td>16.153885</td>\n",
              "    </tr>\n",
              "    <tr>\n",
              "      <th>min</th>\n",
              "      <td>1.000000</td>\n",
              "      <td>1.000000</td>\n",
              "    </tr>\n",
              "    <tr>\n",
              "      <th>25%</th>\n",
              "      <td>128156.250000</td>\n",
              "      <td>25.000000</td>\n",
              "    </tr>\n",
              "    <tr>\n",
              "      <th>50%</th>\n",
              "      <td>256311.500000</td>\n",
              "      <td>34.000000</td>\n",
              "    </tr>\n",
              "    <tr>\n",
              "      <th>75%</th>\n",
              "      <td>384466.750000</td>\n",
              "      <td>46.000000</td>\n",
              "    </tr>\n",
              "    <tr>\n",
              "      <th>max</th>\n",
              "      <td>512622.000000</td>\n",
              "      <td>108.000000</td>\n",
              "    </tr>\n",
              "  </tbody>\n",
              "</table>\n",
              "</div>"
            ],
            "text/plain": [
              "                 No.            age\n",
              "count  512622.000000  462839.000000\n",
              "mean   256311.500000      35.529470\n",
              "std    147981.369183      16.153885\n",
              "min         1.000000       1.000000\n",
              "25%    128156.250000      25.000000\n",
              "50%    256311.500000      34.000000\n",
              "75%    384466.750000      46.000000\n",
              "max    512622.000000     108.000000"
            ]
          },
          "metadata": {
            "tags": []
          },
          "execution_count": 11
        }
      ]
    },
    {
      "cell_type": "code",
      "metadata": {
        "colab": {
          "base_uri": "https://localhost:8080/",
          "height": 400
        },
        "id": "LrMCQhXhFGTW",
        "outputId": "ef053e19-5ad0-41b1-d53b-b0526d1590f5"
      },
      "source": [
        "from matplotlib import pyplot as plt\n",
        "\n",
        "plt.boxplot(data_cases['age']) ##มีค่า missing เลยพล็อตกราฟไม่ได้"
      ],
      "execution_count": 12,
      "outputs": [
        {
          "output_type": "execute_result",
          "data": {
            "text/plain": [
              "{'boxes': [<matplotlib.lines.Line2D at 0x7f9af4973a90>],\n",
              " 'caps': [<matplotlib.lines.Line2D at 0x7f9af4982850>,\n",
              "  <matplotlib.lines.Line2D at 0x7f9af4982d90>],\n",
              " 'fliers': [<matplotlib.lines.Line2D at 0x7f9af4988890>],\n",
              " 'means': [],\n",
              " 'medians': [<matplotlib.lines.Line2D at 0x7f9af4988350>],\n",
              " 'whiskers': [<matplotlib.lines.Line2D at 0x7f9af49733d0>,\n",
              "  <matplotlib.lines.Line2D at 0x7f9af4982310>]}"
            ]
          },
          "metadata": {
            "tags": []
          },
          "execution_count": 12
        },
        {
          "output_type": "display_data",
          "data": {
            "image/png": "[encoded data removed]",
            "text/plain": [
              "<Figure size 432x288 with 1 Axes>"
            ]
          },
          "metadata": {
            "tags": [],
            "needs_background": "light"
          }
        }
      ]
    },
    {
      "cell_type": "markdown",
      "metadata": {
        "id": "7wxibSdLDD90"
      },
      "source": [
        "#Missing Values\n",
        "\n",
        "*   NaN = Not a Number \n",
        "*   Null\n",
        "*   Na = Not Available\n",
        "\n"
      ]
    },
    {
      "cell_type": "code",
      "metadata": {
        "colab": {
          "base_uri": "https://localhost:8080/",
          "height": 0
        },
        "id": "rPX68z3KGRfO",
        "outputId": "6e1b2f1d-6f3d-4abf-a107-e4fa689a86c1"
      },
      "source": [
        "data_cases"
      ],
      "execution_count": 13,
      "outputs": [
        {
          "output_type": "execute_result",
          "data": {
            "text/html": [
              "<div>\n",
              "<style scoped>\n",
              "    .dataframe tbody tr th:only-of-type {\n",
              "        vertical-align: middle;\n",
              "    }\n",
              "\n",
              "    .dataframe tbody tr th {\n",
              "        vertical-align: top;\n",
              "    }\n",
              "\n",
              "    .dataframe thead th {\n",
              "        text-align: right;\n",
              "    }\n",
              "</style>\n",
              "<table border=\"1\" class=\"dataframe\">\n",
              "  <thead>\n",
              "    <tr style=\"text-align: right;\">\n",
              "      <th></th>\n",
              "      <th>No.</th>\n",
              "      <th>announce_date</th>\n",
              "      <th>Notified date</th>\n",
              "      <th>sex</th>\n",
              "      <th>age</th>\n",
              "      <th>Unit</th>\n",
              "      <th>nationality</th>\n",
              "      <th>province_of_isolation</th>\n",
              "      <th>risk</th>\n",
              "      <th>province_of_onset</th>\n",
              "      <th>district_of_onset</th>\n",
              "    </tr>\n",
              "  </thead>\n",
              "  <tbody>\n",
              "    <tr>\n",
              "      <th>0</th>\n",
              "      <td>1</td>\n",
              "      <td>12/1/2020</td>\n",
              "      <td>NaN</td>\n",
              "      <td>หญิง</td>\n",
              "      <td>61.0</td>\n",
              "      <td>ปี</td>\n",
              "      <td>China</td>\n",
              "      <td>กรุงเทพมหานคร</td>\n",
              "      <td>คนต่างชาติเดินทางมาจากต่างประเทศ</td>\n",
              "      <td>กรุงเทพมหานคร</td>\n",
              "      <td>NaN</td>\n",
              "    </tr>\n",
              "    <tr>\n",
              "      <th>1</th>\n",
              "      <td>2</td>\n",
              "      <td>17/1/2020</td>\n",
              "      <td>NaN</td>\n",
              "      <td>หญิง</td>\n",
              "      <td>74.0</td>\n",
              "      <td>ปี</td>\n",
              "      <td>China</td>\n",
              "      <td>กรุงเทพมหานคร</td>\n",
              "      <td>คนต่างชาติเดินทางมาจากต่างประเทศ</td>\n",
              "      <td>กรุงเทพมหานคร</td>\n",
              "      <td>NaN</td>\n",
              "    </tr>\n",
              "    <tr>\n",
              "      <th>2</th>\n",
              "      <td>3</td>\n",
              "      <td>22/1/2020</td>\n",
              "      <td>NaN</td>\n",
              "      <td>หญิง</td>\n",
              "      <td>73.0</td>\n",
              "      <td>ปี</td>\n",
              "      <td>Thailand</td>\n",
              "      <td>นครปฐม</td>\n",
              "      <td>คนต่างชาติเดินทางมาจากต่างประเทศ</td>\n",
              "      <td>นครปฐม</td>\n",
              "      <td>เมือง</td>\n",
              "    </tr>\n",
              "    <tr>\n",
              "      <th>3</th>\n",
              "      <td>4</td>\n",
              "      <td>22/1/2020</td>\n",
              "      <td>NaN</td>\n",
              "      <td>ชาย</td>\n",
              "      <td>68.0</td>\n",
              "      <td>ปี</td>\n",
              "      <td>China</td>\n",
              "      <td>กรุงเทพมหานคร</td>\n",
              "      <td>คนต่างชาติเดินทางมาจากต่างประเทศ</td>\n",
              "      <td>กรุงเทพมหานคร</td>\n",
              "      <td>NaN</td>\n",
              "    </tr>\n",
              "    <tr>\n",
              "      <th>4</th>\n",
              "      <td>5</td>\n",
              "      <td>24/1/2020</td>\n",
              "      <td>NaN</td>\n",
              "      <td>หญิง</td>\n",
              "      <td>66.0</td>\n",
              "      <td>ปี</td>\n",
              "      <td>China</td>\n",
              "      <td>นนทบุรี</td>\n",
              "      <td>คนต่างชาติเดินทางมาจากต่างประเทศ</td>\n",
              "      <td>กรุงเทพมหานคร</td>\n",
              "      <td>NaN</td>\n",
              "    </tr>\n",
              "    <tr>\n",
              "      <th>...</th>\n",
              "      <td>...</td>\n",
              "      <td>...</td>\n",
              "      <td>...</td>\n",
              "      <td>...</td>\n",
              "      <td>...</td>\n",
              "      <td>...</td>\n",
              "      <td>...</td>\n",
              "      <td>...</td>\n",
              "      <td>...</td>\n",
              "      <td>...</td>\n",
              "      <td>...</td>\n",
              "    </tr>\n",
              "    <tr>\n",
              "      <th>512617</th>\n",
              "      <td>512618</td>\n",
              "      <td>26/7/2021</td>\n",
              "      <td>25/7/2021</td>\n",
              "      <td>ชาย</td>\n",
              "      <td>NaN</td>\n",
              "      <td>NaN</td>\n",
              "      <td>NaN</td>\n",
              "      <td>ชลบุรี</td>\n",
              "      <td>ทัณฑสถาน/เรือนจำ</td>\n",
              "      <td>NaN</td>\n",
              "      <td>NaN</td>\n",
              "    </tr>\n",
              "    <tr>\n",
              "      <th>512618</th>\n",
              "      <td>512619</td>\n",
              "      <td>26/7/2021</td>\n",
              "      <td>25/7/2021</td>\n",
              "      <td>ชาย</td>\n",
              "      <td>NaN</td>\n",
              "      <td>NaN</td>\n",
              "      <td>NaN</td>\n",
              "      <td>ชลบุรี</td>\n",
              "      <td>ทัณฑสถาน/เรือนจำ</td>\n",
              "      <td>NaN</td>\n",
              "      <td>NaN</td>\n",
              "    </tr>\n",
              "    <tr>\n",
              "      <th>512619</th>\n",
              "      <td>512620</td>\n",
              "      <td>26/7/2021</td>\n",
              "      <td>25/7/2021</td>\n",
              "      <td>ชาย</td>\n",
              "      <td>NaN</td>\n",
              "      <td>NaN</td>\n",
              "      <td>NaN</td>\n",
              "      <td>ชลบุรี</td>\n",
              "      <td>ทัณฑสถาน/เรือนจำ</td>\n",
              "      <td>NaN</td>\n",
              "      <td>NaN</td>\n",
              "    </tr>\n",
              "    <tr>\n",
              "      <th>512620</th>\n",
              "      <td>512621</td>\n",
              "      <td>26/7/2021</td>\n",
              "      <td>25/7/2021</td>\n",
              "      <td>ชาย</td>\n",
              "      <td>NaN</td>\n",
              "      <td>NaN</td>\n",
              "      <td>NaN</td>\n",
              "      <td>ชลบุรี</td>\n",
              "      <td>ทัณฑสถาน/เรือนจำ</td>\n",
              "      <td>NaN</td>\n",
              "      <td>NaN</td>\n",
              "    </tr>\n",
              "    <tr>\n",
              "      <th>512621</th>\n",
              "      <td>512622</td>\n",
              "      <td>26/7/2021</td>\n",
              "      <td>25/7/2021</td>\n",
              "      <td>ชาย</td>\n",
              "      <td>NaN</td>\n",
              "      <td>NaN</td>\n",
              "      <td>NaN</td>\n",
              "      <td>ชลบุรี</td>\n",
              "      <td>ทัณฑสถาน/เรือนจำ</td>\n",
              "      <td>NaN</td>\n",
              "      <td>NaN</td>\n",
              "    </tr>\n",
              "  </tbody>\n",
              "</table>\n",
              "<p>512622 rows × 11 columns</p>\n",
              "</div>"
            ],
            "text/plain": [
              "           No. announce_date  ... province_of_onset district_of_onset\n",
              "0            1     12/1/2020  ...     กรุงเทพมหานคร               NaN\n",
              "1            2     17/1/2020  ...     กรุงเทพมหานคร               NaN\n",
              "2            3     22/1/2020  ...            นครปฐม             เมือง\n",
              "3            4     22/1/2020  ...     กรุงเทพมหานคร               NaN\n",
              "4            5     24/1/2020  ...     กรุงเทพมหานคร               NaN\n",
              "...        ...           ...  ...               ...               ...\n",
              "512617  512618     26/7/2021  ...               NaN               NaN\n",
              "512618  512619     26/7/2021  ...               NaN               NaN\n",
              "512619  512620     26/7/2021  ...               NaN               NaN\n",
              "512620  512621     26/7/2021  ...               NaN               NaN\n",
              "512621  512622     26/7/2021  ...               NaN               NaN\n",
              "\n",
              "[512622 rows x 11 columns]"
            ]
          },
          "metadata": {
            "tags": []
          },
          "execution_count": 13
        }
      ]
    },
    {
      "cell_type": "code",
      "metadata": {
        "colab": {
          "base_uri": "https://localhost:8080/",
          "height": 0
        },
        "id": "GCIBEcn0GK7M",
        "outputId": "84d38a97-c6a5-41cf-b77c-99fcf3a1a696"
      },
      "source": [
        "data_cases.isnull()"
      ],
      "execution_count": 14,
      "outputs": [
        {
          "output_type": "execute_result",
          "data": {
            "text/html": [
              "<div>\n",
              "<style scoped>\n",
              "    .dataframe tbody tr th:only-of-type {\n",
              "        vertical-align: middle;\n",
              "    }\n",
              "\n",
              "    .dataframe tbody tr th {\n",
              "        vertical-align: top;\n",
              "    }\n",
              "\n",
              "    .dataframe thead th {\n",
              "        text-align: right;\n",
              "    }\n",
              "</style>\n",
              "<table border=\"1\" class=\"dataframe\">\n",
              "  <thead>\n",
              "    <tr style=\"text-align: right;\">\n",
              "      <th></th>\n",
              "      <th>No.</th>\n",
              "      <th>announce_date</th>\n",
              "      <th>Notified date</th>\n",
              "      <th>sex</th>\n",
              "      <th>age</th>\n",
              "      <th>Unit</th>\n",
              "      <th>nationality</th>\n",
              "      <th>province_of_isolation</th>\n",
              "      <th>risk</th>\n",
              "      <th>province_of_onset</th>\n",
              "      <th>district_of_onset</th>\n",
              "    </tr>\n",
              "  </thead>\n",
              "  <tbody>\n",
              "    <tr>\n",
              "      <th>0</th>\n",
              "      <td>False</td>\n",
              "      <td>False</td>\n",
              "      <td>True</td>\n",
              "      <td>False</td>\n",
              "      <td>False</td>\n",
              "      <td>False</td>\n",
              "      <td>False</td>\n",
              "      <td>False</td>\n",
              "      <td>False</td>\n",
              "      <td>False</td>\n",
              "      <td>True</td>\n",
              "    </tr>\n",
              "    <tr>\n",
              "      <th>1</th>\n",
              "      <td>False</td>\n",
              "      <td>False</td>\n",
              "      <td>True</td>\n",
              "      <td>False</td>\n",
              "      <td>False</td>\n",
              "      <td>False</td>\n",
              "      <td>False</td>\n",
              "      <td>False</td>\n",
              "      <td>False</td>\n",
              "      <td>False</td>\n",
              "      <td>True</td>\n",
              "    </tr>\n",
              "    <tr>\n",
              "      <th>2</th>\n",
              "      <td>False</td>\n",
              "      <td>False</td>\n",
              "      <td>True</td>\n",
              "      <td>False</td>\n",
              "      <td>False</td>\n",
              "      <td>False</td>\n",
              "      <td>False</td>\n",
              "      <td>False</td>\n",
              "      <td>False</td>\n",
              "      <td>False</td>\n",
              "      <td>False</td>\n",
              "    </tr>\n",
              "    <tr>\n",
              "      <th>3</th>\n",
              "      <td>False</td>\n",
              "      <td>False</td>\n",
              "      <td>True</td>\n",
              "      <td>False</td>\n",
              "      <td>False</td>\n",
              "      <td>False</td>\n",
              "      <td>False</td>\n",
              "      <td>False</td>\n",
              "      <td>False</td>\n",
              "      <td>False</td>\n",
              "      <td>True</td>\n",
              "    </tr>\n",
              "    <tr>\n",
              "      <th>4</th>\n",
              "      <td>False</td>\n",
              "      <td>False</td>\n",
              "      <td>True</td>\n",
              "      <td>False</td>\n",
              "      <td>False</td>\n",
              "      <td>False</td>\n",
              "      <td>False</td>\n",
              "      <td>False</td>\n",
              "      <td>False</td>\n",
              "      <td>False</td>\n",
              "      <td>True</td>\n",
              "    </tr>\n",
              "    <tr>\n",
              "      <th>...</th>\n",
              "      <td>...</td>\n",
              "      <td>...</td>\n",
              "      <td>...</td>\n",
              "      <td>...</td>\n",
              "      <td>...</td>\n",
              "      <td>...</td>\n",
              "      <td>...</td>\n",
              "      <td>...</td>\n",
              "      <td>...</td>\n",
              "      <td>...</td>\n",
              "      <td>...</td>\n",
              "    </tr>\n",
              "    <tr>\n",
              "      <th>512617</th>\n",
              "      <td>False</td>\n",
              "      <td>False</td>\n",
              "      <td>False</td>\n",
              "      <td>False</td>\n",
              "      <td>True</td>\n",
              "      <td>True</td>\n",
              "      <td>True</td>\n",
              "      <td>False</td>\n",
              "      <td>False</td>\n",
              "      <td>True</td>\n",
              "      <td>True</td>\n",
              "    </tr>\n",
              "    <tr>\n",
              "      <th>512618</th>\n",
              "      <td>False</td>\n",
              "      <td>False</td>\n",
              "      <td>False</td>\n",
              "      <td>False</td>\n",
              "      <td>True</td>\n",
              "      <td>True</td>\n",
              "      <td>True</td>\n",
              "      <td>False</td>\n",
              "      <td>False</td>\n",
              "      <td>True</td>\n",
              "      <td>True</td>\n",
              "    </tr>\n",
              "    <tr>\n",
              "      <th>512619</th>\n",
              "      <td>False</td>\n",
              "      <td>False</td>\n",
              "      <td>False</td>\n",
              "      <td>False</td>\n",
              "      <td>True</td>\n",
              "      <td>True</td>\n",
              "      <td>True</td>\n",
              "      <td>False</td>\n",
              "      <td>False</td>\n",
              "      <td>True</td>\n",
              "      <td>True</td>\n",
              "    </tr>\n",
              "    <tr>\n",
              "      <th>512620</th>\n",
              "      <td>False</td>\n",
              "      <td>False</td>\n",
              "      <td>False</td>\n",
              "      <td>False</td>\n",
              "      <td>True</td>\n",
              "      <td>True</td>\n",
              "      <td>True</td>\n",
              "      <td>False</td>\n",
              "      <td>False</td>\n",
              "      <td>True</td>\n",
              "      <td>True</td>\n",
              "    </tr>\n",
              "    <tr>\n",
              "      <th>512621</th>\n",
              "      <td>False</td>\n",
              "      <td>False</td>\n",
              "      <td>False</td>\n",
              "      <td>False</td>\n",
              "      <td>True</td>\n",
              "      <td>True</td>\n",
              "      <td>True</td>\n",
              "      <td>False</td>\n",
              "      <td>False</td>\n",
              "      <td>True</td>\n",
              "      <td>True</td>\n",
              "    </tr>\n",
              "  </tbody>\n",
              "</table>\n",
              "<p>512622 rows × 11 columns</p>\n",
              "</div>"
            ],
            "text/plain": [
              "          No.  announce_date  ...  province_of_onset  district_of_onset\n",
              "0       False          False  ...              False               True\n",
              "1       False          False  ...              False               True\n",
              "2       False          False  ...              False              False\n",
              "3       False          False  ...              False               True\n",
              "4       False          False  ...              False               True\n",
              "...       ...            ...  ...                ...                ...\n",
              "512617  False          False  ...               True               True\n",
              "512618  False          False  ...               True               True\n",
              "512619  False          False  ...               True               True\n",
              "512620  False          False  ...               True               True\n",
              "512621  False          False  ...               True               True\n",
              "\n",
              "[512622 rows x 11 columns]"
            ]
          },
          "metadata": {
            "tags": []
          },
          "execution_count": 14
        }
      ]
    },
    {
      "cell_type": "code",
      "metadata": {
        "colab": {
          "base_uri": "https://localhost:8080/"
        },
        "id": "wgduwd6hGam2",
        "outputId": "2670707c-808b-485a-9d4d-ba352db8069e"
      },
      "source": [
        "data_cases .isnull() .any()"
      ],
      "execution_count": 15,
      "outputs": [
        {
          "output_type": "execute_result",
          "data": {
            "text/plain": [
              "No.                      False\n",
              "announce_date            False\n",
              "Notified date             True\n",
              "sex                       True\n",
              "age                       True\n",
              "Unit                      True\n",
              "nationality               True\n",
              "province_of_isolation     True\n",
              "risk                      True\n",
              "province_of_onset         True\n",
              "district_of_onset         True\n",
              "dtype: bool"
            ]
          },
          "metadata": {
            "tags": []
          },
          "execution_count": 15
        }
      ]
    },
    {
      "cell_type": "markdown",
      "metadata": {
        "id": "O7FPn-YSGne5"
      },
      "source": [
        "Handling Missing Value 1(ลบค่า missing)"
      ]
    },
    {
      "cell_type": "code",
      "metadata": {
        "colab": {
          "base_uri": "https://localhost:8080/",
          "height": 0
        },
        "id": "wQZ-MvNUHuxW",
        "outputId": "de9b813d-dadd-4f90-af6f-eeecd520121b"
      },
      "source": [
        "plt.boxplot(data_cases['age'].dropna()) #ลบค่า missing"
      ],
      "execution_count": 16,
      "outputs": [
        {
          "output_type": "execute_result",
          "data": {
            "text/plain": [
              "{'boxes': [<matplotlib.lines.Line2D at 0x7f9af44cced0>],\n",
              " 'caps': [<matplotlib.lines.Line2D at 0x7f9af4978e10>,\n",
              "  <matplotlib.lines.Line2D at 0x7f9af44dd390>],\n",
              " 'fliers': [<matplotlib.lines.Line2D at 0x7f9af44dde50>],\n",
              " 'means': [],\n",
              " 'medians': [<matplotlib.lines.Line2D at 0x7f9af44dd890>],\n",
              " 'whiskers': [<matplotlib.lines.Line2D at 0x7f9af4978390>,\n",
              "  <matplotlib.lines.Line2D at 0x7f9af49788d0>]}"
            ]
          },
          "metadata": {
            "tags": []
          },
          "execution_count": 16
        },
        {
          "output_type": "display_data",
          "data": {
            "image/png": "[encoded data removed]",
            "text/plain": [
              "<Figure size 432x288 with 1 Axes>"
            ]
          },
          "metadata": {
            "tags": [],
            "needs_background": "light"
          }
        }
      ]
    },
    {
      "cell_type": "code",
      "metadata": {
        "colab": {
          "base_uri": "https://localhost:8080/",
          "height": 0
        },
        "id": "lS9NBkmRICkw",
        "outputId": "e143ce33-64c5-4d9d-afff-6b86fb6002bb"
      },
      "source": [
        "data_cases.dropna()"
      ],
      "execution_count": 17,
      "outputs": [
        {
          "output_type": "execute_result",
          "data": {
            "text/html": [
              "<div>\n",
              "<style scoped>\n",
              "    .dataframe tbody tr th:only-of-type {\n",
              "        vertical-align: middle;\n",
              "    }\n",
              "\n",
              "    .dataframe tbody tr th {\n",
              "        vertical-align: top;\n",
              "    }\n",
              "\n",
              "    .dataframe thead th {\n",
              "        text-align: right;\n",
              "    }\n",
              "</style>\n",
              "<table border=\"1\" class=\"dataframe\">\n",
              "  <thead>\n",
              "    <tr style=\"text-align: right;\">\n",
              "      <th></th>\n",
              "      <th>No.</th>\n",
              "      <th>announce_date</th>\n",
              "      <th>Notified date</th>\n",
              "      <th>sex</th>\n",
              "      <th>age</th>\n",
              "      <th>Unit</th>\n",
              "      <th>nationality</th>\n",
              "      <th>province_of_isolation</th>\n",
              "      <th>risk</th>\n",
              "      <th>province_of_onset</th>\n",
              "      <th>district_of_onset</th>\n",
              "    </tr>\n",
              "  </thead>\n",
              "  <tbody>\n",
              "    <tr>\n",
              "      <th>47</th>\n",
              "      <td>48</td>\n",
              "      <td>6/3/2020</td>\n",
              "      <td>4/3/2020</td>\n",
              "      <td>ชาย</td>\n",
              "      <td>43.0</td>\n",
              "      <td>ปี</td>\n",
              "      <td>United Kingdom</td>\n",
              "      <td>กรุงเทพมหานคร</td>\n",
              "      <td>คนต่างชาติเดินทางมาจากต่างประเทศ</td>\n",
              "      <td>กรุงเทพมหานคร</td>\n",
              "      <td>คลองตัน</td>\n",
              "    </tr>\n",
              "    <tr>\n",
              "      <th>124</th>\n",
              "      <td>125</td>\n",
              "      <td>6/3/2021</td>\n",
              "      <td>5/3/2021</td>\n",
              "      <td>หญิง</td>\n",
              "      <td>55.0</td>\n",
              "      <td>ปี</td>\n",
              "      <td>Thailand</td>\n",
              "      <td>ปทุมธานี</td>\n",
              "      <td>Cluster ตลาดพรพัฒน์</td>\n",
              "      <td>ปทุมธานี</td>\n",
              "      <td>ธัญบุรี</td>\n",
              "    </tr>\n",
              "    <tr>\n",
              "      <th>161</th>\n",
              "      <td>162</td>\n",
              "      <td>17/3/2020</td>\n",
              "      <td>21/3/2020</td>\n",
              "      <td>ชาย</td>\n",
              "      <td>14.0</td>\n",
              "      <td>ปี</td>\n",
              "      <td>Thailand</td>\n",
              "      <td>สุราษฎร์ธานี</td>\n",
              "      <td>สัมผัสใกล้ชิดกับผู้ป่วยยืนยันรายก่อนหน้านี้</td>\n",
              "      <td>สุราษฎร์ธานี</td>\n",
              "      <td>เมือง</td>\n",
              "    </tr>\n",
              "    <tr>\n",
              "      <th>181</th>\n",
              "      <td>182</td>\n",
              "      <td>18/3/2020</td>\n",
              "      <td>15/3/2020</td>\n",
              "      <td>ชาย</td>\n",
              "      <td>33.0</td>\n",
              "      <td>ปี</td>\n",
              "      <td>Thailand</td>\n",
              "      <td>ขอนแก่น</td>\n",
              "      <td>สนามมวย</td>\n",
              "      <td>ขอนแก่น</td>\n",
              "      <td>เมือง</td>\n",
              "    </tr>\n",
              "    <tr>\n",
              "      <th>186</th>\n",
              "      <td>187</td>\n",
              "      <td>18/3/2020</td>\n",
              "      <td>16/3/2020</td>\n",
              "      <td>ชาย</td>\n",
              "      <td>36.0</td>\n",
              "      <td>ปี</td>\n",
              "      <td>Thailand</td>\n",
              "      <td>ร้อยเอ็ด</td>\n",
              "      <td>สนามมวย</td>\n",
              "      <td>ร้อยเอ็ด</td>\n",
              "      <td>เชียงขวัญ</td>\n",
              "    </tr>\n",
              "    <tr>\n",
              "      <th>...</th>\n",
              "      <td>...</td>\n",
              "      <td>...</td>\n",
              "      <td>...</td>\n",
              "      <td>...</td>\n",
              "      <td>...</td>\n",
              "      <td>...</td>\n",
              "      <td>...</td>\n",
              "      <td>...</td>\n",
              "      <td>...</td>\n",
              "      <td>...</td>\n",
              "      <td>...</td>\n",
              "    </tr>\n",
              "    <tr>\n",
              "      <th>511575</th>\n",
              "      <td>511576</td>\n",
              "      <td>26/7/2021</td>\n",
              "      <td>25/7/2021</td>\n",
              "      <td>ชาย</td>\n",
              "      <td>50.0</td>\n",
              "      <td>ปี</td>\n",
              "      <td>Thailand</td>\n",
              "      <td>กรุงเทพมหานคร</td>\n",
              "      <td>การค้นหาผู้ป่วยเชิงรุกและค้นหาผู้ติดเชื้อในชุมชน</td>\n",
              "      <td>กรุงเทพมหานคร</td>\n",
              "      <td>มีนบุรี</td>\n",
              "    </tr>\n",
              "    <tr>\n",
              "      <th>511577</th>\n",
              "      <td>511578</td>\n",
              "      <td>26/7/2021</td>\n",
              "      <td>25/7/2021</td>\n",
              "      <td>หญิง</td>\n",
              "      <td>42.0</td>\n",
              "      <td>ปี</td>\n",
              "      <td>Thailand</td>\n",
              "      <td>กรุงเทพมหานคร</td>\n",
              "      <td>การค้นหาผู้ป่วยเชิงรุกและค้นหาผู้ติดเชื้อในชุมชน</td>\n",
              "      <td>กรุงเทพมหานคร</td>\n",
              "      <td>บางบอน</td>\n",
              "    </tr>\n",
              "    <tr>\n",
              "      <th>511578</th>\n",
              "      <td>511579</td>\n",
              "      <td>26/7/2021</td>\n",
              "      <td>25/7/2021</td>\n",
              "      <td>ชาย</td>\n",
              "      <td>32.0</td>\n",
              "      <td>ปี</td>\n",
              "      <td>Thailand</td>\n",
              "      <td>กรุงเทพมหานคร</td>\n",
              "      <td>การค้นหาผู้ป่วยเชิงรุกและค้นหาผู้ติดเชื้อในชุมชน</td>\n",
              "      <td>กรุงเทพมหานคร</td>\n",
              "      <td>ทุ่งครุ</td>\n",
              "    </tr>\n",
              "    <tr>\n",
              "      <th>511579</th>\n",
              "      <td>511580</td>\n",
              "      <td>26/7/2021</td>\n",
              "      <td>25/7/2021</td>\n",
              "      <td>ชาย</td>\n",
              "      <td>37.0</td>\n",
              "      <td>ปี</td>\n",
              "      <td>Thailand</td>\n",
              "      <td>กรุงเทพมหานคร</td>\n",
              "      <td>การค้นหาผู้ป่วยเชิงรุกและค้นหาผู้ติดเชื้อในชุมชน</td>\n",
              "      <td>กรุงเทพมหานคร</td>\n",
              "      <td>พญาไท</td>\n",
              "    </tr>\n",
              "    <tr>\n",
              "      <th>511580</th>\n",
              "      <td>511581</td>\n",
              "      <td>26/7/2021</td>\n",
              "      <td>25/7/2021</td>\n",
              "      <td>ชาย</td>\n",
              "      <td>44.0</td>\n",
              "      <td>ปี</td>\n",
              "      <td>Thailand</td>\n",
              "      <td>กรุงเทพมหานคร</td>\n",
              "      <td>การค้นหาผู้ป่วยเชิงรุกและค้นหาผู้ติดเชื้อในชุมชน</td>\n",
              "      <td>กรุงเทพมหานคร</td>\n",
              "      <td>มีนบุรี</td>\n",
              "    </tr>\n",
              "  </tbody>\n",
              "</table>\n",
              "<p>362205 rows × 11 columns</p>\n",
              "</div>"
            ],
            "text/plain": [
              "           No. announce_date  ... province_of_onset district_of_onset\n",
              "47          48      6/3/2020  ...     กรุงเทพมหานคร           คลองตัน\n",
              "124        125      6/3/2021  ...          ปทุมธานี           ธัญบุรี\n",
              "161        162     17/3/2020  ...      สุราษฎร์ธานี             เมือง\n",
              "181        182     18/3/2020  ...           ขอนแก่น             เมือง\n",
              "186        187     18/3/2020  ...          ร้อยเอ็ด         เชียงขวัญ\n",
              "...        ...           ...  ...               ...               ...\n",
              "511575  511576     26/7/2021  ...     กรุงเทพมหานคร           มีนบุรี\n",
              "511577  511578     26/7/2021  ...     กรุงเทพมหานคร            บางบอน\n",
              "511578  511579     26/7/2021  ...     กรุงเทพมหานคร           ทุ่งครุ\n",
              "511579  511580     26/7/2021  ...     กรุงเทพมหานคร             พญาไท\n",
              "511580  511581     26/7/2021  ...     กรุงเทพมหานคร           มีนบุรี\n",
              "\n",
              "[362205 rows x 11 columns]"
            ]
          },
          "metadata": {
            "tags": []
          },
          "execution_count": 17
        }
      ]
    },
    {
      "cell_type": "code",
      "metadata": {
        "colab": {
          "base_uri": "https://localhost:8080/"
        },
        "id": "bRnDJ2m7IUdB",
        "outputId": "6a860ef4-fdcb-49a1-9459-03816e2fbfd2"
      },
      "source": [
        "data_cases.dropna().shape"
      ],
      "execution_count": 18,
      "outputs": [
        {
          "output_type": "execute_result",
          "data": {
            "text/plain": [
              "(362205, 11)"
            ]
          },
          "metadata": {
            "tags": []
          },
          "execution_count": 18
        }
      ]
    },
    {
      "cell_type": "code",
      "metadata": {
        "colab": {
          "base_uri": "https://localhost:8080/"
        },
        "id": "QZXJ2AVRIe6p",
        "outputId": "67641573-92d5-44ca-a55a-49678090a605"
      },
      "source": [
        "data_cases.dropna().shape[0]"
      ],
      "execution_count": 19,
      "outputs": [
        {
          "output_type": "execute_result",
          "data": {
            "text/plain": [
              "362205"
            ]
          },
          "metadata": {
            "tags": []
          },
          "execution_count": 19
        }
      ]
    },
    {
      "cell_type": "markdown",
      "metadata": {
        "id": "1NJElv_nJlWx"
      },
      "source": [
        "###Quiz 3 ให้หาว่า การทำ dropna() ทำให้ข้อมูลหายไป กี่ %\n",
        "(commit ว่า quiz 3 ก่อน 11.05)\n",
        "\n",
        "```\n",
        "size before drop  = 1000\n",
        "size after drop  = 10\n",
        "we loss 99% of data\n",
        "```\n"
      ]
    },
    {
      "cell_type": "code",
      "metadata": {
        "colab": {
          "base_uri": "https://localhost:8080/"
        },
        "id": "um-KCIUqLuPQ",
        "outputId": "631700b7-514d-4c43-89fa-a0e4f610d457"
      },
      "source": [
        "data_cases.shape #ก่อน"
      ],
      "execution_count": 20,
      "outputs": [
        {
          "output_type": "execute_result",
          "data": {
            "text/plain": [
              "(512622, 11)"
            ]
          },
          "metadata": {
            "tags": []
          },
          "execution_count": 20
        }
      ]
    },
    {
      "cell_type": "code",
      "metadata": {
        "colab": {
          "base_uri": "https://localhost:8080/"
        },
        "id": "9UNA8yaZMaL5",
        "outputId": "3967efc0-70a9-4524-9dbe-c7af709bef50"
      },
      "source": [
        "data_cases.dropna().shape #หลัง"
      ],
      "execution_count": 21,
      "outputs": [
        {
          "output_type": "execute_result",
          "data": {
            "text/plain": [
              "(362205, 11)"
            ]
          },
          "metadata": {
            "tags": []
          },
          "execution_count": 21
        }
      ]
    },
    {
      "cell_type": "code",
      "metadata": {
        "colab": {
          "base_uri": "https://localhost:8080/"
        },
        "id": "eyBTwZz8NZzg",
        "outputId": "a40160dc-b628-4e15-81f3-b4d6903b6488"
      },
      "source": [
        "removed = data_cases.shape[0] - data_cases.dropna().shape[0]\n",
        "\n",
        "print(f'size before drop = {data_cases.shape[0]}')\n",
        "print(f'size after drop = {data_cases.dropna().shape[0]}')\n",
        "print(f'we lost {100*(removed/data_cases.shape[0])}% of data')"
      ],
      "execution_count": 22,
      "outputs": [
        {
          "output_type": "stream",
          "text": [
            "size before drop = 512622\n",
            "size after drop = 362205\n",
            "we lost 29.342673548930794% of data\n"
          ],
          "name": "stdout"
        }
      ]
    },
    {
      "cell_type": "markdown",
      "metadata": {
        "id": "sgPmgCQ_OqgW"
      },
      "source": [
        "#Handling Missing Value 1.5(ลบค่า missing เฉพาะใน column ที่เราสนใจ)"
      ]
    },
    {
      "cell_type": "code",
      "metadata": {
        "id": "hmHictKEOp8M"
      },
      "source": [
        "data_cases_nomissingAge = data_cases.dropna(subset=['age']) "
      ],
      "execution_count": 23,
      "outputs": []
    },
    {
      "cell_type": "code",
      "metadata": {
        "colab": {
          "base_uri": "https://localhost:8080/",
          "height": 0
        },
        "id": "Vp8knL05PrLl",
        "outputId": "35e082cd-b61c-43c1-e979-084bef89bb8f"
      },
      "source": [
        "plt.boxplot(data_cases_nomissingAge['age'])  # ดูคอลัมน์ age ที่เอา missing ออกเเล้ว"
      ],
      "execution_count": 24,
      "outputs": [
        {
          "output_type": "execute_result",
          "data": {
            "text/plain": [
              "{'boxes': [<matplotlib.lines.Line2D at 0x7f9af39cd790>],\n",
              " 'caps': [<matplotlib.lines.Line2D at 0x7f9af39d07d0>,\n",
              "  <matplotlib.lines.Line2D at 0x7f9af39d0d10>],\n",
              " 'fliers': [<matplotlib.lines.Line2D at 0x7f9af39d8810>],\n",
              " 'means': [],\n",
              " 'medians': [<matplotlib.lines.Line2D at 0x7f9af39d82d0>],\n",
              " 'whiskers': [<matplotlib.lines.Line2D at 0x7f9af39cdd10>,\n",
              "  <matplotlib.lines.Line2D at 0x7f9af39d0290>]}"
            ]
          },
          "metadata": {
            "tags": []
          },
          "execution_count": 24
        },
        {
          "output_type": "display_data",
          "data": {
            "image/png": "[encoded data removed]",
            "text/plain": [
              "<Figure size 432x288 with 1 Axes>"
            ]
          },
          "metadata": {
            "tags": [],
            "needs_background": "light"
          }
        }
      ]
    },
    {
      "cell_type": "markdown",
      "metadata": {
        "id": "lTfQ6JC5QJx1"
      },
      "source": [
        "#Quiz 3.1 ให้หาว่า การทำ dropna() แบบเลือก drop เฉพาะ column ที่เราสนใจ (age) ทำให้ข้อมูลหายไป กี่ %\n",
        "\n",
        "11.30"
      ]
    },
    {
      "cell_type": "code",
      "metadata": {
        "colab": {
          "base_uri": "https://localhost:8080/"
        },
        "id": "WH9HcGYEQ7x9",
        "outputId": "0f9bd756-45d8-4a72-f14e-998a4bdfc60b"
      },
      "source": [
        "removed = data_cases.shape[0] - data_cases_nomissingAge.shape[0]\n",
        "\n",
        "print(f'size before drop = {data_cases.shape[0]}')\n",
        "print(f'size after drop = {data_cases_nomissingAge.shape[0]}')\n",
        "print(f'we lost {100*(removed/data_cases.shape[0])}% of data')"
      ],
      "execution_count": 25,
      "outputs": [
        {
          "output_type": "stream",
          "text": [
            "size before drop = 512622\n",
            "size after drop = 462839\n",
            "we lost 9.711444300088564% of data\n"
          ],
          "name": "stdout"
        }
      ]
    },
    {
      "cell_type": "markdown",
      "metadata": {
        "id": "aF6TQZFKS8CQ"
      },
      "source": [
        "##Handling Missing Value 2(แทนด้วย class ใหม่(unknown))"
      ]
    },
    {
      "cell_type": "code",
      "metadata": {
        "colab": {
          "base_uri": "https://localhost:8080/",
          "height": 0
        },
        "id": "3mCqGuNbTO1O",
        "outputId": "70be04db-dfd8-47d0-dc89-41b80841c73b"
      },
      "source": [
        "data_cases"
      ],
      "execution_count": 26,
      "outputs": [
        {
          "output_type": "execute_result",
          "data": {
            "text/html": [
              "<div>\n",
              "<style scoped>\n",
              "    .dataframe tbody tr th:only-of-type {\n",
              "        vertical-align: middle;\n",
              "    }\n",
              "\n",
              "    .dataframe tbody tr th {\n",
              "        vertical-align: top;\n",
              "    }\n",
              "\n",
              "    .dataframe thead th {\n",
              "        text-align: right;\n",
              "    }\n",
              "</style>\n",
              "<table border=\"1\" class=\"dataframe\">\n",
              "  <thead>\n",
              "    <tr style=\"text-align: right;\">\n",
              "      <th></th>\n",
              "      <th>No.</th>\n",
              "      <th>announce_date</th>\n",
              "      <th>Notified date</th>\n",
              "      <th>sex</th>\n",
              "      <th>age</th>\n",
              "      <th>Unit</th>\n",
              "      <th>nationality</th>\n",
              "      <th>province_of_isolation</th>\n",
              "      <th>risk</th>\n",
              "      <th>province_of_onset</th>\n",
              "      <th>district_of_onset</th>\n",
              "    </tr>\n",
              "  </thead>\n",
              "  <tbody>\n",
              "    <tr>\n",
              "      <th>0</th>\n",
              "      <td>1</td>\n",
              "      <td>12/1/2020</td>\n",
              "      <td>NaN</td>\n",
              "      <td>หญิง</td>\n",
              "      <td>61.0</td>\n",
              "      <td>ปี</td>\n",
              "      <td>China</td>\n",
              "      <td>กรุงเทพมหานคร</td>\n",
              "      <td>คนต่างชาติเดินทางมาจากต่างประเทศ</td>\n",
              "      <td>กรุงเทพมหานคร</td>\n",
              "      <td>NaN</td>\n",
              "    </tr>\n",
              "    <tr>\n",
              "      <th>1</th>\n",
              "      <td>2</td>\n",
              "      <td>17/1/2020</td>\n",
              "      <td>NaN</td>\n",
              "      <td>หญิง</td>\n",
              "      <td>74.0</td>\n",
              "      <td>ปี</td>\n",
              "      <td>China</td>\n",
              "      <td>กรุงเทพมหานคร</td>\n",
              "      <td>คนต่างชาติเดินทางมาจากต่างประเทศ</td>\n",
              "      <td>กรุงเทพมหานคร</td>\n",
              "      <td>NaN</td>\n",
              "    </tr>\n",
              "    <tr>\n",
              "      <th>2</th>\n",
              "      <td>3</td>\n",
              "      <td>22/1/2020</td>\n",
              "      <td>NaN</td>\n",
              "      <td>หญิง</td>\n",
              "      <td>73.0</td>\n",
              "      <td>ปี</td>\n",
              "      <td>Thailand</td>\n",
              "      <td>นครปฐม</td>\n",
              "      <td>คนต่างชาติเดินทางมาจากต่างประเทศ</td>\n",
              "      <td>นครปฐม</td>\n",
              "      <td>เมือง</td>\n",
              "    </tr>\n",
              "    <tr>\n",
              "      <th>3</th>\n",
              "      <td>4</td>\n",
              "      <td>22/1/2020</td>\n",
              "      <td>NaN</td>\n",
              "      <td>ชาย</td>\n",
              "      <td>68.0</td>\n",
              "      <td>ปี</td>\n",
              "      <td>China</td>\n",
              "      <td>กรุงเทพมหานคร</td>\n",
              "      <td>คนต่างชาติเดินทางมาจากต่างประเทศ</td>\n",
              "      <td>กรุงเทพมหานคร</td>\n",
              "      <td>NaN</td>\n",
              "    </tr>\n",
              "    <tr>\n",
              "      <th>4</th>\n",
              "      <td>5</td>\n",
              "      <td>24/1/2020</td>\n",
              "      <td>NaN</td>\n",
              "      <td>หญิง</td>\n",
              "      <td>66.0</td>\n",
              "      <td>ปี</td>\n",
              "      <td>China</td>\n",
              "      <td>นนทบุรี</td>\n",
              "      <td>คนต่างชาติเดินทางมาจากต่างประเทศ</td>\n",
              "      <td>กรุงเทพมหานคร</td>\n",
              "      <td>NaN</td>\n",
              "    </tr>\n",
              "    <tr>\n",
              "      <th>...</th>\n",
              "      <td>...</td>\n",
              "      <td>...</td>\n",
              "      <td>...</td>\n",
              "      <td>...</td>\n",
              "      <td>...</td>\n",
              "      <td>...</td>\n",
              "      <td>...</td>\n",
              "      <td>...</td>\n",
              "      <td>...</td>\n",
              "      <td>...</td>\n",
              "      <td>...</td>\n",
              "    </tr>\n",
              "    <tr>\n",
              "      <th>512617</th>\n",
              "      <td>512618</td>\n",
              "      <td>26/7/2021</td>\n",
              "      <td>25/7/2021</td>\n",
              "      <td>ชาย</td>\n",
              "      <td>NaN</td>\n",
              "      <td>NaN</td>\n",
              "      <td>NaN</td>\n",
              "      <td>ชลบุรี</td>\n",
              "      <td>ทัณฑสถาน/เรือนจำ</td>\n",
              "      <td>NaN</td>\n",
              "      <td>NaN</td>\n",
              "    </tr>\n",
              "    <tr>\n",
              "      <th>512618</th>\n",
              "      <td>512619</td>\n",
              "      <td>26/7/2021</td>\n",
              "      <td>25/7/2021</td>\n",
              "      <td>ชาย</td>\n",
              "      <td>NaN</td>\n",
              "      <td>NaN</td>\n",
              "      <td>NaN</td>\n",
              "      <td>ชลบุรี</td>\n",
              "      <td>ทัณฑสถาน/เรือนจำ</td>\n",
              "      <td>NaN</td>\n",
              "      <td>NaN</td>\n",
              "    </tr>\n",
              "    <tr>\n",
              "      <th>512619</th>\n",
              "      <td>512620</td>\n",
              "      <td>26/7/2021</td>\n",
              "      <td>25/7/2021</td>\n",
              "      <td>ชาย</td>\n",
              "      <td>NaN</td>\n",
              "      <td>NaN</td>\n",
              "      <td>NaN</td>\n",
              "      <td>ชลบุรี</td>\n",
              "      <td>ทัณฑสถาน/เรือนจำ</td>\n",
              "      <td>NaN</td>\n",
              "      <td>NaN</td>\n",
              "    </tr>\n",
              "    <tr>\n",
              "      <th>512620</th>\n",
              "      <td>512621</td>\n",
              "      <td>26/7/2021</td>\n",
              "      <td>25/7/2021</td>\n",
              "      <td>ชาย</td>\n",
              "      <td>NaN</td>\n",
              "      <td>NaN</td>\n",
              "      <td>NaN</td>\n",
              "      <td>ชลบุรี</td>\n",
              "      <td>ทัณฑสถาน/เรือนจำ</td>\n",
              "      <td>NaN</td>\n",
              "      <td>NaN</td>\n",
              "    </tr>\n",
              "    <tr>\n",
              "      <th>512621</th>\n",
              "      <td>512622</td>\n",
              "      <td>26/7/2021</td>\n",
              "      <td>25/7/2021</td>\n",
              "      <td>ชาย</td>\n",
              "      <td>NaN</td>\n",
              "      <td>NaN</td>\n",
              "      <td>NaN</td>\n",
              "      <td>ชลบุรี</td>\n",
              "      <td>ทัณฑสถาน/เรือนจำ</td>\n",
              "      <td>NaN</td>\n",
              "      <td>NaN</td>\n",
              "    </tr>\n",
              "  </tbody>\n",
              "</table>\n",
              "<p>512622 rows × 11 columns</p>\n",
              "</div>"
            ],
            "text/plain": [
              "           No. announce_date  ... province_of_onset district_of_onset\n",
              "0            1     12/1/2020  ...     กรุงเทพมหานคร               NaN\n",
              "1            2     17/1/2020  ...     กรุงเทพมหานคร               NaN\n",
              "2            3     22/1/2020  ...            นครปฐม             เมือง\n",
              "3            4     22/1/2020  ...     กรุงเทพมหานคร               NaN\n",
              "4            5     24/1/2020  ...     กรุงเทพมหานคร               NaN\n",
              "...        ...           ...  ...               ...               ...\n",
              "512617  512618     26/7/2021  ...               NaN               NaN\n",
              "512618  512619     26/7/2021  ...               NaN               NaN\n",
              "512619  512620     26/7/2021  ...               NaN               NaN\n",
              "512620  512621     26/7/2021  ...               NaN               NaN\n",
              "512621  512622     26/7/2021  ...               NaN               NaN\n",
              "\n",
              "[512622 rows x 11 columns]"
            ]
          },
          "metadata": {
            "tags": []
          },
          "execution_count": 26
        }
      ]
    },
    {
      "cell_type": "code",
      "metadata": {
        "id": "hfZLaiS_WlAm"
      },
      "source": [
        "data_cases[['risk']] = data_cases[['risk']].fillna('ไม่มีข้อมูล') # fillna() ชี้ไปที่คอลัมน์"
      ],
      "execution_count": 27,
      "outputs": []
    },
    {
      "cell_type": "code",
      "metadata": {
        "colab": {
          "base_uri": "https://localhost:8080/"
        },
        "id": "alAB7JbAW8FR",
        "outputId": "c61595ec-84e7-41fb-f206-b4fcf226c82b"
      },
      "source": [
        "set(data_cases['risk']) # set ถ้ามีค่าซ้ำจะนับเเค่อันเดียว"
      ],
      "execution_count": 28,
      "outputs": [
        {
          "output_type": "execute_result",
          "data": {
            "text/plain": [
              "{'2.สัมผัสผู้ติดเชื้อ',\n",
              " 'ACF รองเมือง',\n",
              " 'ACF สนามกีฬาธูปะเตมีย์',\n",
              " 'ACF สนามกีฬาไทย-ญี่ปุ่น',\n",
              " 'ACF สีลม',\n",
              " 'ACF เคหะหลักสี่',\n",
              " 'Cluster Icon siam',\n",
              " \"Cluster Memory 90's กรุงเทพมหานคร\",\n",
              " 'Cluster New Jazz กรุงเทพมหานคร',\n",
              " 'Cluster The Lounge Salaya',\n",
              " 'Cluster กรุงเทพมหานคร. คลองเตย',\n",
              " 'Cluster คลองเตย',\n",
              " 'Cluster งานมอเตอร์ โชว์',\n",
              " 'Cluster จนท. สนามบินสุวรรณภูมิ',\n",
              " 'Cluster จันทบุรี',\n",
              " 'Cluster จันทบุรี (ชาวกินี )',\n",
              " 'Cluster จันทบุรี (ชาวกินี)',\n",
              " 'Cluster ชลบุรี',\n",
              " 'Cluster ชลบุรี บริษัทไดกิ้น',\n",
              " 'Cluster ชลบุรี โรงเบียร์ 90',\n",
              " 'Cluster ตราด',\n",
              " 'Cluster ตราด ',\n",
              " 'Cluster ตลาดนนทบุรี',\n",
              " 'Cluster ตลาดบางพลี',\n",
              " 'Cluster ตลาดบางแค',\n",
              " 'Cluster ตลาดบางแค/คลองขวาง',\n",
              " 'Cluster ตลาดพรพัฒน์',\n",
              " 'Cluster ตลาดสี่มุมเมือง',\n",
              " 'Cluster ทัณฑสถานหญิงกลาง',\n",
              " 'Cluster ทัณฑสถานโรงพยาบาลราชทัณฑ์',\n",
              " 'Cluster ทันฑสถานบำบัดพิเศษกลาง',\n",
              " 'Cluster บริษัทศรีสวัสดิ์',\n",
              " 'Cluster บางแค',\n",
              " 'Cluster บ่อนพัทยา/ชลบุรี',\n",
              " 'Cluster บ่อนเทพารักษ์',\n",
              " 'Cluster บ่อนไก่อ่างทอง',\n",
              " 'Cluster ปากช่อง',\n",
              " 'Cluster ผับ Thonglor',\n",
              " 'Cluster มหาสารคาม',\n",
              " 'Cluster ระยอง',\n",
              " 'Cluster ระยอง วิริยะประกันภัย',\n",
              " 'Cluster สถานบันเทิงย่านทองหล่อ',\n",
              " 'Cluster สมุทรปราการ (โรงงาน บริษัทเมทัล โปรดักส์)',\n",
              " 'Cluster สมุทรปราการ GRP Hightech',\n",
              " 'Cluster สมุทรปราการ ตลาดเคหะบางพลี',\n",
              " 'Cluster สมุทรสาคร',\n",
              " 'Cluster ห้างแสงทอง (สายล่าง)',\n",
              " 'Cluster เครือคัสเซ่อร์พีคโฮลดิ้ง (CPG,CPH)',\n",
              " 'Cluster เรือนจำกลางคลองเปรม',\n",
              " 'Cluster เรือนจำพิเศษกรุงเทพ',\n",
              " 'Cluster เรือนจำพิเศษธนบุรี',\n",
              " 'Cluster เรือนจำพิเศษมีนบุรี',\n",
              " 'Cluster โรงงาน  Big Star',\n",
              " 'Cluster โรงงาน Big Star',\n",
              " 'Cluster โรงงาน QPP ประจวบฯ',\n",
              " 'Cluster โรงงาน standard can',\n",
              " 'Cluster โรงงานทำขนม บางขุนเทียน',\n",
              " 'Refer in',\n",
              " 'SHUI',\n",
              " 'Sandbox',\n",
              " 'State Quarantine',\n",
              " 'cluster ชลบุรี\\n(อยู่ระหว่างการสอบสวน)',\n",
              " 'การค้นหาผู้ป่วยเชิงรุกและค้นหาผู้ติดเชื้อในชุมชน',\n",
              " 'คนต่างชาติเดินทางมาจากต่างประเทศ',\n",
              " 'คนไทยมาจากพื้นที่เสี่ยง',\n",
              " 'คนไทยเดินทางกลับจากต่างประเทศ',\n",
              " 'คนไทยเดินทางมาจากต่างประเทศ',\n",
              " 'ค้นหาเชิงรุก',\n",
              " 'ตรวจก่อนทำหัตถการ',\n",
              " 'ตรวจสุขภาพแรงงานต่างด้าว',\n",
              " 'ตลาด',\n",
              " 'ทัณฑสถาน/เรือนจำ',\n",
              " 'บุคลากรด้านการแพทย์และสาธารณสุข',\n",
              " 'ปอดอักเสบ (Pneumonia)',\n",
              " 'ปอดอักเสบ Pneumonia',\n",
              " 'ผับหัวหิน',\n",
              " 'ผู้ติดเชื้อในประเทศ',\n",
              " 'ผู้ที่เดินทางมาจากต่างประเทศ และเข้า AOQ',\n",
              " 'ผู้ที่เดินทางมาจากต่างประเทศ และเข้า ASQ/ALQ',\n",
              " 'ผู้ที่เดินทางมาจากต่างประเทศ และเข้า HQ/AHQ',\n",
              " 'ผู้ที่เดินทางมาจากต่างประเทศ และเข้า OQ',\n",
              " 'ผู้ป่วย PUI',\n",
              " 'ผู้ป่วย กรุงเทพมหานคร',\n",
              " 'ผู้เดินทางมาจากพื้นที่เสี่ยง กรุงเทพมหานคร.',\n",
              " 'พิธีกรรมทางศาสนา',\n",
              " 'รอประสาน',\n",
              " 'ระบุไม่ได้',\n",
              " 'ระหว่างการสอบสวนโรค',\n",
              " 'ระหว่างสอบสวน',\n",
              " 'รับจ้างขนของที่ตลาดท่ายาง',\n",
              " 'ร้านอาหาร',\n",
              " 'ศูนย์กักกัน ผู้ต้องกัก',\n",
              " 'สถานที่ทำงาน',\n",
              " 'สถานบันเทิง',\n",
              " 'สนามมวย',\n",
              " 'สัมผัสผู้ติดเชื้อยืนยัน\\nอยู่ระหว่างสอบสวน',\n",
              " 'สัมผัสผู้ติดเชื้อยืนยัน อยู่ระหว่างสอบสวน',\n",
              " 'สัมผัสผู้ป่วยที่ติดโควิด',\n",
              " 'สัมผัสผู้ป่วยยืนยัน',\n",
              " 'สัมผัสผู้ป่วยยืนยัน \\n อยู่ระหว่างสอบสวน',\n",
              " 'สัมผัสผู้ป่วยยืนยัน (ยังไม่สามารถระบุได้)',\n",
              " 'สัมผัสผู้ป่วยยืนยัน ภายในครอบครัว/ชุมชน/เพื่อน',\n",
              " 'สัมผัสผู้ป่วยยืนยัน อยุ๋ระหว่างสอบสวน',\n",
              " 'สัมผัสผู้ป่วยยืนยัน อยู่ระหว่างสอบสวน',\n",
              " 'สัมผัสผู้ป่วยยืนยันเพื่อนร่วมงาน',\n",
              " 'สัมผัสผู้เดินทางจากต่างประเทศ',\n",
              " 'สัมผัสสามีสะอาด เขตบ้าน (รพ.มหาชัย 2)',\n",
              " 'สัมผัสใกล้ชิดกับผู้ป่วยยืนยันรายก่อนหน้านี้',\n",
              " 'สัมผัสใกล้ชิดผู้ป่วยยันยันก่อนหน้า',\n",
              " 'สัมผัสใกล้ชิดผู้ป่วยยืนยันก่อนหน้า',\n",
              " 'สัมผัสในสถานพยาบาล',\n",
              " 'อยุ่ระหว่างสอบสวน',\n",
              " 'อยู่ระหว่างการสอบสวน',\n",
              " 'อยู่ระหว่างการสอบสวน\\n',\n",
              " 'อยู่ระหว่างสอบสวน',\n",
              " 'อยู่ระหว่างสอบสวนโรค',\n",
              " 'อาชีพเสี่ยง เช่น ทำงานในสถานที่แออัด หรือทำงานใกล้ชิดสัมผัสชาวต่างชาติ เป็นต้น',\n",
              " 'อาศัย/เดินทางไปในพื้นที่ที่มีการระบาด',\n",
              " 'อื่น',\n",
              " 'อื่นๆ',\n",
              " 'เดินทางมาจากพื้นที่จังหวัดเสี่ยง',\n",
              " 'เดินทางมาจากพื้นที่มีการระบาดของโรค',\n",
              " 'เดินทางมาจากพื้นที่เสี่ยงที่มีการระบาดของโรค',\n",
              " 'แรงงานต่างด้าวตรวจก่อนขึ้นทะเบียน',\n",
              " 'ไปยัง/มาจาก พื้นที่ระบาดกรุงเทพมหานครมหานคร',\n",
              " 'ไปยังพื้นที่ที่มีการระบาด',\n",
              " 'ไปสถานที่ชุมชน เช่น ตลาดนัด สถานที่ท่องเที่ยว',\n",
              " 'ไปสถานที่เสี่ยง เช่น ตลาด สถานที่ชุมชน',\n",
              " 'ไปสถานที่แออัด เช่น งานแฟร์ คอนเสิร์ต',\n",
              " 'ไปเที่ยวสถานบันเทิงในอุบลที่พบการระบาดของโรค Ubar',\n",
              " 'ไปแหล่งชุมชน/สถานที่คนหนาแน่น',\n",
              " 'ไม่มีข้อมูล'}"
            ]
          },
          "metadata": {
            "tags": []
          },
          "execution_count": 28
        }
      ]
    },
    {
      "cell_type": "markdown",
      "metadata": {
        "id": "kS5s9e2AXFFc"
      },
      "source": [
        "##Handling Missing Value 3(แทนด้วย class ใหม่(ค่าที่เหมาะสม))"
      ]
    },
    {
      "cell_type": "code",
      "metadata": {
        "colab": {
          "base_uri": "https://localhost:8080/"
        },
        "id": "RvFEDiKUXDno",
        "outputId": "1e8b7e14-79cd-4e88-ac65-1f3fbf4e4caa"
      },
      "source": [
        "set(data_cases['Unit'])"
      ],
      "execution_count": 29,
      "outputs": [
        {
          "output_type": "execute_result",
          "data": {
            "text/plain": [
              "{' วัน', ' เดือน', nan, 'ปี', 'วัน', 'เดือน'}"
            ]
          },
          "metadata": {
            "tags": []
          },
          "execution_count": 29
        }
      ]
    },
    {
      "cell_type": "code",
      "metadata": {
        "id": "nCgtCY0LYQRh"
      },
      "source": [
        "data_cases[['Unit']] = data_cases[['Unit']].fillna('ปี?') # [[]] กำหนดตัวเเปร"
      ],
      "execution_count": 30,
      "outputs": []
    },
    {
      "cell_type": "code",
      "metadata": {
        "colab": {
          "base_uri": "https://localhost:8080/"
        },
        "id": "2WoeX8QTaOLJ",
        "outputId": "4e8bd634-2ac3-4aea-8556-58dc9b05e0c9"
      },
      "source": [
        "data_cases.isnull().any() #ดูว่ามี Missing ของ Unit ไหม หลังจากลบ Missing ออก"
      ],
      "execution_count": 31,
      "outputs": [
        {
          "output_type": "execute_result",
          "data": {
            "text/plain": [
              "No.                      False\n",
              "announce_date            False\n",
              "Notified date             True\n",
              "sex                       True\n",
              "age                       True\n",
              "Unit                     False\n",
              "nationality               True\n",
              "province_of_isolation     True\n",
              "risk                     False\n",
              "province_of_onset         True\n",
              "district_of_onset         True\n",
              "dtype: bool"
            ]
          },
          "metadata": {
            "tags": []
          },
          "execution_count": 31
        }
      ]
    },
    {
      "cell_type": "markdown",
      "metadata": {
        "id": "GRs1Ad-6HPzQ"
      },
      "source": [
        "#Handing Missing Value 4 (แทนด้วย ค่ากลาง)"
      ]
    },
    {
      "cell_type": "markdown",
      "metadata": {
        "id": "IHYrNGU2Hbmy"
      },
      "source": [
        "ถ้าเป็น numberic ใช้ mean"
      ]
    },
    {
      "cell_type": "code",
      "metadata": {
        "colab": {
          "base_uri": "https://localhost:8080/"
        },
        "id": "IdxD1z3CHqNx",
        "outputId": "d7dea1b7-6b62-427b-9a69-3b74aa2b11de"
      },
      "source": [
        "# หา mean\n",
        "data_cases[['age']].mean() \n"
      ],
      "execution_count": 32,
      "outputs": [
        {
          "output_type": "execute_result",
          "data": {
            "text/plain": [
              "age    35.52947\n",
              "dtype: float64"
            ]
          },
          "metadata": {
            "tags": []
          },
          "execution_count": 32
        }
      ]
    },
    {
      "cell_type": "code",
      "metadata": {
        "colab": {
          "base_uri": "https://localhost:8080/"
        },
        "id": "t_a7AWB9JynM",
        "outputId": "db5b69dd-c1ea-40d5-c5db-78dca627d567"
      },
      "source": [
        "data_cases[['age']].dropna().mean()"
      ],
      "execution_count": 33,
      "outputs": [
        {
          "output_type": "execute_result",
          "data": {
            "text/plain": [
              "age    35.52947\n",
              "dtype: float64"
            ]
          },
          "metadata": {
            "tags": []
          },
          "execution_count": 33
        }
      ]
    },
    {
      "cell_type": "code",
      "metadata": {
        "id": "9y7tqM4iJYHO"
      },
      "source": [
        "#หา mean \n",
        "avg_age = data_cases[['age']].mean()\n",
        "#เติม mean ลงไปแทนค่า missing\n",
        "data_cases[['age']] = data_cases[['age']].fillna(avg_age)"
      ],
      "execution_count": 34,
      "outputs": []
    },
    {
      "cell_type": "code",
      "metadata": {
        "colab": {
          "base_uri": "https://localhost:8080/"
        },
        "id": "nBehw2tBKNqu",
        "outputId": "bf4f9eaf-b049-4fca-a504-7cfdedfe09cd"
      },
      "source": [
        "data_cases.isnull().any()"
      ],
      "execution_count": 35,
      "outputs": [
        {
          "output_type": "execute_result",
          "data": {
            "text/plain": [
              "No.                      False\n",
              "announce_date            False\n",
              "Notified date             True\n",
              "sex                       True\n",
              "age                      False\n",
              "Unit                     False\n",
              "nationality               True\n",
              "province_of_isolation     True\n",
              "risk                     False\n",
              "province_of_onset         True\n",
              "district_of_onset         True\n",
              "dtype: bool"
            ]
          },
          "metadata": {
            "tags": []
          },
          "execution_count": 35
        }
      ]
    },
    {
      "cell_type": "code",
      "metadata": {
        "colab": {
          "base_uri": "https://localhost:8080/"
        },
        "id": "BwUJj2wOKcYO",
        "outputId": "7686f4ca-cfb3-44b9-ebd4-42712d6b0356"
      },
      "source": [
        "data_cases[['age']].mean()  ##ค่า mean เท่าเดิม"
      ],
      "execution_count": 36,
      "outputs": [
        {
          "output_type": "execute_result",
          "data": {
            "text/plain": [
              "age    35.52947\n",
              "dtype: float64"
            ]
          },
          "metadata": {
            "tags": []
          },
          "execution_count": 36
        }
      ]
    },
    {
      "cell_type": "markdown",
      "metadata": {
        "id": "ACFFl_mkKwZc"
      },
      "source": [
        "ถ้าเป็น norminal(ตัวหนังสือ) จะใช้ mode"
      ]
    },
    {
      "cell_type": "code",
      "metadata": {
        "colab": {
          "base_uri": "https://localhost:8080/",
          "height": 0
        },
        "id": "NswCyaRkL5Iq",
        "outputId": "70fb5332-9ce6-4b28-b84c-a3330aa4dcf5"
      },
      "source": [
        "data_cases[['nationality']].mode() #ฐานนิยม"
      ],
      "execution_count": 37,
      "outputs": [
        {
          "output_type": "execute_result",
          "data": {
            "text/html": [
              "<div>\n",
              "<style scoped>\n",
              "    .dataframe tbody tr th:only-of-type {\n",
              "        vertical-align: middle;\n",
              "    }\n",
              "\n",
              "    .dataframe tbody tr th {\n",
              "        vertical-align: top;\n",
              "    }\n",
              "\n",
              "    .dataframe thead th {\n",
              "        text-align: right;\n",
              "    }\n",
              "</style>\n",
              "<table border=\"1\" class=\"dataframe\">\n",
              "  <thead>\n",
              "    <tr style=\"text-align: right;\">\n",
              "      <th></th>\n",
              "      <th>nationality</th>\n",
              "    </tr>\n",
              "  </thead>\n",
              "  <tbody>\n",
              "    <tr>\n",
              "      <th>0</th>\n",
              "      <td>Thailand</td>\n",
              "    </tr>\n",
              "  </tbody>\n",
              "</table>\n",
              "</div>"
            ],
            "text/plain": [
              "  nationality\n",
              "0    Thailand"
            ]
          },
          "metadata": {
            "tags": []
          },
          "execution_count": 37
        }
      ]
    },
    {
      "cell_type": "code",
      "metadata": {
        "colab": {
          "base_uri": "https://localhost:8080/",
          "height": 0
        },
        "id": "QErk6AbEPXXZ",
        "outputId": "73f24884-4296-4544-88bf-49a2c5cafd95"
      },
      "source": [
        "data_cases[['nationality']].mode().iloc[0,0]"
      ],
      "execution_count": 38,
      "outputs": [
        {
          "output_type": "execute_result",
          "data": {
            "application/vnd.google.colaboratory.intrinsic+json": {
              "type": "string"
            },
            "text/plain": [
              "'Thailand'"
            ]
          },
          "metadata": {
            "tags": []
          },
          "execution_count": 38
        }
      ]
    },
    {
      "cell_type": "code",
      "metadata": {
        "colab": {
          "base_uri": "https://localhost:8080/"
        },
        "id": "9sBTCcOyP4L_",
        "outputId": "570dab28-0f16-481f-a478-d89bf61abb54"
      },
      "source": [
        "data_cases['nationality'].mode()"
      ],
      "execution_count": 39,
      "outputs": [
        {
          "output_type": "execute_result",
          "data": {
            "text/plain": [
              "0    Thailand\n",
              "dtype: object"
            ]
          },
          "metadata": {
            "tags": []
          },
          "execution_count": 39
        }
      ]
    },
    {
      "cell_type": "code",
      "metadata": {
        "id": "N2hLYe3eMTT-"
      },
      "source": [
        "#หา mode\n",
        "mode_nation = data_cases[['nationality']].mode()\n",
        "#เติม mean ลงไปแทนค่า missing\n",
        "data_cases[['nationality']] = data_cases[['nationality']].fillna(mode_nation).iloc[0,0]"
      ],
      "execution_count": 40,
      "outputs": []
    },
    {
      "cell_type": "code",
      "metadata": {
        "colab": {
          "base_uri": "https://localhost:8080/"
        },
        "id": "duipwN2uMmEj",
        "outputId": "e36f2dfb-589a-4920-a3aa-756360d0afb0"
      },
      "source": [
        "data_cases.isnull().any()"
      ],
      "execution_count": 41,
      "outputs": [
        {
          "output_type": "execute_result",
          "data": {
            "text/plain": [
              "No.                      False\n",
              "announce_date            False\n",
              "Notified date             True\n",
              "sex                       True\n",
              "age                      False\n",
              "Unit                     False\n",
              "nationality              False\n",
              "province_of_isolation     True\n",
              "risk                     False\n",
              "province_of_onset         True\n",
              "district_of_onset         True\n",
              "dtype: bool"
            ]
          },
          "metadata": {
            "tags": []
          },
          "execution_count": 41
        }
      ]
    },
    {
      "cell_type": "markdown",
      "metadata": {
        "id": "PyeJzjVNRYUg"
      },
      "source": [
        "ถ้าเป็น ordinal ใช้ median"
      ]
    },
    {
      "cell_type": "markdown",
      "metadata": {
        "id": "bmq1ldy2f3-Y"
      },
      "source": [
        "#เติมด้วยค่าของ column ใกล้เคียง (เดี๋ยวย้อนกลับมา)"
      ]
    },
    {
      "cell_type": "code",
      "metadata": {
        "id": "hUpos6HwgCSL",
        "colab": {
          "base_uri": "https://localhost:8080/",
          "height": 0
        },
        "outputId": "07746426-d295-45dc-d833-88d3e1f315af"
      },
      "source": [
        "data_cases.head(20)"
      ],
      "execution_count": 42,
      "outputs": [
        {
          "output_type": "execute_result",
          "data": {
            "text/html": [
              "<div>\n",
              "<style scoped>\n",
              "    .dataframe tbody tr th:only-of-type {\n",
              "        vertical-align: middle;\n",
              "    }\n",
              "\n",
              "    .dataframe tbody tr th {\n",
              "        vertical-align: top;\n",
              "    }\n",
              "\n",
              "    .dataframe thead th {\n",
              "        text-align: right;\n",
              "    }\n",
              "</style>\n",
              "<table border=\"1\" class=\"dataframe\">\n",
              "  <thead>\n",
              "    <tr style=\"text-align: right;\">\n",
              "      <th></th>\n",
              "      <th>No.</th>\n",
              "      <th>announce_date</th>\n",
              "      <th>Notified date</th>\n",
              "      <th>sex</th>\n",
              "      <th>age</th>\n",
              "      <th>Unit</th>\n",
              "      <th>nationality</th>\n",
              "      <th>province_of_isolation</th>\n",
              "      <th>risk</th>\n",
              "      <th>province_of_onset</th>\n",
              "      <th>district_of_onset</th>\n",
              "    </tr>\n",
              "  </thead>\n",
              "  <tbody>\n",
              "    <tr>\n",
              "      <th>0</th>\n",
              "      <td>1</td>\n",
              "      <td>12/1/2020</td>\n",
              "      <td>NaN</td>\n",
              "      <td>หญิง</td>\n",
              "      <td>61.0</td>\n",
              "      <td>ปี</td>\n",
              "      <td>China</td>\n",
              "      <td>กรุงเทพมหานคร</td>\n",
              "      <td>คนต่างชาติเดินทางมาจากต่างประเทศ</td>\n",
              "      <td>กรุงเทพมหานคร</td>\n",
              "      <td>NaN</td>\n",
              "    </tr>\n",
              "    <tr>\n",
              "      <th>1</th>\n",
              "      <td>2</td>\n",
              "      <td>17/1/2020</td>\n",
              "      <td>NaN</td>\n",
              "      <td>หญิง</td>\n",
              "      <td>74.0</td>\n",
              "      <td>ปี</td>\n",
              "      <td>China</td>\n",
              "      <td>กรุงเทพมหานคร</td>\n",
              "      <td>คนต่างชาติเดินทางมาจากต่างประเทศ</td>\n",
              "      <td>กรุงเทพมหานคร</td>\n",
              "      <td>NaN</td>\n",
              "    </tr>\n",
              "    <tr>\n",
              "      <th>2</th>\n",
              "      <td>3</td>\n",
              "      <td>22/1/2020</td>\n",
              "      <td>NaN</td>\n",
              "      <td>หญิง</td>\n",
              "      <td>73.0</td>\n",
              "      <td>ปี</td>\n",
              "      <td>China</td>\n",
              "      <td>นครปฐม</td>\n",
              "      <td>คนต่างชาติเดินทางมาจากต่างประเทศ</td>\n",
              "      <td>นครปฐม</td>\n",
              "      <td>เมือง</td>\n",
              "    </tr>\n",
              "    <tr>\n",
              "      <th>3</th>\n",
              "      <td>4</td>\n",
              "      <td>22/1/2020</td>\n",
              "      <td>NaN</td>\n",
              "      <td>ชาย</td>\n",
              "      <td>68.0</td>\n",
              "      <td>ปี</td>\n",
              "      <td>China</td>\n",
              "      <td>กรุงเทพมหานคร</td>\n",
              "      <td>คนต่างชาติเดินทางมาจากต่างประเทศ</td>\n",
              "      <td>กรุงเทพมหานคร</td>\n",
              "      <td>NaN</td>\n",
              "    </tr>\n",
              "    <tr>\n",
              "      <th>4</th>\n",
              "      <td>5</td>\n",
              "      <td>24/1/2020</td>\n",
              "      <td>NaN</td>\n",
              "      <td>หญิง</td>\n",
              "      <td>66.0</td>\n",
              "      <td>ปี</td>\n",
              "      <td>China</td>\n",
              "      <td>นนทบุรี</td>\n",
              "      <td>คนต่างชาติเดินทางมาจากต่างประเทศ</td>\n",
              "      <td>กรุงเทพมหานคร</td>\n",
              "      <td>NaN</td>\n",
              "    </tr>\n",
              "    <tr>\n",
              "      <th>5</th>\n",
              "      <td>6</td>\n",
              "      <td>25/1/2020</td>\n",
              "      <td>NaN</td>\n",
              "      <td>หญิง</td>\n",
              "      <td>33.0</td>\n",
              "      <td>ปี</td>\n",
              "      <td>China</td>\n",
              "      <td>กรุงเทพมหานคร</td>\n",
              "      <td>คนต่างชาติเดินทางมาจากต่างประเทศ</td>\n",
              "      <td>กรุงเทพมหานคร</td>\n",
              "      <td>NaN</td>\n",
              "    </tr>\n",
              "    <tr>\n",
              "      <th>6</th>\n",
              "      <td>7</td>\n",
              "      <td>26/1/2020</td>\n",
              "      <td>NaN</td>\n",
              "      <td>หญิง</td>\n",
              "      <td>57.0</td>\n",
              "      <td>ปี</td>\n",
              "      <td>China</td>\n",
              "      <td>กรุงเทพมหานคร</td>\n",
              "      <td>คนต่างชาติเดินทางมาจากต่างประเทศ</td>\n",
              "      <td>กรุงเทพมหานคร</td>\n",
              "      <td>NaN</td>\n",
              "    </tr>\n",
              "    <tr>\n",
              "      <th>7</th>\n",
              "      <td>8</td>\n",
              "      <td>26/1/2020</td>\n",
              "      <td>NaN</td>\n",
              "      <td>หญิง</td>\n",
              "      <td>73.0</td>\n",
              "      <td>ปี</td>\n",
              "      <td>China</td>\n",
              "      <td>ประจวบคีรีขันธ์</td>\n",
              "      <td>คนต่างชาติเดินทางมาจากต่างประเทศ</td>\n",
              "      <td>ประจวบคีรีขันธ์</td>\n",
              "      <td>หัวหิน</td>\n",
              "    </tr>\n",
              "    <tr>\n",
              "      <th>8</th>\n",
              "      <td>9</td>\n",
              "      <td>28/1/2020</td>\n",
              "      <td>NaN</td>\n",
              "      <td>ชาย</td>\n",
              "      <td>63.0</td>\n",
              "      <td>ปี</td>\n",
              "      <td>China</td>\n",
              "      <td>กรุงเทพมหานคร</td>\n",
              "      <td>คนต่างชาติเดินทางมาจากต่างประเทศ</td>\n",
              "      <td>กรุงเทพมหานคร</td>\n",
              "      <td>NaN</td>\n",
              "    </tr>\n",
              "    <tr>\n",
              "      <th>9</th>\n",
              "      <td>10</td>\n",
              "      <td>28/1/2020</td>\n",
              "      <td>NaN</td>\n",
              "      <td>หญิง</td>\n",
              "      <td>28.0</td>\n",
              "      <td>ปี</td>\n",
              "      <td>China</td>\n",
              "      <td>นนทบุรี</td>\n",
              "      <td>คนต่างชาติเดินทางมาจากต่างประเทศ</td>\n",
              "      <td>นนทบุรี</td>\n",
              "      <td>NaN</td>\n",
              "    </tr>\n",
              "    <tr>\n",
              "      <th>10</th>\n",
              "      <td>11</td>\n",
              "      <td>28/1/2020</td>\n",
              "      <td>NaN</td>\n",
              "      <td>ชาย</td>\n",
              "      <td>33.0</td>\n",
              "      <td>ปี</td>\n",
              "      <td>China</td>\n",
              "      <td>กรุงเทพมหานคร</td>\n",
              "      <td>สัมผัสใกล้ชิดกับผู้ป่วยยืนยันรายก่อนหน้านี้</td>\n",
              "      <td>กรุงเทพมหานคร</td>\n",
              "      <td>NaN</td>\n",
              "    </tr>\n",
              "    <tr>\n",
              "      <th>11</th>\n",
              "      <td>12</td>\n",
              "      <td>28/1/2020</td>\n",
              "      <td>NaN</td>\n",
              "      <td>ชาย</td>\n",
              "      <td>61.0</td>\n",
              "      <td>ปี</td>\n",
              "      <td>China</td>\n",
              "      <td>กรุงเทพมหานคร</td>\n",
              "      <td>สัมผัสใกล้ชิดกับผู้ป่วยยืนยันรายก่อนหน้านี้</td>\n",
              "      <td>กรุงเทพมหานคร</td>\n",
              "      <td>NaN</td>\n",
              "    </tr>\n",
              "    <tr>\n",
              "      <th>12</th>\n",
              "      <td>13</td>\n",
              "      <td>28/1/2020</td>\n",
              "      <td>NaN</td>\n",
              "      <td>ชาย</td>\n",
              "      <td>6.0</td>\n",
              "      <td>ปี</td>\n",
              "      <td>China</td>\n",
              "      <td>กรุงเทพมหานคร</td>\n",
              "      <td>สัมผัสใกล้ชิดกับผู้ป่วยยืนยันรายก่อนหน้านี้</td>\n",
              "      <td>กรุงเทพมหานคร</td>\n",
              "      <td>NaN</td>\n",
              "    </tr>\n",
              "    <tr>\n",
              "      <th>13</th>\n",
              "      <td>14</td>\n",
              "      <td>28/1/2020</td>\n",
              "      <td>NaN</td>\n",
              "      <td>หญิง</td>\n",
              "      <td>32.0</td>\n",
              "      <td>ปี</td>\n",
              "      <td>China</td>\n",
              "      <td>ภูเก็ต</td>\n",
              "      <td>คนต่างชาติเดินทางมาจากต่างประเทศ</td>\n",
              "      <td>ภูเก็ต</td>\n",
              "      <td>เมือง</td>\n",
              "    </tr>\n",
              "    <tr>\n",
              "      <th>14</th>\n",
              "      <td>15</td>\n",
              "      <td>31/1/2020</td>\n",
              "      <td>NaN</td>\n",
              "      <td>ชาย</td>\n",
              "      <td>56.0</td>\n",
              "      <td>ปี</td>\n",
              "      <td>China</td>\n",
              "      <td>กรุงเทพมหานคร</td>\n",
              "      <td>คนต่างชาติเดินทางมาจากต่างประเทศ</td>\n",
              "      <td>กรุงเทพมหานคร</td>\n",
              "      <td>NaN</td>\n",
              "    </tr>\n",
              "    <tr>\n",
              "      <th>15</th>\n",
              "      <td>16</td>\n",
              "      <td>31/1/2020</td>\n",
              "      <td>NaN</td>\n",
              "      <td>ชาย</td>\n",
              "      <td>50.0</td>\n",
              "      <td>ปี</td>\n",
              "      <td>China</td>\n",
              "      <td>กรุงเทพมหานคร</td>\n",
              "      <td>อาชีพเสี่ยง เช่น ทำงานในสถานที่แออัด หรือทำงาน...</td>\n",
              "      <td>กรุงเทพมหานคร</td>\n",
              "      <td>NaN</td>\n",
              "    </tr>\n",
              "    <tr>\n",
              "      <th>16</th>\n",
              "      <td>17</td>\n",
              "      <td>31/1/2020</td>\n",
              "      <td>NaN</td>\n",
              "      <td>ชาย</td>\n",
              "      <td>28.0</td>\n",
              "      <td>ปี</td>\n",
              "      <td>China</td>\n",
              "      <td>เชียงใหม่</td>\n",
              "      <td>คนต่างชาติเดินทางมาจากต่างประเทศ</td>\n",
              "      <td>เชียงใหม่</td>\n",
              "      <td>หางดง</td>\n",
              "    </tr>\n",
              "    <tr>\n",
              "      <th>17</th>\n",
              "      <td>18</td>\n",
              "      <td>31/1/2020</td>\n",
              "      <td>NaN</td>\n",
              "      <td>ชาย</td>\n",
              "      <td>30.0</td>\n",
              "      <td>ปี</td>\n",
              "      <td>China</td>\n",
              "      <td>กรุงเทพมหานคร</td>\n",
              "      <td>คนต่างชาติเดินทางมาจากต่างประเทศ</td>\n",
              "      <td>กรุงเทพมหานคร</td>\n",
              "      <td>NaN</td>\n",
              "    </tr>\n",
              "    <tr>\n",
              "      <th>18</th>\n",
              "      <td>19</td>\n",
              "      <td>31/1/2020</td>\n",
              "      <td>NaN</td>\n",
              "      <td>ชาย</td>\n",
              "      <td>33.0</td>\n",
              "      <td>ปี</td>\n",
              "      <td>China</td>\n",
              "      <td>กรุงเทพมหานคร</td>\n",
              "      <td>คนต่างชาติเดินทางมาจากต่างประเทศ</td>\n",
              "      <td>กรุงเทพมหานคร</td>\n",
              "      <td>NaN</td>\n",
              "    </tr>\n",
              "    <tr>\n",
              "      <th>19</th>\n",
              "      <td>20</td>\n",
              "      <td>4/2/2020</td>\n",
              "      <td>NaN</td>\n",
              "      <td>หญิง</td>\n",
              "      <td>43.0</td>\n",
              "      <td>ปี</td>\n",
              "      <td>China</td>\n",
              "      <td>กรุงเทพมหานคร</td>\n",
              "      <td>คนไทยเดินทางกลับจากต่างประเทศ</td>\n",
              "      <td>กรุงเทพมหานคร</td>\n",
              "      <td>NaN</td>\n",
              "    </tr>\n",
              "  </tbody>\n",
              "</table>\n",
              "</div>"
            ],
            "text/plain": [
              "    No. announce_date  ... province_of_onset district_of_onset\n",
              "0     1     12/1/2020  ...     กรุงเทพมหานคร               NaN\n",
              "1     2     17/1/2020  ...     กรุงเทพมหานคร               NaN\n",
              "2     3     22/1/2020  ...            นครปฐม             เมือง\n",
              "3     4     22/1/2020  ...     กรุงเทพมหานคร               NaN\n",
              "4     5     24/1/2020  ...     กรุงเทพมหานคร               NaN\n",
              "5     6     25/1/2020  ...     กรุงเทพมหานคร               NaN\n",
              "6     7     26/1/2020  ...     กรุงเทพมหานคร               NaN\n",
              "7     8     26/1/2020  ...   ประจวบคีรีขันธ์            หัวหิน\n",
              "8     9     28/1/2020  ...     กรุงเทพมหานคร               NaN\n",
              "9    10     28/1/2020  ...           นนทบุรี               NaN\n",
              "10   11     28/1/2020  ...     กรุงเทพมหานคร               NaN\n",
              "11   12     28/1/2020  ...     กรุงเทพมหานคร               NaN\n",
              "12   13     28/1/2020  ...     กรุงเทพมหานคร               NaN\n",
              "13   14     28/1/2020  ...            ภูเก็ต             เมือง\n",
              "14   15     31/1/2020  ...     กรุงเทพมหานคร               NaN\n",
              "15   16     31/1/2020  ...     กรุงเทพมหานคร               NaN\n",
              "16   17     31/1/2020  ...         เชียงใหม่             หางดง\n",
              "17   18     31/1/2020  ...     กรุงเทพมหานคร               NaN\n",
              "18   19     31/1/2020  ...     กรุงเทพมหานคร               NaN\n",
              "19   20      4/2/2020  ...     กรุงเทพมหานคร               NaN\n",
              "\n",
              "[20 rows x 11 columns]"
            ]
          },
          "metadata": {
            "tags": []
          },
          "execution_count": 42
        }
      ]
    },
    {
      "cell_type": "markdown",
      "metadata": {
        "id": "zV2R3-f-SnUA"
      },
      "source": [
        "#Handing Missing Value 5 (แทนด้วย ค่ากลางของ samples ใน class เดียวกัน) "
      ]
    },
    {
      "cell_type": "code",
      "metadata": {
        "colab": {
          "base_uri": "https://localhost:8080/",
          "height": 0
        },
        "id": "bFPQJfZFUaK-",
        "outputId": "2ff6a8b6-f395-4cbe-c037-9f27adb894e4"
      },
      "source": [
        "data_cases2 = pd.read_csv(os.path.join(path,'confirmed-cases.csv'))\n",
        "data_cases2"
      ],
      "execution_count": 43,
      "outputs": [
        {
          "output_type": "execute_result",
          "data": {
            "text/html": [
              "<div>\n",
              "<style scoped>\n",
              "    .dataframe tbody tr th:only-of-type {\n",
              "        vertical-align: middle;\n",
              "    }\n",
              "\n",
              "    .dataframe tbody tr th {\n",
              "        vertical-align: top;\n",
              "    }\n",
              "\n",
              "    .dataframe thead th {\n",
              "        text-align: right;\n",
              "    }\n",
              "</style>\n",
              "<table border=\"1\" class=\"dataframe\">\n",
              "  <thead>\n",
              "    <tr style=\"text-align: right;\">\n",
              "      <th></th>\n",
              "      <th>No.</th>\n",
              "      <th>announce_date</th>\n",
              "      <th>Notified date</th>\n",
              "      <th>sex</th>\n",
              "      <th>age</th>\n",
              "      <th>Unit</th>\n",
              "      <th>nationality</th>\n",
              "      <th>province_of_isolation</th>\n",
              "      <th>risk</th>\n",
              "      <th>province_of_onset</th>\n",
              "      <th>district_of_onset</th>\n",
              "    </tr>\n",
              "  </thead>\n",
              "  <tbody>\n",
              "    <tr>\n",
              "      <th>0</th>\n",
              "      <td>1</td>\n",
              "      <td>12/1/2020</td>\n",
              "      <td>NaN</td>\n",
              "      <td>หญิง</td>\n",
              "      <td>61.0</td>\n",
              "      <td>ปี</td>\n",
              "      <td>China</td>\n",
              "      <td>กรุงเทพมหานคร</td>\n",
              "      <td>คนต่างชาติเดินทางมาจากต่างประเทศ</td>\n",
              "      <td>กรุงเทพมหานคร</td>\n",
              "      <td>NaN</td>\n",
              "    </tr>\n",
              "    <tr>\n",
              "      <th>1</th>\n",
              "      <td>2</td>\n",
              "      <td>17/1/2020</td>\n",
              "      <td>NaN</td>\n",
              "      <td>หญิง</td>\n",
              "      <td>74.0</td>\n",
              "      <td>ปี</td>\n",
              "      <td>China</td>\n",
              "      <td>กรุงเทพมหานคร</td>\n",
              "      <td>คนต่างชาติเดินทางมาจากต่างประเทศ</td>\n",
              "      <td>กรุงเทพมหานคร</td>\n",
              "      <td>NaN</td>\n",
              "    </tr>\n",
              "    <tr>\n",
              "      <th>2</th>\n",
              "      <td>3</td>\n",
              "      <td>22/1/2020</td>\n",
              "      <td>NaN</td>\n",
              "      <td>หญิง</td>\n",
              "      <td>73.0</td>\n",
              "      <td>ปี</td>\n",
              "      <td>Thailand</td>\n",
              "      <td>นครปฐม</td>\n",
              "      <td>คนต่างชาติเดินทางมาจากต่างประเทศ</td>\n",
              "      <td>นครปฐม</td>\n",
              "      <td>เมือง</td>\n",
              "    </tr>\n",
              "    <tr>\n",
              "      <th>3</th>\n",
              "      <td>4</td>\n",
              "      <td>22/1/2020</td>\n",
              "      <td>NaN</td>\n",
              "      <td>ชาย</td>\n",
              "      <td>68.0</td>\n",
              "      <td>ปี</td>\n",
              "      <td>China</td>\n",
              "      <td>กรุงเทพมหานคร</td>\n",
              "      <td>คนต่างชาติเดินทางมาจากต่างประเทศ</td>\n",
              "      <td>กรุงเทพมหานคร</td>\n",
              "      <td>NaN</td>\n",
              "    </tr>\n",
              "    <tr>\n",
              "      <th>4</th>\n",
              "      <td>5</td>\n",
              "      <td>24/1/2020</td>\n",
              "      <td>NaN</td>\n",
              "      <td>หญิง</td>\n",
              "      <td>66.0</td>\n",
              "      <td>ปี</td>\n",
              "      <td>China</td>\n",
              "      <td>นนทบุรี</td>\n",
              "      <td>คนต่างชาติเดินทางมาจากต่างประเทศ</td>\n",
              "      <td>กรุงเทพมหานคร</td>\n",
              "      <td>NaN</td>\n",
              "    </tr>\n",
              "    <tr>\n",
              "      <th>...</th>\n",
              "      <td>...</td>\n",
              "      <td>...</td>\n",
              "      <td>...</td>\n",
              "      <td>...</td>\n",
              "      <td>...</td>\n",
              "      <td>...</td>\n",
              "      <td>...</td>\n",
              "      <td>...</td>\n",
              "      <td>...</td>\n",
              "      <td>...</td>\n",
              "      <td>...</td>\n",
              "    </tr>\n",
              "    <tr>\n",
              "      <th>512617</th>\n",
              "      <td>512618</td>\n",
              "      <td>26/7/2021</td>\n",
              "      <td>25/7/2021</td>\n",
              "      <td>ชาย</td>\n",
              "      <td>NaN</td>\n",
              "      <td>NaN</td>\n",
              "      <td>NaN</td>\n",
              "      <td>ชลบุรี</td>\n",
              "      <td>ทัณฑสถาน/เรือนจำ</td>\n",
              "      <td>NaN</td>\n",
              "      <td>NaN</td>\n",
              "    </tr>\n",
              "    <tr>\n",
              "      <th>512618</th>\n",
              "      <td>512619</td>\n",
              "      <td>26/7/2021</td>\n",
              "      <td>25/7/2021</td>\n",
              "      <td>ชาย</td>\n",
              "      <td>NaN</td>\n",
              "      <td>NaN</td>\n",
              "      <td>NaN</td>\n",
              "      <td>ชลบุรี</td>\n",
              "      <td>ทัณฑสถาน/เรือนจำ</td>\n",
              "      <td>NaN</td>\n",
              "      <td>NaN</td>\n",
              "    </tr>\n",
              "    <tr>\n",
              "      <th>512619</th>\n",
              "      <td>512620</td>\n",
              "      <td>26/7/2021</td>\n",
              "      <td>25/7/2021</td>\n",
              "      <td>ชาย</td>\n",
              "      <td>NaN</td>\n",
              "      <td>NaN</td>\n",
              "      <td>NaN</td>\n",
              "      <td>ชลบุรี</td>\n",
              "      <td>ทัณฑสถาน/เรือนจำ</td>\n",
              "      <td>NaN</td>\n",
              "      <td>NaN</td>\n",
              "    </tr>\n",
              "    <tr>\n",
              "      <th>512620</th>\n",
              "      <td>512621</td>\n",
              "      <td>26/7/2021</td>\n",
              "      <td>25/7/2021</td>\n",
              "      <td>ชาย</td>\n",
              "      <td>NaN</td>\n",
              "      <td>NaN</td>\n",
              "      <td>NaN</td>\n",
              "      <td>ชลบุรี</td>\n",
              "      <td>ทัณฑสถาน/เรือนจำ</td>\n",
              "      <td>NaN</td>\n",
              "      <td>NaN</td>\n",
              "    </tr>\n",
              "    <tr>\n",
              "      <th>512621</th>\n",
              "      <td>512622</td>\n",
              "      <td>26/7/2021</td>\n",
              "      <td>25/7/2021</td>\n",
              "      <td>ชาย</td>\n",
              "      <td>NaN</td>\n",
              "      <td>NaN</td>\n",
              "      <td>NaN</td>\n",
              "      <td>ชลบุรี</td>\n",
              "      <td>ทัณฑสถาน/เรือนจำ</td>\n",
              "      <td>NaN</td>\n",
              "      <td>NaN</td>\n",
              "    </tr>\n",
              "  </tbody>\n",
              "</table>\n",
              "<p>512622 rows × 11 columns</p>\n",
              "</div>"
            ],
            "text/plain": [
              "           No. announce_date  ... province_of_onset district_of_onset\n",
              "0            1     12/1/2020  ...     กรุงเทพมหานคร               NaN\n",
              "1            2     17/1/2020  ...     กรุงเทพมหานคร               NaN\n",
              "2            3     22/1/2020  ...            นครปฐม             เมือง\n",
              "3            4     22/1/2020  ...     กรุงเทพมหานคร               NaN\n",
              "4            5     24/1/2020  ...     กรุงเทพมหานคร               NaN\n",
              "...        ...           ...  ...               ...               ...\n",
              "512617  512618     26/7/2021  ...               NaN               NaN\n",
              "512618  512619     26/7/2021  ...               NaN               NaN\n",
              "512619  512620     26/7/2021  ...               NaN               NaN\n",
              "512620  512621     26/7/2021  ...               NaN               NaN\n",
              "512621  512622     26/7/2021  ...               NaN               NaN\n",
              "\n",
              "[512622 rows x 11 columns]"
            ]
          },
          "metadata": {
            "tags": []
          },
          "execution_count": 43
        }
      ]
    },
    {
      "cell_type": "markdown",
      "metadata": {
        "id": "uXb3aUT3UbxN"
      },
      "source": [
        "#Select data by values [PD]"
      ]
    },
    {
      "cell_type": "markdown",
      "metadata": {
        "id": "yQ7nsFFzVLvh"
      },
      "source": [
        "การเลือก record สามารถเลือกโดยใช้ ```list ของ boolean ```(ความยาวของ list เท่ากับ จำนวน record)\n",
        "\n",
        "```ชื่อตาราง[list ของ boolean]```"
      ]
    },
    {
      "cell_type": "markdown",
      "metadata": {
        "id": "-1yhY3TtWYtt"
      },
      "source": [
        "สร้าง list ของ boolean"
      ]
    },
    {
      "cell_type": "code",
      "metadata": {
        "colab": {
          "base_uri": "https://localhost:8080/"
        },
        "id": "yMygXvuJUjph",
        "outputId": "0e1055fa-3372-4ee0-e1ca-8232f557a473"
      },
      "source": [
        "data_cases2['risk'] == 'ทัณฑสถาน/เรือนจำ'"
      ],
      "execution_count": 44,
      "outputs": [
        {
          "output_type": "execute_result",
          "data": {
            "text/plain": [
              "0         False\n",
              "1         False\n",
              "2         False\n",
              "3         False\n",
              "4         False\n",
              "          ...  \n",
              "512617     True\n",
              "512618     True\n",
              "512619     True\n",
              "512620     True\n",
              "512621     True\n",
              "Name: risk, Length: 512622, dtype: bool"
            ]
          },
          "metadata": {
            "tags": []
          },
          "execution_count": 44
        }
      ]
    },
    {
      "cell_type": "markdown",
      "metadata": {
        "id": "HAq4j-pqa50p"
      },
      "source": [
        "นำ list ของ boolean มาเลือกค่าในตาราง"
      ]
    },
    {
      "cell_type": "code",
      "metadata": {
        "colab": {
          "base_uri": "https://localhost:8080/",
          "height": 0
        },
        "id": "WidGrk1TWG2I",
        "outputId": "704c735f-0553-4745-cf1c-ab663bdd3a61"
      },
      "source": [
        "data_cases2[data_cases2['risk'] == 'ทัณฑสถาน/เรือนจำ']"
      ],
      "execution_count": 45,
      "outputs": [
        {
          "output_type": "execute_result",
          "data": {
            "text/html": [
              "<div>\n",
              "<style scoped>\n",
              "    .dataframe tbody tr th:only-of-type {\n",
              "        vertical-align: middle;\n",
              "    }\n",
              "\n",
              "    .dataframe tbody tr th {\n",
              "        vertical-align: top;\n",
              "    }\n",
              "\n",
              "    .dataframe thead th {\n",
              "        text-align: right;\n",
              "    }\n",
              "</style>\n",
              "<table border=\"1\" class=\"dataframe\">\n",
              "  <thead>\n",
              "    <tr style=\"text-align: right;\">\n",
              "      <th></th>\n",
              "      <th>No.</th>\n",
              "      <th>announce_date</th>\n",
              "      <th>Notified date</th>\n",
              "      <th>sex</th>\n",
              "      <th>age</th>\n",
              "      <th>Unit</th>\n",
              "      <th>nationality</th>\n",
              "      <th>province_of_isolation</th>\n",
              "      <th>risk</th>\n",
              "      <th>province_of_onset</th>\n",
              "      <th>district_of_onset</th>\n",
              "    </tr>\n",
              "  </thead>\n",
              "  <tbody>\n",
              "    <tr>\n",
              "      <th>100018</th>\n",
              "      <td>100019</td>\n",
              "      <td>16/5/2021</td>\n",
              "      <td>15/5/2021</td>\n",
              "      <td>หญิง</td>\n",
              "      <td>26.0</td>\n",
              "      <td>ปี</td>\n",
              "      <td>Thailand</td>\n",
              "      <td>ฉะเชิงเทรา</td>\n",
              "      <td>ทัณฑสถาน/เรือนจำ</td>\n",
              "      <td>ฉะเชิงเทรา</td>\n",
              "      <td>เมืองฉะเชิงเทรา‎</td>\n",
              "    </tr>\n",
              "    <tr>\n",
              "      <th>100019</th>\n",
              "      <td>100020</td>\n",
              "      <td>16/5/2021</td>\n",
              "      <td>15/5/2021</td>\n",
              "      <td>หญิง</td>\n",
              "      <td>41.0</td>\n",
              "      <td>ปี</td>\n",
              "      <td>Thailand</td>\n",
              "      <td>ฉะเชิงเทรา</td>\n",
              "      <td>ทัณฑสถาน/เรือนจำ</td>\n",
              "      <td>ฉะเชิงเทรา</td>\n",
              "      <td>เมืองฉะเชิงเทรา‎</td>\n",
              "    </tr>\n",
              "    <tr>\n",
              "      <th>101468</th>\n",
              "      <td>101469</td>\n",
              "      <td>17/5/2021</td>\n",
              "      <td>16/5/2021</td>\n",
              "      <td>NaN</td>\n",
              "      <td>NaN</td>\n",
              "      <td>NaN</td>\n",
              "      <td>NaN</td>\n",
              "      <td>เชียงใหม่</td>\n",
              "      <td>ทัณฑสถาน/เรือนจำ</td>\n",
              "      <td>NaN</td>\n",
              "      <td>NaN</td>\n",
              "    </tr>\n",
              "    <tr>\n",
              "      <th>101469</th>\n",
              "      <td>101470</td>\n",
              "      <td>17/5/2021</td>\n",
              "      <td>16/5/2021</td>\n",
              "      <td>NaN</td>\n",
              "      <td>NaN</td>\n",
              "      <td>NaN</td>\n",
              "      <td>NaN</td>\n",
              "      <td>เชียงใหม่</td>\n",
              "      <td>ทัณฑสถาน/เรือนจำ</td>\n",
              "      <td>NaN</td>\n",
              "      <td>NaN</td>\n",
              "    </tr>\n",
              "    <tr>\n",
              "      <th>101470</th>\n",
              "      <td>101471</td>\n",
              "      <td>17/5/2021</td>\n",
              "      <td>16/5/2021</td>\n",
              "      <td>NaN</td>\n",
              "      <td>NaN</td>\n",
              "      <td>NaN</td>\n",
              "      <td>NaN</td>\n",
              "      <td>เชียงใหม่</td>\n",
              "      <td>ทัณฑสถาน/เรือนจำ</td>\n",
              "      <td>NaN</td>\n",
              "      <td>NaN</td>\n",
              "    </tr>\n",
              "    <tr>\n",
              "      <th>...</th>\n",
              "      <td>...</td>\n",
              "      <td>...</td>\n",
              "      <td>...</td>\n",
              "      <td>...</td>\n",
              "      <td>...</td>\n",
              "      <td>...</td>\n",
              "      <td>...</td>\n",
              "      <td>...</td>\n",
              "      <td>...</td>\n",
              "      <td>...</td>\n",
              "      <td>...</td>\n",
              "    </tr>\n",
              "    <tr>\n",
              "      <th>512617</th>\n",
              "      <td>512618</td>\n",
              "      <td>26/7/2021</td>\n",
              "      <td>25/7/2021</td>\n",
              "      <td>ชาย</td>\n",
              "      <td>NaN</td>\n",
              "      <td>NaN</td>\n",
              "      <td>NaN</td>\n",
              "      <td>ชลบุรี</td>\n",
              "      <td>ทัณฑสถาน/เรือนจำ</td>\n",
              "      <td>NaN</td>\n",
              "      <td>NaN</td>\n",
              "    </tr>\n",
              "    <tr>\n",
              "      <th>512618</th>\n",
              "      <td>512619</td>\n",
              "      <td>26/7/2021</td>\n",
              "      <td>25/7/2021</td>\n",
              "      <td>ชาย</td>\n",
              "      <td>NaN</td>\n",
              "      <td>NaN</td>\n",
              "      <td>NaN</td>\n",
              "      <td>ชลบุรี</td>\n",
              "      <td>ทัณฑสถาน/เรือนจำ</td>\n",
              "      <td>NaN</td>\n",
              "      <td>NaN</td>\n",
              "    </tr>\n",
              "    <tr>\n",
              "      <th>512619</th>\n",
              "      <td>512620</td>\n",
              "      <td>26/7/2021</td>\n",
              "      <td>25/7/2021</td>\n",
              "      <td>ชาย</td>\n",
              "      <td>NaN</td>\n",
              "      <td>NaN</td>\n",
              "      <td>NaN</td>\n",
              "      <td>ชลบุรี</td>\n",
              "      <td>ทัณฑสถาน/เรือนจำ</td>\n",
              "      <td>NaN</td>\n",
              "      <td>NaN</td>\n",
              "    </tr>\n",
              "    <tr>\n",
              "      <th>512620</th>\n",
              "      <td>512621</td>\n",
              "      <td>26/7/2021</td>\n",
              "      <td>25/7/2021</td>\n",
              "      <td>ชาย</td>\n",
              "      <td>NaN</td>\n",
              "      <td>NaN</td>\n",
              "      <td>NaN</td>\n",
              "      <td>ชลบุรี</td>\n",
              "      <td>ทัณฑสถาน/เรือนจำ</td>\n",
              "      <td>NaN</td>\n",
              "      <td>NaN</td>\n",
              "    </tr>\n",
              "    <tr>\n",
              "      <th>512621</th>\n",
              "      <td>512622</td>\n",
              "      <td>26/7/2021</td>\n",
              "      <td>25/7/2021</td>\n",
              "      <td>ชาย</td>\n",
              "      <td>NaN</td>\n",
              "      <td>NaN</td>\n",
              "      <td>NaN</td>\n",
              "      <td>ชลบุรี</td>\n",
              "      <td>ทัณฑสถาน/เรือนจำ</td>\n",
              "      <td>NaN</td>\n",
              "      <td>NaN</td>\n",
              "    </tr>\n",
              "  </tbody>\n",
              "</table>\n",
              "<p>41331 rows × 11 columns</p>\n",
              "</div>"
            ],
            "text/plain": [
              "           No. announce_date  ... province_of_onset district_of_onset\n",
              "100018  100019     16/5/2021  ...        ฉะเชิงเทรา  เมืองฉะเชิงเทรา‎\n",
              "100019  100020     16/5/2021  ...        ฉะเชิงเทรา  เมืองฉะเชิงเทรา‎\n",
              "101468  101469     17/5/2021  ...               NaN               NaN\n",
              "101469  101470     17/5/2021  ...               NaN               NaN\n",
              "101470  101471     17/5/2021  ...               NaN               NaN\n",
              "...        ...           ...  ...               ...               ...\n",
              "512617  512618     26/7/2021  ...               NaN               NaN\n",
              "512618  512619     26/7/2021  ...               NaN               NaN\n",
              "512619  512620     26/7/2021  ...               NaN               NaN\n",
              "512620  512621     26/7/2021  ...               NaN               NaN\n",
              "512621  512622     26/7/2021  ...               NaN               NaN\n",
              "\n",
              "[41331 rows x 11 columns]"
            ]
          },
          "metadata": {
            "tags": []
          },
          "execution_count": 45
        }
      ]
    },
    {
      "cell_type": "markdown",
      "metadata": {
        "id": "ltdZSXUoWtD6"
      },
      "source": [
        "สร้าง list ของ boolean"
      ]
    },
    {
      "cell_type": "code",
      "metadata": {
        "colab": {
          "base_uri": "https://localhost:8080/"
        },
        "id": "XFTVEwmrWum6",
        "outputId": "47d564b7-cedf-4ec8-d079-447ea5ce1bf1"
      },
      "source": [
        "data_cases2['age'] > 70\n"
      ],
      "execution_count": 46,
      "outputs": [
        {
          "output_type": "execute_result",
          "data": {
            "text/plain": [
              "0         False\n",
              "1          True\n",
              "2          True\n",
              "3         False\n",
              "4         False\n",
              "          ...  \n",
              "512617    False\n",
              "512618    False\n",
              "512619    False\n",
              "512620    False\n",
              "512621    False\n",
              "Name: age, Length: 512622, dtype: bool"
            ]
          },
          "metadata": {
            "tags": []
          },
          "execution_count": 46
        }
      ]
    },
    {
      "cell_type": "markdown",
      "metadata": {
        "id": "4nkF6vYWbeCv"
      },
      "source": [
        "เลือก"
      ]
    },
    {
      "cell_type": "code",
      "metadata": {
        "colab": {
          "base_uri": "https://localhost:8080/",
          "height": 0
        },
        "id": "NO35f5MqXRNa",
        "outputId": "8a3aeac4-f02d-417f-f04d-f86cc3c648f6"
      },
      "source": [
        "data_cases2[data_cases2['age'] > 70]"
      ],
      "execution_count": 47,
      "outputs": [
        {
          "output_type": "execute_result",
          "data": {
            "text/html": [
              "<div>\n",
              "<style scoped>\n",
              "    .dataframe tbody tr th:only-of-type {\n",
              "        vertical-align: middle;\n",
              "    }\n",
              "\n",
              "    .dataframe tbody tr th {\n",
              "        vertical-align: top;\n",
              "    }\n",
              "\n",
              "    .dataframe thead th {\n",
              "        text-align: right;\n",
              "    }\n",
              "</style>\n",
              "<table border=\"1\" class=\"dataframe\">\n",
              "  <thead>\n",
              "    <tr style=\"text-align: right;\">\n",
              "      <th></th>\n",
              "      <th>No.</th>\n",
              "      <th>announce_date</th>\n",
              "      <th>Notified date</th>\n",
              "      <th>sex</th>\n",
              "      <th>age</th>\n",
              "      <th>Unit</th>\n",
              "      <th>nationality</th>\n",
              "      <th>province_of_isolation</th>\n",
              "      <th>risk</th>\n",
              "      <th>province_of_onset</th>\n",
              "      <th>district_of_onset</th>\n",
              "    </tr>\n",
              "  </thead>\n",
              "  <tbody>\n",
              "    <tr>\n",
              "      <th>1</th>\n",
              "      <td>2</td>\n",
              "      <td>17/1/2020</td>\n",
              "      <td>NaN</td>\n",
              "      <td>หญิง</td>\n",
              "      <td>74.0</td>\n",
              "      <td>ปี</td>\n",
              "      <td>China</td>\n",
              "      <td>กรุงเทพมหานคร</td>\n",
              "      <td>คนต่างชาติเดินทางมาจากต่างประเทศ</td>\n",
              "      <td>กรุงเทพมหานคร</td>\n",
              "      <td>NaN</td>\n",
              "    </tr>\n",
              "    <tr>\n",
              "      <th>2</th>\n",
              "      <td>3</td>\n",
              "      <td>22/1/2020</td>\n",
              "      <td>NaN</td>\n",
              "      <td>หญิง</td>\n",
              "      <td>73.0</td>\n",
              "      <td>ปี</td>\n",
              "      <td>Thailand</td>\n",
              "      <td>นครปฐม</td>\n",
              "      <td>คนต่างชาติเดินทางมาจากต่างประเทศ</td>\n",
              "      <td>นครปฐม</td>\n",
              "      <td>เมือง</td>\n",
              "    </tr>\n",
              "    <tr>\n",
              "      <th>7</th>\n",
              "      <td>8</td>\n",
              "      <td>26/1/2020</td>\n",
              "      <td>NaN</td>\n",
              "      <td>หญิง</td>\n",
              "      <td>73.0</td>\n",
              "      <td>ปี</td>\n",
              "      <td>China</td>\n",
              "      <td>ประจวบคีรีขันธ์</td>\n",
              "      <td>คนต่างชาติเดินทางมาจากต่างประเทศ</td>\n",
              "      <td>ประจวบคีรีขันธ์</td>\n",
              "      <td>หัวหิน</td>\n",
              "    </tr>\n",
              "    <tr>\n",
              "      <th>82</th>\n",
              "      <td>83</td>\n",
              "      <td>15/3/2020</td>\n",
              "      <td>NaN</td>\n",
              "      <td>ชาย</td>\n",
              "      <td>76.0</td>\n",
              "      <td>ปี</td>\n",
              "      <td>Thailand</td>\n",
              "      <td>กรุงเทพมหานคร</td>\n",
              "      <td>สนามมวย</td>\n",
              "      <td>กรุงเทพมหานคร</td>\n",
              "      <td>NaN</td>\n",
              "    </tr>\n",
              "    <tr>\n",
              "      <th>119</th>\n",
              "      <td>120</td>\n",
              "      <td>16/3/2020</td>\n",
              "      <td>NaN</td>\n",
              "      <td>ชาย</td>\n",
              "      <td>73.0</td>\n",
              "      <td>ปี</td>\n",
              "      <td>Thailand</td>\n",
              "      <td>กรุงเทพมหานคร</td>\n",
              "      <td>สนามมวย</td>\n",
              "      <td>ฉะเชิงเทรา</td>\n",
              "      <td>NaN</td>\n",
              "    </tr>\n",
              "    <tr>\n",
              "      <th>...</th>\n",
              "      <td>...</td>\n",
              "      <td>...</td>\n",
              "      <td>...</td>\n",
              "      <td>...</td>\n",
              "      <td>...</td>\n",
              "      <td>...</td>\n",
              "      <td>...</td>\n",
              "      <td>...</td>\n",
              "      <td>...</td>\n",
              "      <td>...</td>\n",
              "      <td>...</td>\n",
              "    </tr>\n",
              "    <tr>\n",
              "      <th>511418</th>\n",
              "      <td>511419</td>\n",
              "      <td>26/7/2021</td>\n",
              "      <td>25/7/2021</td>\n",
              "      <td>หญิง</td>\n",
              "      <td>73.0</td>\n",
              "      <td>ปี</td>\n",
              "      <td>Thailand</td>\n",
              "      <td>กรุงเทพมหานคร</td>\n",
              "      <td>การค้นหาผู้ป่วยเชิงรุกและค้นหาผู้ติดเชื้อในชุมชน</td>\n",
              "      <td>กรุงเทพมหานคร</td>\n",
              "      <td>ราชเทวี</td>\n",
              "    </tr>\n",
              "    <tr>\n",
              "      <th>511463</th>\n",
              "      <td>511464</td>\n",
              "      <td>26/7/2021</td>\n",
              "      <td>25/7/2021</td>\n",
              "      <td>หญิง</td>\n",
              "      <td>83.0</td>\n",
              "      <td>ปี</td>\n",
              "      <td>NaN</td>\n",
              "      <td>กรุงเทพมหานคร</td>\n",
              "      <td>การค้นหาผู้ป่วยเชิงรุกและค้นหาผู้ติดเชื้อในชุมชน</td>\n",
              "      <td>กรุงเทพมหานคร</td>\n",
              "      <td>บางบอน</td>\n",
              "    </tr>\n",
              "    <tr>\n",
              "      <th>511488</th>\n",
              "      <td>511489</td>\n",
              "      <td>26/7/2021</td>\n",
              "      <td>25/7/2021</td>\n",
              "      <td>ชาย</td>\n",
              "      <td>80.0</td>\n",
              "      <td>ปี</td>\n",
              "      <td>Thailand</td>\n",
              "      <td>กรุงเทพมหานคร</td>\n",
              "      <td>การค้นหาผู้ป่วยเชิงรุกและค้นหาผู้ติดเชื้อในชุมชน</td>\n",
              "      <td>กรุงเทพมหานคร</td>\n",
              "      <td>บางบอน</td>\n",
              "    </tr>\n",
              "    <tr>\n",
              "      <th>511506</th>\n",
              "      <td>511507</td>\n",
              "      <td>26/7/2021</td>\n",
              "      <td>25/7/2021</td>\n",
              "      <td>ชาย</td>\n",
              "      <td>71.0</td>\n",
              "      <td>ปี</td>\n",
              "      <td>Thailand</td>\n",
              "      <td>กรุงเทพมหานคร</td>\n",
              "      <td>การค้นหาผู้ป่วยเชิงรุกและค้นหาผู้ติดเชื้อในชุมชน</td>\n",
              "      <td>กรุงเทพมหานคร</td>\n",
              "      <td>สัมพันธวงศ์</td>\n",
              "    </tr>\n",
              "    <tr>\n",
              "      <th>511561</th>\n",
              "      <td>511562</td>\n",
              "      <td>26/7/2021</td>\n",
              "      <td>25/7/2021</td>\n",
              "      <td>ชาย</td>\n",
              "      <td>75.0</td>\n",
              "      <td>ปี</td>\n",
              "      <td>Thailand</td>\n",
              "      <td>กรุงเทพมหานคร</td>\n",
              "      <td>การค้นหาผู้ป่วยเชิงรุกและค้นหาผู้ติดเชื้อในชุมชน</td>\n",
              "      <td>กรุงเทพมหานคร</td>\n",
              "      <td>ธนบุรี</td>\n",
              "    </tr>\n",
              "  </tbody>\n",
              "</table>\n",
              "<p>11623 rows × 11 columns</p>\n",
              "</div>"
            ],
            "text/plain": [
              "           No. announce_date  ... province_of_onset district_of_onset\n",
              "1            2     17/1/2020  ...     กรุงเทพมหานคร               NaN\n",
              "2            3     22/1/2020  ...            นครปฐม             เมือง\n",
              "7            8     26/1/2020  ...   ประจวบคีรีขันธ์            หัวหิน\n",
              "82          83     15/3/2020  ...     กรุงเทพมหานคร               NaN\n",
              "119        120     16/3/2020  ...        ฉะเชิงเทรา               NaN\n",
              "...        ...           ...  ...               ...               ...\n",
              "511418  511419     26/7/2021  ...     กรุงเทพมหานคร           ราชเทวี\n",
              "511463  511464     26/7/2021  ...     กรุงเทพมหานคร            บางบอน\n",
              "511488  511489     26/7/2021  ...     กรุงเทพมหานคร            บางบอน\n",
              "511506  511507     26/7/2021  ...     กรุงเทพมหานคร       สัมพันธวงศ์\n",
              "511561  511562     26/7/2021  ...     กรุงเทพมหานคร            ธนบุรี\n",
              "\n",
              "[11623 rows x 11 columns]"
            ]
          },
          "metadata": {
            "tags": []
          },
          "execution_count": 47
        }
      ]
    },
    {
      "cell_type": "code",
      "metadata": {
        "id": "wNoE_ynabkMd"
      },
      "source": [
        "blist_age70up = data_cases2['age'] > 70"
      ],
      "execution_count": 48,
      "outputs": []
    },
    {
      "cell_type": "code",
      "metadata": {
        "colab": {
          "base_uri": "https://localhost:8080/"
        },
        "id": "Lo1peR6FbmfM",
        "outputId": "82d4f348-40d8-46be-8b85-865103a8c2f6"
      },
      "source": [
        "blist_female = data_cases2['sex'] == 'หญิง'\n",
        "blist_female"
      ],
      "execution_count": 49,
      "outputs": [
        {
          "output_type": "execute_result",
          "data": {
            "text/plain": [
              "0          True\n",
              "1          True\n",
              "2          True\n",
              "3         False\n",
              "4          True\n",
              "          ...  \n",
              "512617    False\n",
              "512618    False\n",
              "512619    False\n",
              "512620    False\n",
              "512621    False\n",
              "Name: sex, Length: 512622, dtype: bool"
            ]
          },
          "metadata": {
            "tags": []
          },
          "execution_count": 49
        }
      ]
    },
    {
      "cell_type": "code",
      "metadata": {
        "colab": {
          "base_uri": "https://localhost:8080/"
        },
        "id": "N2pYL7Sobpqn",
        "outputId": "0051e49d-c116-467f-d574-e4d992e656bd"
      },
      "source": [
        "blist_age70up & blist_female"
      ],
      "execution_count": 50,
      "outputs": [
        {
          "output_type": "execute_result",
          "data": {
            "text/plain": [
              "0         False\n",
              "1          True\n",
              "2          True\n",
              "3         False\n",
              "4         False\n",
              "          ...  \n",
              "512617    False\n",
              "512618    False\n",
              "512619    False\n",
              "512620    False\n",
              "512621    False\n",
              "Length: 512622, dtype: bool"
            ]
          },
          "metadata": {
            "tags": []
          },
          "execution_count": 50
        }
      ]
    },
    {
      "cell_type": "code",
      "metadata": {
        "colab": {
          "base_uri": "https://localhost:8080/",
          "height": 0
        },
        "id": "fYpUszkbbvF0",
        "outputId": "5a722cd3-5135-4ee1-e1ea-d39a695b7e3c"
      },
      "source": [
        "data_cases2[blist_age70up & blist_female]"
      ],
      "execution_count": 51,
      "outputs": [
        {
          "output_type": "execute_result",
          "data": {
            "text/html": [
              "<div>\n",
              "<style scoped>\n",
              "    .dataframe tbody tr th:only-of-type {\n",
              "        vertical-align: middle;\n",
              "    }\n",
              "\n",
              "    .dataframe tbody tr th {\n",
              "        vertical-align: top;\n",
              "    }\n",
              "\n",
              "    .dataframe thead th {\n",
              "        text-align: right;\n",
              "    }\n",
              "</style>\n",
              "<table border=\"1\" class=\"dataframe\">\n",
              "  <thead>\n",
              "    <tr style=\"text-align: right;\">\n",
              "      <th></th>\n",
              "      <th>No.</th>\n",
              "      <th>announce_date</th>\n",
              "      <th>Notified date</th>\n",
              "      <th>sex</th>\n",
              "      <th>age</th>\n",
              "      <th>Unit</th>\n",
              "      <th>nationality</th>\n",
              "      <th>province_of_isolation</th>\n",
              "      <th>risk</th>\n",
              "      <th>province_of_onset</th>\n",
              "      <th>district_of_onset</th>\n",
              "    </tr>\n",
              "  </thead>\n",
              "  <tbody>\n",
              "    <tr>\n",
              "      <th>1</th>\n",
              "      <td>2</td>\n",
              "      <td>17/1/2020</td>\n",
              "      <td>NaN</td>\n",
              "      <td>หญิง</td>\n",
              "      <td>74.0</td>\n",
              "      <td>ปี</td>\n",
              "      <td>China</td>\n",
              "      <td>กรุงเทพมหานคร</td>\n",
              "      <td>คนต่างชาติเดินทางมาจากต่างประเทศ</td>\n",
              "      <td>กรุงเทพมหานคร</td>\n",
              "      <td>NaN</td>\n",
              "    </tr>\n",
              "    <tr>\n",
              "      <th>2</th>\n",
              "      <td>3</td>\n",
              "      <td>22/1/2020</td>\n",
              "      <td>NaN</td>\n",
              "      <td>หญิง</td>\n",
              "      <td>73.0</td>\n",
              "      <td>ปี</td>\n",
              "      <td>Thailand</td>\n",
              "      <td>นครปฐม</td>\n",
              "      <td>คนต่างชาติเดินทางมาจากต่างประเทศ</td>\n",
              "      <td>นครปฐม</td>\n",
              "      <td>เมือง</td>\n",
              "    </tr>\n",
              "    <tr>\n",
              "      <th>7</th>\n",
              "      <td>8</td>\n",
              "      <td>26/1/2020</td>\n",
              "      <td>NaN</td>\n",
              "      <td>หญิง</td>\n",
              "      <td>73.0</td>\n",
              "      <td>ปี</td>\n",
              "      <td>China</td>\n",
              "      <td>ประจวบคีรีขันธ์</td>\n",
              "      <td>คนต่างชาติเดินทางมาจากต่างประเทศ</td>\n",
              "      <td>ประจวบคีรีขันธ์</td>\n",
              "      <td>หัวหิน</td>\n",
              "    </tr>\n",
              "    <tr>\n",
              "      <th>476</th>\n",
              "      <td>477</td>\n",
              "      <td>22/3/2020</td>\n",
              "      <td>21/3/2020</td>\n",
              "      <td>หญิง</td>\n",
              "      <td>72.0</td>\n",
              "      <td>ปี</td>\n",
              "      <td>Thailand</td>\n",
              "      <td>กรุงเทพมหานคร</td>\n",
              "      <td>สัมผัสใกล้ชิดกับผู้ป่วยยืนยันรายก่อนหน้านี้</td>\n",
              "      <td>กรุงเทพมหานคร</td>\n",
              "      <td>ภาษีเจริญ</td>\n",
              "    </tr>\n",
              "    <tr>\n",
              "      <th>564</th>\n",
              "      <td>565</td>\n",
              "      <td>22/3/2020</td>\n",
              "      <td>21/3/2020</td>\n",
              "      <td>หญิง</td>\n",
              "      <td>71.0</td>\n",
              "      <td>ปี</td>\n",
              "      <td>Thailand</td>\n",
              "      <td>นนทบุรี</td>\n",
              "      <td>สัมผัสใกล้ชิดกับผู้ป่วยยืนยันรายก่อนหน้านี้</td>\n",
              "      <td>นนทบุรี</td>\n",
              "      <td>NaN</td>\n",
              "    </tr>\n",
              "    <tr>\n",
              "      <th>...</th>\n",
              "      <td>...</td>\n",
              "      <td>...</td>\n",
              "      <td>...</td>\n",
              "      <td>...</td>\n",
              "      <td>...</td>\n",
              "      <td>...</td>\n",
              "      <td>...</td>\n",
              "      <td>...</td>\n",
              "      <td>...</td>\n",
              "      <td>...</td>\n",
              "      <td>...</td>\n",
              "    </tr>\n",
              "    <tr>\n",
              "      <th>511082</th>\n",
              "      <td>511083</td>\n",
              "      <td>26/7/2021</td>\n",
              "      <td>25/7/2021</td>\n",
              "      <td>หญิง</td>\n",
              "      <td>74.0</td>\n",
              "      <td>ปี</td>\n",
              "      <td>Thailand</td>\n",
              "      <td>กรุงเทพมหานคร</td>\n",
              "      <td>การค้นหาผู้ป่วยเชิงรุกและค้นหาผู้ติดเชื้อในชุมชน</td>\n",
              "      <td>กรุงเทพมหานคร</td>\n",
              "      <td>คลองสามวา</td>\n",
              "    </tr>\n",
              "    <tr>\n",
              "      <th>511128</th>\n",
              "      <td>511129</td>\n",
              "      <td>26/7/2021</td>\n",
              "      <td>25/7/2021</td>\n",
              "      <td>หญิง</td>\n",
              "      <td>79.0</td>\n",
              "      <td>ปี</td>\n",
              "      <td>Thailand</td>\n",
              "      <td>กรุงเทพมหานคร</td>\n",
              "      <td>สัมผัสใกล้ชิดกับผู้ป่วยยืนยันรายก่อนหน้านี้</td>\n",
              "      <td>กรุงเทพมหานคร</td>\n",
              "      <td>ตลิ่งชัน</td>\n",
              "    </tr>\n",
              "    <tr>\n",
              "      <th>511196</th>\n",
              "      <td>511197</td>\n",
              "      <td>26/7/2021</td>\n",
              "      <td>25/7/2021</td>\n",
              "      <td>หญิง</td>\n",
              "      <td>71.0</td>\n",
              "      <td>ปี</td>\n",
              "      <td>Thailand</td>\n",
              "      <td>กรุงเทพมหานคร</td>\n",
              "      <td>การค้นหาผู้ป่วยเชิงรุกและค้นหาผู้ติดเชื้อในชุมชน</td>\n",
              "      <td>กรุงเทพมหานคร</td>\n",
              "      <td>สัมพันธวงศ์</td>\n",
              "    </tr>\n",
              "    <tr>\n",
              "      <th>511418</th>\n",
              "      <td>511419</td>\n",
              "      <td>26/7/2021</td>\n",
              "      <td>25/7/2021</td>\n",
              "      <td>หญิง</td>\n",
              "      <td>73.0</td>\n",
              "      <td>ปี</td>\n",
              "      <td>Thailand</td>\n",
              "      <td>กรุงเทพมหานคร</td>\n",
              "      <td>การค้นหาผู้ป่วยเชิงรุกและค้นหาผู้ติดเชื้อในชุมชน</td>\n",
              "      <td>กรุงเทพมหานคร</td>\n",
              "      <td>ราชเทวี</td>\n",
              "    </tr>\n",
              "    <tr>\n",
              "      <th>511463</th>\n",
              "      <td>511464</td>\n",
              "      <td>26/7/2021</td>\n",
              "      <td>25/7/2021</td>\n",
              "      <td>หญิง</td>\n",
              "      <td>83.0</td>\n",
              "      <td>ปี</td>\n",
              "      <td>NaN</td>\n",
              "      <td>กรุงเทพมหานคร</td>\n",
              "      <td>การค้นหาผู้ป่วยเชิงรุกและค้นหาผู้ติดเชื้อในชุมชน</td>\n",
              "      <td>กรุงเทพมหานคร</td>\n",
              "      <td>บางบอน</td>\n",
              "    </tr>\n",
              "  </tbody>\n",
              "</table>\n",
              "<p>6350 rows × 11 columns</p>\n",
              "</div>"
            ],
            "text/plain": [
              "           No. announce_date  ... province_of_onset district_of_onset\n",
              "1            2     17/1/2020  ...     กรุงเทพมหานคร               NaN\n",
              "2            3     22/1/2020  ...            นครปฐม             เมือง\n",
              "7            8     26/1/2020  ...   ประจวบคีรีขันธ์            หัวหิน\n",
              "476        477     22/3/2020  ...     กรุงเทพมหานคร         ภาษีเจริญ\n",
              "564        565     22/3/2020  ...           นนทบุรี               NaN\n",
              "...        ...           ...  ...               ...               ...\n",
              "511082  511083     26/7/2021  ...     กรุงเทพมหานคร         คลองสามวา\n",
              "511128  511129     26/7/2021  ...     กรุงเทพมหานคร          ตลิ่งชัน\n",
              "511196  511197     26/7/2021  ...     กรุงเทพมหานคร       สัมพันธวงศ์\n",
              "511418  511419     26/7/2021  ...     กรุงเทพมหานคร           ราชเทวี\n",
              "511463  511464     26/7/2021  ...     กรุงเทพมหานคร            บางบอน\n",
              "\n",
              "[6350 rows x 11 columns]"
            ]
          },
          "metadata": {
            "tags": []
          },
          "execution_count": 51
        }
      ]
    },
    {
      "cell_type": "markdown",
      "metadata": {
        "id": "yqyGgIoLYhU7"
      },
      "source": [
        "## Quiz 4 + HW\n",
        "\n",
        "หา records ต่อไปนี้\n",
        "1. records ที่ กักตัวที่ขอนแก่น\n",
        "2. records ที่ กักตัวที่ ขอนแก่น+โคราช+อุดร\n",
        "3. records ที่ เป็นผู้หญิงที่พบเชื้อที่ กทม\n",
        "4. records ที่ เป็นผู้ชาย อายุ 18-22 ปี ที่กักตัวที่เชียงใหม่\n",
        "5. หาอายุเฉลี่ยของคนที่พบเชื้อที่ ขอนแก่น\n",
        "\n"
      ]
    },
    {
      "cell_type": "markdown",
      "metadata": {
        "id": "uNHsV_LycXMW"
      },
      "source": [
        "#1.records กักตัวที่ขอนแก่น"
      ]
    },
    {
      "cell_type": "code",
      "metadata": {
        "colab": {
          "base_uri": "https://localhost:8080/",
          "height": 0
        },
        "id": "O6tPfPOEb6TY",
        "outputId": "d927af56-247c-402d-e312-57feee57493a"
      },
      "source": [
        "data_cases2[data_cases2['province_of_isolation']=='ขอนแก่น']"
      ],
      "execution_count": 52,
      "outputs": [
        {
          "output_type": "execute_result",
          "data": {
            "text/html": [
              "<div>\n",
              "<style scoped>\n",
              "    .dataframe tbody tr th:only-of-type {\n",
              "        vertical-align: middle;\n",
              "    }\n",
              "\n",
              "    .dataframe tbody tr th {\n",
              "        vertical-align: top;\n",
              "    }\n",
              "\n",
              "    .dataframe thead th {\n",
              "        text-align: right;\n",
              "    }\n",
              "</style>\n",
              "<table border=\"1\" class=\"dataframe\">\n",
              "  <thead>\n",
              "    <tr style=\"text-align: right;\">\n",
              "      <th></th>\n",
              "      <th>No.</th>\n",
              "      <th>announce_date</th>\n",
              "      <th>Notified date</th>\n",
              "      <th>sex</th>\n",
              "      <th>age</th>\n",
              "      <th>Unit</th>\n",
              "      <th>nationality</th>\n",
              "      <th>province_of_isolation</th>\n",
              "      <th>risk</th>\n",
              "      <th>province_of_onset</th>\n",
              "      <th>district_of_onset</th>\n",
              "    </tr>\n",
              "  </thead>\n",
              "  <tbody>\n",
              "    <tr>\n",
              "      <th>181</th>\n",
              "      <td>182</td>\n",
              "      <td>18/3/2020</td>\n",
              "      <td>15/3/2020</td>\n",
              "      <td>ชาย</td>\n",
              "      <td>33.0</td>\n",
              "      <td>ปี</td>\n",
              "      <td>Thailand</td>\n",
              "      <td>ขอนแก่น</td>\n",
              "      <td>สนามมวย</td>\n",
              "      <td>ขอนแก่น</td>\n",
              "      <td>เมือง</td>\n",
              "    </tr>\n",
              "    <tr>\n",
              "      <th>463</th>\n",
              "      <td>464</td>\n",
              "      <td>22/3/2020</td>\n",
              "      <td>21/3/2020</td>\n",
              "      <td>หญิง</td>\n",
              "      <td>36.0</td>\n",
              "      <td>ปี</td>\n",
              "      <td>Thailand</td>\n",
              "      <td>ขอนแก่น</td>\n",
              "      <td>สัมผัสใกล้ชิดกับผู้ป่วยยืนยันรายก่อนหน้านี้</td>\n",
              "      <td>ขอนแก่น</td>\n",
              "      <td>เมือง</td>\n",
              "    </tr>\n",
              "    <tr>\n",
              "      <th>1467</th>\n",
              "      <td>1468</td>\n",
              "      <td>30/3/2020</td>\n",
              "      <td>26/3/2020</td>\n",
              "      <td>ชาย</td>\n",
              "      <td>19.0</td>\n",
              "      <td>ปี</td>\n",
              "      <td>Thailand</td>\n",
              "      <td>ขอนแก่น</td>\n",
              "      <td>คนไทยเดินทางกลับจากต่างประเทศ</td>\n",
              "      <td>ขอนแก่น</td>\n",
              "      <td>เมือง</td>\n",
              "    </tr>\n",
              "    <tr>\n",
              "      <th>1971</th>\n",
              "      <td>1972</td>\n",
              "      <td>3/4/2020</td>\n",
              "      <td>31/3/2020</td>\n",
              "      <td>หญิง</td>\n",
              "      <td>70.0</td>\n",
              "      <td>ปี</td>\n",
              "      <td>Thailand</td>\n",
              "      <td>ขอนแก่น</td>\n",
              "      <td>ไปสถานที่ชุมชน เช่น ตลาดนัด สถานที่ท่องเที่ยว</td>\n",
              "      <td>ขอนแก่น</td>\n",
              "      <td>เมือง</td>\n",
              "    </tr>\n",
              "    <tr>\n",
              "      <th>2638</th>\n",
              "      <td>2639</td>\n",
              "      <td>15/4/2020</td>\n",
              "      <td>14/4/2020</td>\n",
              "      <td>หญิง</td>\n",
              "      <td>63.0</td>\n",
              "      <td>ปี</td>\n",
              "      <td>Thailand</td>\n",
              "      <td>ขอนแก่น</td>\n",
              "      <td>สัมผัสผู้เดินทางจากต่างประเทศ</td>\n",
              "      <td>ขอนแก่น</td>\n",
              "      <td>น้ำพอง</td>\n",
              "    </tr>\n",
              "    <tr>\n",
              "      <th>...</th>\n",
              "      <td>...</td>\n",
              "      <td>...</td>\n",
              "      <td>...</td>\n",
              "      <td>...</td>\n",
              "      <td>...</td>\n",
              "      <td>...</td>\n",
              "      <td>...</td>\n",
              "      <td>...</td>\n",
              "      <td>...</td>\n",
              "      <td>...</td>\n",
              "      <td>...</td>\n",
              "    </tr>\n",
              "    <tr>\n",
              "      <th>505598</th>\n",
              "      <td>505599</td>\n",
              "      <td>26/7/2021</td>\n",
              "      <td>25/7/2021</td>\n",
              "      <td>ชาย</td>\n",
              "      <td>19.0</td>\n",
              "      <td>ปี</td>\n",
              "      <td>Thailand</td>\n",
              "      <td>ขอนแก่น</td>\n",
              "      <td>การค้นหาผู้ป่วยเชิงรุกและค้นหาผู้ติดเชื้อในชุมชน</td>\n",
              "      <td>ขอนแก่น</td>\n",
              "      <td>ภูเวียง</td>\n",
              "    </tr>\n",
              "    <tr>\n",
              "      <th>505599</th>\n",
              "      <td>505600</td>\n",
              "      <td>26/7/2021</td>\n",
              "      <td>25/7/2021</td>\n",
              "      <td>ชาย</td>\n",
              "      <td>37.0</td>\n",
              "      <td>ปี</td>\n",
              "      <td>Thailand</td>\n",
              "      <td>ขอนแก่น</td>\n",
              "      <td>การค้นหาผู้ป่วยเชิงรุกและค้นหาผู้ติดเชื้อในชุมชน</td>\n",
              "      <td>ขอนแก่น</td>\n",
              "      <td>ภูเวียง</td>\n",
              "    </tr>\n",
              "    <tr>\n",
              "      <th>511809</th>\n",
              "      <td>511810</td>\n",
              "      <td>26/7/2021</td>\n",
              "      <td>25/7/2021</td>\n",
              "      <td>ชาย</td>\n",
              "      <td>NaN</td>\n",
              "      <td>NaN</td>\n",
              "      <td>NaN</td>\n",
              "      <td>ขอนแก่น</td>\n",
              "      <td>ทัณฑสถาน/เรือนจำ</td>\n",
              "      <td>NaN</td>\n",
              "      <td>NaN</td>\n",
              "    </tr>\n",
              "    <tr>\n",
              "      <th>511810</th>\n",
              "      <td>511811</td>\n",
              "      <td>26/7/2021</td>\n",
              "      <td>25/7/2021</td>\n",
              "      <td>ชาย</td>\n",
              "      <td>NaN</td>\n",
              "      <td>NaN</td>\n",
              "      <td>NaN</td>\n",
              "      <td>ขอนแก่น</td>\n",
              "      <td>ทัณฑสถาน/เรือนจำ</td>\n",
              "      <td>NaN</td>\n",
              "      <td>NaN</td>\n",
              "    </tr>\n",
              "    <tr>\n",
              "      <th>511811</th>\n",
              "      <td>511812</td>\n",
              "      <td>26/7/2021</td>\n",
              "      <td>25/7/2021</td>\n",
              "      <td>ชาย</td>\n",
              "      <td>NaN</td>\n",
              "      <td>NaN</td>\n",
              "      <td>NaN</td>\n",
              "      <td>ขอนแก่น</td>\n",
              "      <td>ทัณฑสถาน/เรือนจำ</td>\n",
              "      <td>NaN</td>\n",
              "      <td>NaN</td>\n",
              "    </tr>\n",
              "  </tbody>\n",
              "</table>\n",
              "<p>3707 rows × 11 columns</p>\n",
              "</div>"
            ],
            "text/plain": [
              "           No. announce_date  ... province_of_onset district_of_onset\n",
              "181        182     18/3/2020  ...           ขอนแก่น             เมือง\n",
              "463        464     22/3/2020  ...           ขอนแก่น             เมือง\n",
              "1467      1468     30/3/2020  ...           ขอนแก่น             เมือง\n",
              "1971      1972      3/4/2020  ...           ขอนแก่น             เมือง\n",
              "2638      2639     15/4/2020  ...           ขอนแก่น            น้ำพอง\n",
              "...        ...           ...  ...               ...               ...\n",
              "505598  505599     26/7/2021  ...           ขอนแก่น           ภูเวียง\n",
              "505599  505600     26/7/2021  ...           ขอนแก่น           ภูเวียง\n",
              "511809  511810     26/7/2021  ...               NaN               NaN\n",
              "511810  511811     26/7/2021  ...               NaN               NaN\n",
              "511811  511812     26/7/2021  ...               NaN               NaN\n",
              "\n",
              "[3707 rows x 11 columns]"
            ]
          },
          "metadata": {
            "tags": []
          },
          "execution_count": 52
        }
      ]
    },
    {
      "cell_type": "markdown",
      "metadata": {
        "id": "rbWTI70pgmdV"
      },
      "source": [
        "#2.records ที่ กักตัวที่ ขอนแก่น+โคราช+อุดร"
      ]
    },
    {
      "cell_type": "code",
      "metadata": {
        "id": "pIkfIlMJgpYr",
        "colab": {
          "base_uri": "https://localhost:8080/",
          "height": 0
        },
        "outputId": "61c1f857-1b88-40a7-a069-8b11017e988a"
      },
      "source": [
        "data_cases2[(data_cases2['province_of_isolation']=='ขอนแก่น') | \n",
        "            (data_cases2['province_of_isolation']=='นครราชสีมา') | \n",
        "            (data_cases2['province_of_isolation']=='อุดรธานี')]"
      ],
      "execution_count": 53,
      "outputs": [
        {
          "output_type": "execute_result",
          "data": {
            "text/html": [
              "<div>\n",
              "<style scoped>\n",
              "    .dataframe tbody tr th:only-of-type {\n",
              "        vertical-align: middle;\n",
              "    }\n",
              "\n",
              "    .dataframe tbody tr th {\n",
              "        vertical-align: top;\n",
              "    }\n",
              "\n",
              "    .dataframe thead th {\n",
              "        text-align: right;\n",
              "    }\n",
              "</style>\n",
              "<table border=\"1\" class=\"dataframe\">\n",
              "  <thead>\n",
              "    <tr style=\"text-align: right;\">\n",
              "      <th></th>\n",
              "      <th>No.</th>\n",
              "      <th>announce_date</th>\n",
              "      <th>Notified date</th>\n",
              "      <th>sex</th>\n",
              "      <th>age</th>\n",
              "      <th>Unit</th>\n",
              "      <th>nationality</th>\n",
              "      <th>province_of_isolation</th>\n",
              "      <th>risk</th>\n",
              "      <th>province_of_onset</th>\n",
              "      <th>district_of_onset</th>\n",
              "    </tr>\n",
              "  </thead>\n",
              "  <tbody>\n",
              "    <tr>\n",
              "      <th>181</th>\n",
              "      <td>182</td>\n",
              "      <td>18/3/2020</td>\n",
              "      <td>15/3/2020</td>\n",
              "      <td>ชาย</td>\n",
              "      <td>33.0</td>\n",
              "      <td>ปี</td>\n",
              "      <td>Thailand</td>\n",
              "      <td>ขอนแก่น</td>\n",
              "      <td>สนามมวย</td>\n",
              "      <td>ขอนแก่น</td>\n",
              "      <td>เมือง</td>\n",
              "    </tr>\n",
              "    <tr>\n",
              "      <th>189</th>\n",
              "      <td>190</td>\n",
              "      <td>18/3/2020</td>\n",
              "      <td>16/3/2020</td>\n",
              "      <td>ชาย</td>\n",
              "      <td>57.0</td>\n",
              "      <td>ปี</td>\n",
              "      <td>Thailand</td>\n",
              "      <td>นครราชสีมา</td>\n",
              "      <td>สนามมวย</td>\n",
              "      <td>นครราชสีมา</td>\n",
              "      <td>พิมาย</td>\n",
              "    </tr>\n",
              "    <tr>\n",
              "      <th>207</th>\n",
              "      <td>208</td>\n",
              "      <td>18/3/2020</td>\n",
              "      <td>16/3/2020</td>\n",
              "      <td>หญิง</td>\n",
              "      <td>30.0</td>\n",
              "      <td>ปี</td>\n",
              "      <td>Thailand</td>\n",
              "      <td>นครราชสีมา</td>\n",
              "      <td>สถานบันเทิง</td>\n",
              "      <td>กรุงเทพมหานคร</td>\n",
              "      <td>NaN</td>\n",
              "    </tr>\n",
              "    <tr>\n",
              "      <th>212</th>\n",
              "      <td>213</td>\n",
              "      <td>18/3/2020</td>\n",
              "      <td>14/3/2020</td>\n",
              "      <td>หญิง</td>\n",
              "      <td>22.0</td>\n",
              "      <td>ปี</td>\n",
              "      <td>Thailand</td>\n",
              "      <td>นครราชสีมา</td>\n",
              "      <td>ไปสถานที่ชุมชน เช่น ตลาดนัด สถานที่ท่องเที่ยว</td>\n",
              "      <td>นครราชสีมา</td>\n",
              "      <td>วังน้ำเขียว</td>\n",
              "    </tr>\n",
              "    <tr>\n",
              "      <th>284</th>\n",
              "      <td>285</td>\n",
              "      <td>20/3/2020</td>\n",
              "      <td>17/3/2020</td>\n",
              "      <td>ชาย</td>\n",
              "      <td>42.0</td>\n",
              "      <td>ปี</td>\n",
              "      <td>Thailand</td>\n",
              "      <td>นครราชสีมา</td>\n",
              "      <td>สนามมวย</td>\n",
              "      <td>นครราชสีมา</td>\n",
              "      <td>เมืองนครราชสีมา</td>\n",
              "    </tr>\n",
              "    <tr>\n",
              "      <th>...</th>\n",
              "      <td>...</td>\n",
              "      <td>...</td>\n",
              "      <td>...</td>\n",
              "      <td>...</td>\n",
              "      <td>...</td>\n",
              "      <td>...</td>\n",
              "      <td>...</td>\n",
              "      <td>...</td>\n",
              "      <td>...</td>\n",
              "      <td>...</td>\n",
              "      <td>...</td>\n",
              "    </tr>\n",
              "    <tr>\n",
              "      <th>507218</th>\n",
              "      <td>507219</td>\n",
              "      <td>26/7/2021</td>\n",
              "      <td>25/7/2021</td>\n",
              "      <td>หญิง</td>\n",
              "      <td>NaN</td>\n",
              "      <td>NaN</td>\n",
              "      <td>Thailand</td>\n",
              "      <td>นครราชสีมา</td>\n",
              "      <td>อยู่ระหว่างการสอบสวน</td>\n",
              "      <td>NaN</td>\n",
              "      <td>NaN</td>\n",
              "    </tr>\n",
              "    <tr>\n",
              "      <th>507219</th>\n",
              "      <td>507220</td>\n",
              "      <td>26/7/2021</td>\n",
              "      <td>25/7/2021</td>\n",
              "      <td>ชาย</td>\n",
              "      <td>NaN</td>\n",
              "      <td>NaN</td>\n",
              "      <td>Thailand</td>\n",
              "      <td>นครราชสีมา</td>\n",
              "      <td>อยู่ระหว่างการสอบสวน</td>\n",
              "      <td>NaN</td>\n",
              "      <td>NaN</td>\n",
              "    </tr>\n",
              "    <tr>\n",
              "      <th>511809</th>\n",
              "      <td>511810</td>\n",
              "      <td>26/7/2021</td>\n",
              "      <td>25/7/2021</td>\n",
              "      <td>ชาย</td>\n",
              "      <td>NaN</td>\n",
              "      <td>NaN</td>\n",
              "      <td>NaN</td>\n",
              "      <td>ขอนแก่น</td>\n",
              "      <td>ทัณฑสถาน/เรือนจำ</td>\n",
              "      <td>NaN</td>\n",
              "      <td>NaN</td>\n",
              "    </tr>\n",
              "    <tr>\n",
              "      <th>511810</th>\n",
              "      <td>511811</td>\n",
              "      <td>26/7/2021</td>\n",
              "      <td>25/7/2021</td>\n",
              "      <td>ชาย</td>\n",
              "      <td>NaN</td>\n",
              "      <td>NaN</td>\n",
              "      <td>NaN</td>\n",
              "      <td>ขอนแก่น</td>\n",
              "      <td>ทัณฑสถาน/เรือนจำ</td>\n",
              "      <td>NaN</td>\n",
              "      <td>NaN</td>\n",
              "    </tr>\n",
              "    <tr>\n",
              "      <th>511811</th>\n",
              "      <td>511812</td>\n",
              "      <td>26/7/2021</td>\n",
              "      <td>25/7/2021</td>\n",
              "      <td>ชาย</td>\n",
              "      <td>NaN</td>\n",
              "      <td>NaN</td>\n",
              "      <td>NaN</td>\n",
              "      <td>ขอนแก่น</td>\n",
              "      <td>ทัณฑสถาน/เรือนจำ</td>\n",
              "      <td>NaN</td>\n",
              "      <td>NaN</td>\n",
              "    </tr>\n",
              "  </tbody>\n",
              "</table>\n",
              "<p>10539 rows × 11 columns</p>\n",
              "</div>"
            ],
            "text/plain": [
              "           No. announce_date  ... province_of_onset district_of_onset\n",
              "181        182     18/3/2020  ...           ขอนแก่น             เมือง\n",
              "189        190     18/3/2020  ...        นครราชสีมา             พิมาย\n",
              "207        208     18/3/2020  ...     กรุงเทพมหานคร               NaN\n",
              "212        213     18/3/2020  ...        นครราชสีมา       วังน้ำเขียว\n",
              "284        285     20/3/2020  ...        นครราชสีมา   เมืองนครราชสีมา\n",
              "...        ...           ...  ...               ...               ...\n",
              "507218  507219     26/7/2021  ...               NaN               NaN\n",
              "507219  507220     26/7/2021  ...               NaN               NaN\n",
              "511809  511810     26/7/2021  ...               NaN               NaN\n",
              "511810  511811     26/7/2021  ...               NaN               NaN\n",
              "511811  511812     26/7/2021  ...               NaN               NaN\n",
              "\n",
              "[10539 rows x 11 columns]"
            ]
          },
          "metadata": {
            "tags": []
          },
          "execution_count": 53
        }
      ]
    },
    {
      "cell_type": "markdown",
      "metadata": {
        "id": "cuyfHHP0guWZ"
      },
      "source": [
        "#3.records ที่ เป็นผู้หญิงที่พบเชื้อที่ กทม"
      ]
    },
    {
      "cell_type": "code",
      "metadata": {
        "id": "1fJ-yK3xgvBP",
        "colab": {
          "base_uri": "https://localhost:8080/",
          "height": 0
        },
        "outputId": "0ee54326-243a-4e35-da54-19a00565cf77"
      },
      "source": [
        "data_cases2[(data_cases2['district_of_onset']=='กรุงเทพมหานคร') & (data_cases2['sex']=='หญิง')]"
      ],
      "execution_count": 54,
      "outputs": [
        {
          "output_type": "execute_result",
          "data": {
            "text/html": [
              "<div>\n",
              "<style scoped>\n",
              "    .dataframe tbody tr th:only-of-type {\n",
              "        vertical-align: middle;\n",
              "    }\n",
              "\n",
              "    .dataframe tbody tr th {\n",
              "        vertical-align: top;\n",
              "    }\n",
              "\n",
              "    .dataframe thead th {\n",
              "        text-align: right;\n",
              "    }\n",
              "</style>\n",
              "<table border=\"1\" class=\"dataframe\">\n",
              "  <thead>\n",
              "    <tr style=\"text-align: right;\">\n",
              "      <th></th>\n",
              "      <th>No.</th>\n",
              "      <th>announce_date</th>\n",
              "      <th>Notified date</th>\n",
              "      <th>sex</th>\n",
              "      <th>age</th>\n",
              "      <th>Unit</th>\n",
              "      <th>nationality</th>\n",
              "      <th>province_of_isolation</th>\n",
              "      <th>risk</th>\n",
              "      <th>province_of_onset</th>\n",
              "      <th>district_of_onset</th>\n",
              "    </tr>\n",
              "  </thead>\n",
              "  <tbody>\n",
              "    <tr>\n",
              "      <th>292</th>\n",
              "      <td>293</td>\n",
              "      <td>20/3/2020</td>\n",
              "      <td>22/3/2020</td>\n",
              "      <td>หญิง</td>\n",
              "      <td>24.0</td>\n",
              "      <td>ปี</td>\n",
              "      <td>Thailand</td>\n",
              "      <td>กรุงเทพมหานคร</td>\n",
              "      <td>สถานบันเทิง</td>\n",
              "      <td>กรุงเทพมหานคร</td>\n",
              "      <td>กรุงเทพมหานคร</td>\n",
              "    </tr>\n",
              "    <tr>\n",
              "      <th>318</th>\n",
              "      <td>319</td>\n",
              "      <td>20/3/2020</td>\n",
              "      <td>20/3/2020</td>\n",
              "      <td>หญิง</td>\n",
              "      <td>35.0</td>\n",
              "      <td>ปี</td>\n",
              "      <td>Thailand</td>\n",
              "      <td>กรุงเทพมหานคร</td>\n",
              "      <td>สถานบันเทิง</td>\n",
              "      <td>กรุงเทพมหานคร</td>\n",
              "      <td>กรุงเทพมหานคร</td>\n",
              "    </tr>\n",
              "    <tr>\n",
              "      <th>1928</th>\n",
              "      <td>1929</td>\n",
              "      <td>3/4/2020</td>\n",
              "      <td>2/4/2020</td>\n",
              "      <td>หญิง</td>\n",
              "      <td>23.0</td>\n",
              "      <td>ปี</td>\n",
              "      <td>Thailand</td>\n",
              "      <td>พิษณุโลก</td>\n",
              "      <td>คนไทยเดินทางกลับจากต่างประเทศ</td>\n",
              "      <td>กรุงเทพมหานคร</td>\n",
              "      <td>กรุงเทพมหานคร</td>\n",
              "    </tr>\n",
              "    <tr>\n",
              "      <th>30541</th>\n",
              "      <td>30542</td>\n",
              "      <td>9/4/2021</td>\n",
              "      <td>8/4/2021</td>\n",
              "      <td>หญิง</td>\n",
              "      <td>31.0</td>\n",
              "      <td>ปี</td>\n",
              "      <td>Thailand</td>\n",
              "      <td>ชลบุรี</td>\n",
              "      <td>อยู่ระหว่างการสอบสวน</td>\n",
              "      <td>ชลบุรี</td>\n",
              "      <td>กรุงเทพมหานคร</td>\n",
              "    </tr>\n",
              "    <tr>\n",
              "      <th>208455</th>\n",
              "      <td>208456</td>\n",
              "      <td>18/6/2021</td>\n",
              "      <td>17/6/2021</td>\n",
              "      <td>หญิง</td>\n",
              "      <td>9.0</td>\n",
              "      <td>ปี</td>\n",
              "      <td>Thailand</td>\n",
              "      <td>สมุทรปราการ</td>\n",
              "      <td>สัมผัสใกล้ชิดกับผู้ป่วยยืนยันรายก่อนหน้านี้</td>\n",
              "      <td>สมุทรปราการ</td>\n",
              "      <td>กรุงเทพมหานคร</td>\n",
              "    </tr>\n",
              "    <tr>\n",
              "      <th>...</th>\n",
              "      <td>...</td>\n",
              "      <td>...</td>\n",
              "      <td>...</td>\n",
              "      <td>...</td>\n",
              "      <td>...</td>\n",
              "      <td>...</td>\n",
              "      <td>...</td>\n",
              "      <td>...</td>\n",
              "      <td>...</td>\n",
              "      <td>...</td>\n",
              "      <td>...</td>\n",
              "    </tr>\n",
              "    <tr>\n",
              "      <th>429001</th>\n",
              "      <td>429002</td>\n",
              "      <td>21/7/2021</td>\n",
              "      <td>20/7/2021</td>\n",
              "      <td>หญิง</td>\n",
              "      <td>29.0</td>\n",
              "      <td>ปี</td>\n",
              "      <td>Thailand</td>\n",
              "      <td>สมุทรสาคร</td>\n",
              "      <td>อื่นๆ</td>\n",
              "      <td>กรุงเทพมหานคร</td>\n",
              "      <td>กรุงเทพมหานคร</td>\n",
              "    </tr>\n",
              "    <tr>\n",
              "      <th>461987</th>\n",
              "      <td>461988</td>\n",
              "      <td>23/7/2021</td>\n",
              "      <td>22/7/2021</td>\n",
              "      <td>หญิง</td>\n",
              "      <td>27.0</td>\n",
              "      <td>ปี</td>\n",
              "      <td>Thailand</td>\n",
              "      <td>มุกดาหาร</td>\n",
              "      <td>อื่นๆ</td>\n",
              "      <td>กรุงเทพมหานคร</td>\n",
              "      <td>กรุงเทพมหานคร</td>\n",
              "    </tr>\n",
              "    <tr>\n",
              "      <th>471588</th>\n",
              "      <td>471589</td>\n",
              "      <td>24/7/2021</td>\n",
              "      <td>23/7/2021</td>\n",
              "      <td>หญิง</td>\n",
              "      <td>37.0</td>\n",
              "      <td>ปี</td>\n",
              "      <td>Thailand</td>\n",
              "      <td>กาญจนบุรี</td>\n",
              "      <td>อื่นๆ</td>\n",
              "      <td>กรุงเทพมหานคร</td>\n",
              "      <td>กรุงเทพมหานคร</td>\n",
              "    </tr>\n",
              "    <tr>\n",
              "      <th>471589</th>\n",
              "      <td>471590</td>\n",
              "      <td>24/7/2021</td>\n",
              "      <td>23/7/2021</td>\n",
              "      <td>หญิง</td>\n",
              "      <td>43.0</td>\n",
              "      <td>ปี</td>\n",
              "      <td>Thailand</td>\n",
              "      <td>กาญจนบุรี</td>\n",
              "      <td>อื่นๆ</td>\n",
              "      <td>กรุงเทพมหานคร</td>\n",
              "      <td>กรุงเทพมหานคร</td>\n",
              "    </tr>\n",
              "    <tr>\n",
              "      <th>488250</th>\n",
              "      <td>488251</td>\n",
              "      <td>25/7/2021</td>\n",
              "      <td>24/7/2021</td>\n",
              "      <td>หญิง</td>\n",
              "      <td>48.0</td>\n",
              "      <td>ปี</td>\n",
              "      <td>Thailand</td>\n",
              "      <td>ฉะเชิงเทรา</td>\n",
              "      <td>สัมผัสใกล้ชิดกับผู้ป่วยยืนยันรายก่อนหน้านี้</td>\n",
              "      <td>ฉะเชิงเทรา</td>\n",
              "      <td>กรุงเทพมหานคร</td>\n",
              "    </tr>\n",
              "  </tbody>\n",
              "</table>\n",
              "<p>77 rows × 11 columns</p>\n",
              "</div>"
            ],
            "text/plain": [
              "           No. announce_date  ... province_of_onset district_of_onset\n",
              "292        293     20/3/2020  ...     กรุงเทพมหานคร     กรุงเทพมหานคร\n",
              "318        319     20/3/2020  ...     กรุงเทพมหานคร     กรุงเทพมหานคร\n",
              "1928      1929      3/4/2020  ...     กรุงเทพมหานคร     กรุงเทพมหานคร\n",
              "30541    30542      9/4/2021  ...            ชลบุรี     กรุงเทพมหานคร\n",
              "208455  208456     18/6/2021  ...       สมุทรปราการ     กรุงเทพมหานคร\n",
              "...        ...           ...  ...               ...               ...\n",
              "429001  429002     21/7/2021  ...     กรุงเทพมหานคร     กรุงเทพมหานคร\n",
              "461987  461988     23/7/2021  ...     กรุงเทพมหานคร     กรุงเทพมหานคร\n",
              "471588  471589     24/7/2021  ...     กรุงเทพมหานคร     กรุงเทพมหานคร\n",
              "471589  471590     24/7/2021  ...     กรุงเทพมหานคร     กรุงเทพมหานคร\n",
              "488250  488251     25/7/2021  ...        ฉะเชิงเทรา     กรุงเทพมหานคร\n",
              "\n",
              "[77 rows x 11 columns]"
            ]
          },
          "metadata": {
            "tags": []
          },
          "execution_count": 54
        }
      ]
    },
    {
      "cell_type": "markdown",
      "metadata": {
        "id": "-aajuUcfhpT5"
      },
      "source": [
        "#4.records ที่ เป็นผู้ชาย อายุ 18-22 ปี ที่กักตัวที่เชียงใหม่"
      ]
    },
    {
      "cell_type": "code",
      "metadata": {
        "id": "_QaVsiD9htIF",
        "colab": {
          "base_uri": "https://localhost:8080/",
          "height": 0
        },
        "outputId": "12824307-67bb-481c-881a-273b15062c0c"
      },
      "source": [
        "list1 = data_cases2['province_of_isolation'] == 'เชียงใหม่'\n",
        "list2 = data_cases2['sex'] == 'ชาย'\n",
        "list3 =  data_cases['age'] >= 18\n",
        "list4 =  data_cases['age'] <= 22\n",
        "data_cases2[list1 & list2 & list3 & list4]"
      ],
      "execution_count": 55,
      "outputs": [
        {
          "output_type": "execute_result",
          "data": {
            "text/html": [
              "<div>\n",
              "<style scoped>\n",
              "    .dataframe tbody tr th:only-of-type {\n",
              "        vertical-align: middle;\n",
              "    }\n",
              "\n",
              "    .dataframe tbody tr th {\n",
              "        vertical-align: top;\n",
              "    }\n",
              "\n",
              "    .dataframe thead th {\n",
              "        text-align: right;\n",
              "    }\n",
              "</style>\n",
              "<table border=\"1\" class=\"dataframe\">\n",
              "  <thead>\n",
              "    <tr style=\"text-align: right;\">\n",
              "      <th></th>\n",
              "      <th>No.</th>\n",
              "      <th>announce_date</th>\n",
              "      <th>Notified date</th>\n",
              "      <th>sex</th>\n",
              "      <th>age</th>\n",
              "      <th>Unit</th>\n",
              "      <th>nationality</th>\n",
              "      <th>province_of_isolation</th>\n",
              "      <th>risk</th>\n",
              "      <th>province_of_onset</th>\n",
              "      <th>district_of_onset</th>\n",
              "    </tr>\n",
              "  </thead>\n",
              "  <tbody>\n",
              "    <tr>\n",
              "      <th>1407</th>\n",
              "      <td>1408</td>\n",
              "      <td>30/3/2020</td>\n",
              "      <td>29/3/2020</td>\n",
              "      <td>ชาย</td>\n",
              "      <td>21.0</td>\n",
              "      <td>ปี</td>\n",
              "      <td>Thailand</td>\n",
              "      <td>เชียงใหม่</td>\n",
              "      <td>สัมผัสใกล้ชิดกับผู้ป่วยยืนยันรายก่อนหน้านี้</td>\n",
              "      <td>เชียงใหม่</td>\n",
              "      <td>เมือง</td>\n",
              "    </tr>\n",
              "    <tr>\n",
              "      <th>30340</th>\n",
              "      <td>30341</td>\n",
              "      <td>9/4/2021</td>\n",
              "      <td>8/4/2021</td>\n",
              "      <td>ชาย</td>\n",
              "      <td>22.0</td>\n",
              "      <td>ปี</td>\n",
              "      <td>Thailand</td>\n",
              "      <td>เชียงใหม่</td>\n",
              "      <td>สถานบันเทิง</td>\n",
              "      <td>เชียงใหม่</td>\n",
              "      <td>เมืองเชียงใหม่</td>\n",
              "    </tr>\n",
              "    <tr>\n",
              "      <th>31499</th>\n",
              "      <td>31500</td>\n",
              "      <td>10/4/2021</td>\n",
              "      <td>9/4/2021</td>\n",
              "      <td>ชาย</td>\n",
              "      <td>22.0</td>\n",
              "      <td>ปี</td>\n",
              "      <td>Thailand</td>\n",
              "      <td>เชียงใหม่</td>\n",
              "      <td>สถานบันเทิง</td>\n",
              "      <td>เชียงใหม่</td>\n",
              "      <td>NaN</td>\n",
              "    </tr>\n",
              "    <tr>\n",
              "      <th>31500</th>\n",
              "      <td>31501</td>\n",
              "      <td>10/4/2021</td>\n",
              "      <td>9/4/2021</td>\n",
              "      <td>ชาย</td>\n",
              "      <td>22.0</td>\n",
              "      <td>ปี</td>\n",
              "      <td>Thailand</td>\n",
              "      <td>เชียงใหม่</td>\n",
              "      <td>สถานบันเทิง</td>\n",
              "      <td>เชียงใหม่</td>\n",
              "      <td>NaN</td>\n",
              "    </tr>\n",
              "    <tr>\n",
              "      <th>31501</th>\n",
              "      <td>31502</td>\n",
              "      <td>10/4/2021</td>\n",
              "      <td>9/4/2021</td>\n",
              "      <td>ชาย</td>\n",
              "      <td>20.0</td>\n",
              "      <td>ปี</td>\n",
              "      <td>Thailand</td>\n",
              "      <td>เชียงใหม่</td>\n",
              "      <td>สถานบันเทิง</td>\n",
              "      <td>เชียงใหม่</td>\n",
              "      <td>NaN</td>\n",
              "    </tr>\n",
              "    <tr>\n",
              "      <th>...</th>\n",
              "      <td>...</td>\n",
              "      <td>...</td>\n",
              "      <td>...</td>\n",
              "      <td>...</td>\n",
              "      <td>...</td>\n",
              "      <td>...</td>\n",
              "      <td>...</td>\n",
              "      <td>...</td>\n",
              "      <td>...</td>\n",
              "      <td>...</td>\n",
              "      <td>...</td>\n",
              "    </tr>\n",
              "    <tr>\n",
              "      <th>481940</th>\n",
              "      <td>481941</td>\n",
              "      <td>25/7/2021</td>\n",
              "      <td>24/7/2021</td>\n",
              "      <td>ชาย</td>\n",
              "      <td>21.0</td>\n",
              "      <td>ปี</td>\n",
              "      <td>Thailand</td>\n",
              "      <td>เชียงใหม่</td>\n",
              "      <td>สัมผัสใกล้ชิดกับผู้ป่วยยืนยันรายก่อนหน้านี้</td>\n",
              "      <td>เชียงใหม่</td>\n",
              "      <td>หางดง</td>\n",
              "    </tr>\n",
              "    <tr>\n",
              "      <th>481953</th>\n",
              "      <td>481954</td>\n",
              "      <td>25/7/2021</td>\n",
              "      <td>24/7/2021</td>\n",
              "      <td>ชาย</td>\n",
              "      <td>19.0</td>\n",
              "      <td>ปี</td>\n",
              "      <td>Thailand</td>\n",
              "      <td>เชียงใหม่</td>\n",
              "      <td>สัมผัสใกล้ชิดกับผู้ป่วยยืนยันรายก่อนหน้านี้</td>\n",
              "      <td>เชียงใหม่</td>\n",
              "      <td>หางดง</td>\n",
              "    </tr>\n",
              "    <tr>\n",
              "      <th>481961</th>\n",
              "      <td>481962</td>\n",
              "      <td>25/7/2021</td>\n",
              "      <td>24/7/2021</td>\n",
              "      <td>ชาย</td>\n",
              "      <td>22.0</td>\n",
              "      <td>ปี</td>\n",
              "      <td>Thailand</td>\n",
              "      <td>เชียงใหม่</td>\n",
              "      <td>สัมผัสใกล้ชิดกับผู้ป่วยยืนยันรายก่อนหน้านี้</td>\n",
              "      <td>เชียงใหม่</td>\n",
              "      <td>เชียงดาว</td>\n",
              "    </tr>\n",
              "    <tr>\n",
              "      <th>497281</th>\n",
              "      <td>497282</td>\n",
              "      <td>26/7/2021</td>\n",
              "      <td>25/7/2021</td>\n",
              "      <td>ชาย</td>\n",
              "      <td>22.0</td>\n",
              "      <td>ปี</td>\n",
              "      <td>NaN</td>\n",
              "      <td>เชียงใหม่</td>\n",
              "      <td>สัมผัสใกล้ชิดกับผู้ป่วยยืนยันรายก่อนหน้านี้</td>\n",
              "      <td>เชียงใหม่</td>\n",
              "      <td>เชียงดาว</td>\n",
              "    </tr>\n",
              "    <tr>\n",
              "      <th>497302</th>\n",
              "      <td>497303</td>\n",
              "      <td>26/7/2021</td>\n",
              "      <td>25/7/2021</td>\n",
              "      <td>ชาย</td>\n",
              "      <td>22.0</td>\n",
              "      <td>ปี</td>\n",
              "      <td>NaN</td>\n",
              "      <td>เชียงใหม่</td>\n",
              "      <td>สัมผัสใกล้ชิดกับผู้ป่วยยืนยันรายก่อนหน้านี้</td>\n",
              "      <td>เชียงใหม่</td>\n",
              "      <td>หางดง</td>\n",
              "    </tr>\n",
              "  </tbody>\n",
              "</table>\n",
              "<p>411 rows × 11 columns</p>\n",
              "</div>"
            ],
            "text/plain": [
              "           No. announce_date  ... province_of_onset district_of_onset\n",
              "1407      1408     30/3/2020  ...         เชียงใหม่             เมือง\n",
              "30340    30341      9/4/2021  ...         เชียงใหม่    เมืองเชียงใหม่\n",
              "31499    31500     10/4/2021  ...         เชียงใหม่               NaN\n",
              "31500    31501     10/4/2021  ...         เชียงใหม่               NaN\n",
              "31501    31502     10/4/2021  ...         เชียงใหม่               NaN\n",
              "...        ...           ...  ...               ...               ...\n",
              "481940  481941     25/7/2021  ...         เชียงใหม่             หางดง\n",
              "481953  481954     25/7/2021  ...         เชียงใหม่             หางดง\n",
              "481961  481962     25/7/2021  ...         เชียงใหม่          เชียงดาว\n",
              "497281  497282     26/7/2021  ...         เชียงใหม่          เชียงดาว\n",
              "497302  497303     26/7/2021  ...         เชียงใหม่             หางดง\n",
              "\n",
              "[411 rows x 11 columns]"
            ]
          },
          "metadata": {
            "tags": []
          },
          "execution_count": 55
        }
      ]
    },
    {
      "cell_type": "markdown",
      "metadata": {
        "id": "3XaVbrZaj2tS"
      },
      "source": [
        "#5. หาอายุเฉลี่ยของคนที่พบเชื้อที่ ขอนเเก่น"
      ]
    },
    {
      "cell_type": "code",
      "metadata": {
        "id": "loG8F1Wyj2E5",
        "colab": {
          "base_uri": "https://localhost:8080/",
          "height": 0
        },
        "outputId": "efca282f-6388-440b-b6de-43bdfd876c0c"
      },
      "source": [
        "list_onset = data_cases2['province_of_onset'] == 'ขอนแก่น'\n",
        "list_age =  data_cases['age']\n",
        "list_KK_age= data_cases2[list_onset & list_age]\n",
        "list_KK_age"
      ],
      "execution_count": 56,
      "outputs": [
        {
          "output_type": "execute_result",
          "data": {
            "text/html": [
              "<div>\n",
              "<style scoped>\n",
              "    .dataframe tbody tr th:only-of-type {\n",
              "        vertical-align: middle;\n",
              "    }\n",
              "\n",
              "    .dataframe tbody tr th {\n",
              "        vertical-align: top;\n",
              "    }\n",
              "\n",
              "    .dataframe thead th {\n",
              "        text-align: right;\n",
              "    }\n",
              "</style>\n",
              "<table border=\"1\" class=\"dataframe\">\n",
              "  <thead>\n",
              "    <tr style=\"text-align: right;\">\n",
              "      <th></th>\n",
              "      <th>No.</th>\n",
              "      <th>announce_date</th>\n",
              "      <th>Notified date</th>\n",
              "      <th>sex</th>\n",
              "      <th>age</th>\n",
              "      <th>Unit</th>\n",
              "      <th>nationality</th>\n",
              "      <th>province_of_isolation</th>\n",
              "      <th>risk</th>\n",
              "      <th>province_of_onset</th>\n",
              "      <th>district_of_onset</th>\n",
              "    </tr>\n",
              "  </thead>\n",
              "  <tbody>\n",
              "    <tr>\n",
              "      <th>181</th>\n",
              "      <td>182</td>\n",
              "      <td>18/3/2020</td>\n",
              "      <td>15/3/2020</td>\n",
              "      <td>ชาย</td>\n",
              "      <td>33.0</td>\n",
              "      <td>ปี</td>\n",
              "      <td>Thailand</td>\n",
              "      <td>ขอนแก่น</td>\n",
              "      <td>สนามมวย</td>\n",
              "      <td>ขอนแก่น</td>\n",
              "      <td>เมือง</td>\n",
              "    </tr>\n",
              "    <tr>\n",
              "      <th>463</th>\n",
              "      <td>464</td>\n",
              "      <td>22/3/2020</td>\n",
              "      <td>21/3/2020</td>\n",
              "      <td>หญิง</td>\n",
              "      <td>36.0</td>\n",
              "      <td>ปี</td>\n",
              "      <td>Thailand</td>\n",
              "      <td>ขอนแก่น</td>\n",
              "      <td>สัมผัสใกล้ชิดกับผู้ป่วยยืนยันรายก่อนหน้านี้</td>\n",
              "      <td>ขอนแก่น</td>\n",
              "      <td>เมือง</td>\n",
              "    </tr>\n",
              "    <tr>\n",
              "      <th>1467</th>\n",
              "      <td>1468</td>\n",
              "      <td>30/3/2020</td>\n",
              "      <td>26/3/2020</td>\n",
              "      <td>ชาย</td>\n",
              "      <td>19.0</td>\n",
              "      <td>ปี</td>\n",
              "      <td>Thailand</td>\n",
              "      <td>ขอนแก่น</td>\n",
              "      <td>คนไทยเดินทางกลับจากต่างประเทศ</td>\n",
              "      <td>ขอนแก่น</td>\n",
              "      <td>เมือง</td>\n",
              "    </tr>\n",
              "    <tr>\n",
              "      <th>1971</th>\n",
              "      <td>1972</td>\n",
              "      <td>3/4/2020</td>\n",
              "      <td>31/3/2020</td>\n",
              "      <td>หญิง</td>\n",
              "      <td>70.0</td>\n",
              "      <td>ปี</td>\n",
              "      <td>Thailand</td>\n",
              "      <td>ขอนแก่น</td>\n",
              "      <td>ไปสถานที่ชุมชน เช่น ตลาดนัด สถานที่ท่องเที่ยว</td>\n",
              "      <td>ขอนแก่น</td>\n",
              "      <td>เมือง</td>\n",
              "    </tr>\n",
              "    <tr>\n",
              "      <th>2638</th>\n",
              "      <td>2639</td>\n",
              "      <td>15/4/2020</td>\n",
              "      <td>14/4/2020</td>\n",
              "      <td>หญิง</td>\n",
              "      <td>63.0</td>\n",
              "      <td>ปี</td>\n",
              "      <td>Thailand</td>\n",
              "      <td>ขอนแก่น</td>\n",
              "      <td>สัมผัสผู้เดินทางจากต่างประเทศ</td>\n",
              "      <td>ขอนแก่น</td>\n",
              "      <td>น้ำพอง</td>\n",
              "    </tr>\n",
              "    <tr>\n",
              "      <th>...</th>\n",
              "      <td>...</td>\n",
              "      <td>...</td>\n",
              "      <td>...</td>\n",
              "      <td>...</td>\n",
              "      <td>...</td>\n",
              "      <td>...</td>\n",
              "      <td>...</td>\n",
              "      <td>...</td>\n",
              "      <td>...</td>\n",
              "      <td>...</td>\n",
              "      <td>...</td>\n",
              "    </tr>\n",
              "    <tr>\n",
              "      <th>507541</th>\n",
              "      <td>507542</td>\n",
              "      <td>26/7/2021</td>\n",
              "      <td>25/7/2021</td>\n",
              "      <td>หญิง</td>\n",
              "      <td>24.0</td>\n",
              "      <td>ปี</td>\n",
              "      <td>Thailand</td>\n",
              "      <td>อุบลราชธานี</td>\n",
              "      <td>อื่นๆ</td>\n",
              "      <td>ขอนแก่น</td>\n",
              "      <td>NaN</td>\n",
              "    </tr>\n",
              "    <tr>\n",
              "      <th>507542</th>\n",
              "      <td>507543</td>\n",
              "      <td>26/7/2021</td>\n",
              "      <td>25/7/2021</td>\n",
              "      <td>หญิง</td>\n",
              "      <td>51.0</td>\n",
              "      <td>ปี</td>\n",
              "      <td>Thailand</td>\n",
              "      <td>อุบลราชธานี</td>\n",
              "      <td>อื่นๆ</td>\n",
              "      <td>ขอนแก่น</td>\n",
              "      <td>NaN</td>\n",
              "    </tr>\n",
              "    <tr>\n",
              "      <th>507543</th>\n",
              "      <td>507544</td>\n",
              "      <td>26/7/2021</td>\n",
              "      <td>25/7/2021</td>\n",
              "      <td>หญิง</td>\n",
              "      <td>13.0</td>\n",
              "      <td>ปี</td>\n",
              "      <td>Thailand</td>\n",
              "      <td>อุบลราชธานี</td>\n",
              "      <td>อื่นๆ</td>\n",
              "      <td>ขอนแก่น</td>\n",
              "      <td>NaN</td>\n",
              "    </tr>\n",
              "    <tr>\n",
              "      <th>507544</th>\n",
              "      <td>507545</td>\n",
              "      <td>26/7/2021</td>\n",
              "      <td>25/7/2021</td>\n",
              "      <td>หญิง</td>\n",
              "      <td>23.0</td>\n",
              "      <td>ปี</td>\n",
              "      <td>Thailand</td>\n",
              "      <td>อุบลราชธานี</td>\n",
              "      <td>อื่นๆ</td>\n",
              "      <td>ขอนแก่น</td>\n",
              "      <td>NaN</td>\n",
              "    </tr>\n",
              "    <tr>\n",
              "      <th>507546</th>\n",
              "      <td>507547</td>\n",
              "      <td>26/7/2021</td>\n",
              "      <td>25/7/2021</td>\n",
              "      <td>ชาย</td>\n",
              "      <td>24.0</td>\n",
              "      <td>ปี</td>\n",
              "      <td>Thailand</td>\n",
              "      <td>อุบลราชธานี</td>\n",
              "      <td>อื่นๆ</td>\n",
              "      <td>ขอนแก่น</td>\n",
              "      <td>NaN</td>\n",
              "    </tr>\n",
              "  </tbody>\n",
              "</table>\n",
              "<p>3149 rows × 11 columns</p>\n",
              "</div>"
            ],
            "text/plain": [
              "           No. announce_date  ... province_of_onset district_of_onset\n",
              "181        182     18/3/2020  ...           ขอนแก่น             เมือง\n",
              "463        464     22/3/2020  ...           ขอนแก่น             เมือง\n",
              "1467      1468     30/3/2020  ...           ขอนแก่น             เมือง\n",
              "1971      1972      3/4/2020  ...           ขอนแก่น             เมือง\n",
              "2638      2639     15/4/2020  ...           ขอนแก่น            น้ำพอง\n",
              "...        ...           ...  ...               ...               ...\n",
              "507541  507542     26/7/2021  ...           ขอนแก่น               NaN\n",
              "507542  507543     26/7/2021  ...           ขอนแก่น               NaN\n",
              "507543  507544     26/7/2021  ...           ขอนแก่น               NaN\n",
              "507544  507545     26/7/2021  ...           ขอนแก่น               NaN\n",
              "507546  507547     26/7/2021  ...           ขอนแก่น               NaN\n",
              "\n",
              "[3149 rows x 11 columns]"
            ]
          },
          "metadata": {
            "tags": []
          },
          "execution_count": 56
        }
      ]
    },
    {
      "cell_type": "code",
      "metadata": {
        "id": "ZZjSv39Sk0an",
        "colab": {
          "base_uri": "https://localhost:8080/"
        },
        "outputId": "09ed82ce-9a18-4fb6-ded2-b03fc6b3c6b1"
      },
      "source": [
        "list_KK_age[['age']].mean()"
      ],
      "execution_count": 57,
      "outputs": [
        {
          "output_type": "execute_result",
          "data": {
            "text/plain": [
              "age    34.095253\n",
              "dtype: float64"
            ]
          },
          "metadata": {
            "tags": []
          },
          "execution_count": 57
        }
      ]
    },
    {
      "cell_type": "markdown",
      "metadata": {
        "id": "b8TWRJUA9TLn"
      },
      "source": [
        "#หาอายุเฉลี่ยของคนที่พบเชื้อที่ ขอนแก่น"
      ]
    },
    {
      "cell_type": "code",
      "metadata": {
        "colab": {
          "base_uri": "https://localhost:8080/"
        },
        "id": "uxdc4CUI4UeQ",
        "outputId": "ab86428b-092d-4297-f595-8ee11cdbc4ac"
      },
      "source": [
        "KK_cases = data_cases2['province_of_onset'] == 'ขอนแก่น'\n",
        "KK_mean = data_cases2[KK_cases]['age'].mean()\n",
        "KK_mean"
      ],
      "execution_count": 58,
      "outputs": [
        {
          "output_type": "execute_result",
          "data": {
            "text/plain": [
              "34.0952533675433"
            ]
          },
          "metadata": {
            "tags": []
          },
          "execution_count": 58
        }
      ]
    },
    {
      "cell_type": "code",
      "metadata": {
        "colab": {
          "base_uri": "https://localhost:8080/",
          "height": 0
        },
        "id": "TCyiaHs_9Zuz",
        "outputId": "062fcd6d-b3b2-4ea7-9d03-e1333830a21a"
      },
      "source": [
        "data_cases2[KK_cases]  #พบที่ขอนแก่น"
      ],
      "execution_count": 59,
      "outputs": [
        {
          "output_type": "execute_result",
          "data": {
            "text/html": [
              "<div>\n",
              "<style scoped>\n",
              "    .dataframe tbody tr th:only-of-type {\n",
              "        vertical-align: middle;\n",
              "    }\n",
              "\n",
              "    .dataframe tbody tr th {\n",
              "        vertical-align: top;\n",
              "    }\n",
              "\n",
              "    .dataframe thead th {\n",
              "        text-align: right;\n",
              "    }\n",
              "</style>\n",
              "<table border=\"1\" class=\"dataframe\">\n",
              "  <thead>\n",
              "    <tr style=\"text-align: right;\">\n",
              "      <th></th>\n",
              "      <th>No.</th>\n",
              "      <th>announce_date</th>\n",
              "      <th>Notified date</th>\n",
              "      <th>sex</th>\n",
              "      <th>age</th>\n",
              "      <th>Unit</th>\n",
              "      <th>nationality</th>\n",
              "      <th>province_of_isolation</th>\n",
              "      <th>risk</th>\n",
              "      <th>province_of_onset</th>\n",
              "      <th>district_of_onset</th>\n",
              "    </tr>\n",
              "  </thead>\n",
              "  <tbody>\n",
              "    <tr>\n",
              "      <th>181</th>\n",
              "      <td>182</td>\n",
              "      <td>18/3/2020</td>\n",
              "      <td>15/3/2020</td>\n",
              "      <td>ชาย</td>\n",
              "      <td>33.0</td>\n",
              "      <td>ปี</td>\n",
              "      <td>Thailand</td>\n",
              "      <td>ขอนแก่น</td>\n",
              "      <td>สนามมวย</td>\n",
              "      <td>ขอนแก่น</td>\n",
              "      <td>เมือง</td>\n",
              "    </tr>\n",
              "    <tr>\n",
              "      <th>463</th>\n",
              "      <td>464</td>\n",
              "      <td>22/3/2020</td>\n",
              "      <td>21/3/2020</td>\n",
              "      <td>หญิง</td>\n",
              "      <td>36.0</td>\n",
              "      <td>ปี</td>\n",
              "      <td>Thailand</td>\n",
              "      <td>ขอนแก่น</td>\n",
              "      <td>สัมผัสใกล้ชิดกับผู้ป่วยยืนยันรายก่อนหน้านี้</td>\n",
              "      <td>ขอนแก่น</td>\n",
              "      <td>เมือง</td>\n",
              "    </tr>\n",
              "    <tr>\n",
              "      <th>1467</th>\n",
              "      <td>1468</td>\n",
              "      <td>30/3/2020</td>\n",
              "      <td>26/3/2020</td>\n",
              "      <td>ชาย</td>\n",
              "      <td>19.0</td>\n",
              "      <td>ปี</td>\n",
              "      <td>Thailand</td>\n",
              "      <td>ขอนแก่น</td>\n",
              "      <td>คนไทยเดินทางกลับจากต่างประเทศ</td>\n",
              "      <td>ขอนแก่น</td>\n",
              "      <td>เมือง</td>\n",
              "    </tr>\n",
              "    <tr>\n",
              "      <th>1971</th>\n",
              "      <td>1972</td>\n",
              "      <td>3/4/2020</td>\n",
              "      <td>31/3/2020</td>\n",
              "      <td>หญิง</td>\n",
              "      <td>70.0</td>\n",
              "      <td>ปี</td>\n",
              "      <td>Thailand</td>\n",
              "      <td>ขอนแก่น</td>\n",
              "      <td>ไปสถานที่ชุมชน เช่น ตลาดนัด สถานที่ท่องเที่ยว</td>\n",
              "      <td>ขอนแก่น</td>\n",
              "      <td>เมือง</td>\n",
              "    </tr>\n",
              "    <tr>\n",
              "      <th>2638</th>\n",
              "      <td>2639</td>\n",
              "      <td>15/4/2020</td>\n",
              "      <td>14/4/2020</td>\n",
              "      <td>หญิง</td>\n",
              "      <td>63.0</td>\n",
              "      <td>ปี</td>\n",
              "      <td>Thailand</td>\n",
              "      <td>ขอนแก่น</td>\n",
              "      <td>สัมผัสผู้เดินทางจากต่างประเทศ</td>\n",
              "      <td>ขอนแก่น</td>\n",
              "      <td>น้ำพอง</td>\n",
              "    </tr>\n",
              "    <tr>\n",
              "      <th>...</th>\n",
              "      <td>...</td>\n",
              "      <td>...</td>\n",
              "      <td>...</td>\n",
              "      <td>...</td>\n",
              "      <td>...</td>\n",
              "      <td>...</td>\n",
              "      <td>...</td>\n",
              "      <td>...</td>\n",
              "      <td>...</td>\n",
              "      <td>...</td>\n",
              "      <td>...</td>\n",
              "    </tr>\n",
              "    <tr>\n",
              "      <th>507541</th>\n",
              "      <td>507542</td>\n",
              "      <td>26/7/2021</td>\n",
              "      <td>25/7/2021</td>\n",
              "      <td>หญิง</td>\n",
              "      <td>24.0</td>\n",
              "      <td>ปี</td>\n",
              "      <td>Thailand</td>\n",
              "      <td>อุบลราชธานี</td>\n",
              "      <td>อื่นๆ</td>\n",
              "      <td>ขอนแก่น</td>\n",
              "      <td>NaN</td>\n",
              "    </tr>\n",
              "    <tr>\n",
              "      <th>507542</th>\n",
              "      <td>507543</td>\n",
              "      <td>26/7/2021</td>\n",
              "      <td>25/7/2021</td>\n",
              "      <td>หญิง</td>\n",
              "      <td>51.0</td>\n",
              "      <td>ปี</td>\n",
              "      <td>Thailand</td>\n",
              "      <td>อุบลราชธานี</td>\n",
              "      <td>อื่นๆ</td>\n",
              "      <td>ขอนแก่น</td>\n",
              "      <td>NaN</td>\n",
              "    </tr>\n",
              "    <tr>\n",
              "      <th>507543</th>\n",
              "      <td>507544</td>\n",
              "      <td>26/7/2021</td>\n",
              "      <td>25/7/2021</td>\n",
              "      <td>หญิง</td>\n",
              "      <td>13.0</td>\n",
              "      <td>ปี</td>\n",
              "      <td>Thailand</td>\n",
              "      <td>อุบลราชธานี</td>\n",
              "      <td>อื่นๆ</td>\n",
              "      <td>ขอนแก่น</td>\n",
              "      <td>NaN</td>\n",
              "    </tr>\n",
              "    <tr>\n",
              "      <th>507544</th>\n",
              "      <td>507545</td>\n",
              "      <td>26/7/2021</td>\n",
              "      <td>25/7/2021</td>\n",
              "      <td>หญิง</td>\n",
              "      <td>23.0</td>\n",
              "      <td>ปี</td>\n",
              "      <td>Thailand</td>\n",
              "      <td>อุบลราชธานี</td>\n",
              "      <td>อื่นๆ</td>\n",
              "      <td>ขอนแก่น</td>\n",
              "      <td>NaN</td>\n",
              "    </tr>\n",
              "    <tr>\n",
              "      <th>507546</th>\n",
              "      <td>507547</td>\n",
              "      <td>26/7/2021</td>\n",
              "      <td>25/7/2021</td>\n",
              "      <td>ชาย</td>\n",
              "      <td>24.0</td>\n",
              "      <td>ปี</td>\n",
              "      <td>Thailand</td>\n",
              "      <td>อุบลราชธานี</td>\n",
              "      <td>อื่นๆ</td>\n",
              "      <td>ขอนแก่น</td>\n",
              "      <td>NaN</td>\n",
              "    </tr>\n",
              "  </tbody>\n",
              "</table>\n",
              "<p>3149 rows × 11 columns</p>\n",
              "</div>"
            ],
            "text/plain": [
              "           No. announce_date  ... province_of_onset district_of_onset\n",
              "181        182     18/3/2020  ...           ขอนแก่น             เมือง\n",
              "463        464     22/3/2020  ...           ขอนแก่น             เมือง\n",
              "1467      1468     30/3/2020  ...           ขอนแก่น             เมือง\n",
              "1971      1972      3/4/2020  ...           ขอนแก่น             เมือง\n",
              "2638      2639     15/4/2020  ...           ขอนแก่น            น้ำพอง\n",
              "...        ...           ...  ...               ...               ...\n",
              "507541  507542     26/7/2021  ...           ขอนแก่น               NaN\n",
              "507542  507543     26/7/2021  ...           ขอนแก่น               NaN\n",
              "507543  507544     26/7/2021  ...           ขอนแก่น               NaN\n",
              "507544  507545     26/7/2021  ...           ขอนแก่น               NaN\n",
              "507546  507547     26/7/2021  ...           ขอนแก่น               NaN\n",
              "\n",
              "[3149 rows x 11 columns]"
            ]
          },
          "metadata": {
            "tags": []
          },
          "execution_count": 59
        }
      ]
    },
    {
      "cell_type": "markdown",
      "metadata": {
        "id": "GaXzHuzp9i8y"
      },
      "source": [
        "#เอาค่า mean ไปเติมตรง missing column 'age'"
      ]
    },
    {
      "cell_type": "code",
      "metadata": {
        "colab": {
          "base_uri": "https://localhost:8080/"
        },
        "id": "N2A1sai29iYT",
        "outputId": "c445c991-a63b-4596-e61b-7b20049cd271"
      },
      "source": [
        "data_KK = data_cases2[KK_cases]\n",
        "data_KK.isnull().any()"
      ],
      "execution_count": 60,
      "outputs": [
        {
          "output_type": "execute_result",
          "data": {
            "text/plain": [
              "No.                      False\n",
              "announce_date            False\n",
              "Notified date            False\n",
              "sex                       True\n",
              "age                       True\n",
              "Unit                      True\n",
              "nationality               True\n",
              "province_of_isolation    False\n",
              "risk                      True\n",
              "province_of_onset        False\n",
              "district_of_onset         True\n",
              "dtype: bool"
            ]
          },
          "metadata": {
            "tags": []
          },
          "execution_count": 60
        }
      ]
    },
    {
      "cell_type": "code",
      "metadata": {
        "colab": {
          "base_uri": "https://localhost:8080/"
        },
        "id": "O-KJEVJi9scv",
        "outputId": "1c9e6956-8f53-4241-f88b-336625bd3a56"
      },
      "source": [
        "data_KK[['age']] = data_KK[['age']].fillna(KK_mean)"
      ],
      "execution_count": 61,
      "outputs": [
        {
          "output_type": "stream",
          "text": [
            "/usr/local/lib/python3.7/dist-packages/pandas/core/frame.py:3069: SettingWithCopyWarning: \n",
            "A value is trying to be set on a copy of a slice from a DataFrame.\n",
            "Try using .loc[row_indexer,col_indexer] = value instead\n",
            "\n",
            "See the caveats in the documentation: https://pandas.pydata.org/pandas-docs/stable/user_guide/indexing.html#returning-a-view-versus-a-copy\n",
            "  self[k1] = value[k2]\n"
          ],
          "name": "stderr"
        }
      ]
    },
    {
      "cell_type": "code",
      "metadata": {
        "colab": {
          "base_uri": "https://localhost:8080/"
        },
        "id": "0ZRlsBST9w3A",
        "outputId": "f8834bd0-7be0-429c-867f-2db222a0dfd2"
      },
      "source": [
        "data_KK.isnull().any()"
      ],
      "execution_count": 62,
      "outputs": [
        {
          "output_type": "execute_result",
          "data": {
            "text/plain": [
              "No.                      False\n",
              "announce_date            False\n",
              "Notified date            False\n",
              "sex                       True\n",
              "age                      False\n",
              "Unit                      True\n",
              "nationality               True\n",
              "province_of_isolation    False\n",
              "risk                      True\n",
              "province_of_onset        False\n",
              "district_of_onset         True\n",
              "dtype: bool"
            ]
          },
          "metadata": {
            "tags": []
          },
          "execution_count": 62
        }
      ]
    },
    {
      "cell_type": "code",
      "metadata": {
        "colab": {
          "base_uri": "https://localhost:8080/",
          "height": 0
        },
        "id": "sbzgfDnS91jS",
        "outputId": "dfa773f7-0a51-461f-a60e-447b29573990"
      },
      "source": [
        "data_KK"
      ],
      "execution_count": 63,
      "outputs": [
        {
          "output_type": "execute_result",
          "data": {
            "text/html": [
              "<div>\n",
              "<style scoped>\n",
              "    .dataframe tbody tr th:only-of-type {\n",
              "        vertical-align: middle;\n",
              "    }\n",
              "\n",
              "    .dataframe tbody tr th {\n",
              "        vertical-align: top;\n",
              "    }\n",
              "\n",
              "    .dataframe thead th {\n",
              "        text-align: right;\n",
              "    }\n",
              "</style>\n",
              "<table border=\"1\" class=\"dataframe\">\n",
              "  <thead>\n",
              "    <tr style=\"text-align: right;\">\n",
              "      <th></th>\n",
              "      <th>No.</th>\n",
              "      <th>announce_date</th>\n",
              "      <th>Notified date</th>\n",
              "      <th>sex</th>\n",
              "      <th>age</th>\n",
              "      <th>Unit</th>\n",
              "      <th>nationality</th>\n",
              "      <th>province_of_isolation</th>\n",
              "      <th>risk</th>\n",
              "      <th>province_of_onset</th>\n",
              "      <th>district_of_onset</th>\n",
              "    </tr>\n",
              "  </thead>\n",
              "  <tbody>\n",
              "    <tr>\n",
              "      <th>181</th>\n",
              "      <td>182</td>\n",
              "      <td>18/3/2020</td>\n",
              "      <td>15/3/2020</td>\n",
              "      <td>ชาย</td>\n",
              "      <td>33.0</td>\n",
              "      <td>ปี</td>\n",
              "      <td>Thailand</td>\n",
              "      <td>ขอนแก่น</td>\n",
              "      <td>สนามมวย</td>\n",
              "      <td>ขอนแก่น</td>\n",
              "      <td>เมือง</td>\n",
              "    </tr>\n",
              "    <tr>\n",
              "      <th>463</th>\n",
              "      <td>464</td>\n",
              "      <td>22/3/2020</td>\n",
              "      <td>21/3/2020</td>\n",
              "      <td>หญิง</td>\n",
              "      <td>36.0</td>\n",
              "      <td>ปี</td>\n",
              "      <td>Thailand</td>\n",
              "      <td>ขอนแก่น</td>\n",
              "      <td>สัมผัสใกล้ชิดกับผู้ป่วยยืนยันรายก่อนหน้านี้</td>\n",
              "      <td>ขอนแก่น</td>\n",
              "      <td>เมือง</td>\n",
              "    </tr>\n",
              "    <tr>\n",
              "      <th>1467</th>\n",
              "      <td>1468</td>\n",
              "      <td>30/3/2020</td>\n",
              "      <td>26/3/2020</td>\n",
              "      <td>ชาย</td>\n",
              "      <td>19.0</td>\n",
              "      <td>ปี</td>\n",
              "      <td>Thailand</td>\n",
              "      <td>ขอนแก่น</td>\n",
              "      <td>คนไทยเดินทางกลับจากต่างประเทศ</td>\n",
              "      <td>ขอนแก่น</td>\n",
              "      <td>เมือง</td>\n",
              "    </tr>\n",
              "    <tr>\n",
              "      <th>1971</th>\n",
              "      <td>1972</td>\n",
              "      <td>3/4/2020</td>\n",
              "      <td>31/3/2020</td>\n",
              "      <td>หญิง</td>\n",
              "      <td>70.0</td>\n",
              "      <td>ปี</td>\n",
              "      <td>Thailand</td>\n",
              "      <td>ขอนแก่น</td>\n",
              "      <td>ไปสถานที่ชุมชน เช่น ตลาดนัด สถานที่ท่องเที่ยว</td>\n",
              "      <td>ขอนแก่น</td>\n",
              "      <td>เมือง</td>\n",
              "    </tr>\n",
              "    <tr>\n",
              "      <th>2638</th>\n",
              "      <td>2639</td>\n",
              "      <td>15/4/2020</td>\n",
              "      <td>14/4/2020</td>\n",
              "      <td>หญิง</td>\n",
              "      <td>63.0</td>\n",
              "      <td>ปี</td>\n",
              "      <td>Thailand</td>\n",
              "      <td>ขอนแก่น</td>\n",
              "      <td>สัมผัสผู้เดินทางจากต่างประเทศ</td>\n",
              "      <td>ขอนแก่น</td>\n",
              "      <td>น้ำพอง</td>\n",
              "    </tr>\n",
              "    <tr>\n",
              "      <th>...</th>\n",
              "      <td>...</td>\n",
              "      <td>...</td>\n",
              "      <td>...</td>\n",
              "      <td>...</td>\n",
              "      <td>...</td>\n",
              "      <td>...</td>\n",
              "      <td>...</td>\n",
              "      <td>...</td>\n",
              "      <td>...</td>\n",
              "      <td>...</td>\n",
              "      <td>...</td>\n",
              "    </tr>\n",
              "    <tr>\n",
              "      <th>507541</th>\n",
              "      <td>507542</td>\n",
              "      <td>26/7/2021</td>\n",
              "      <td>25/7/2021</td>\n",
              "      <td>หญิง</td>\n",
              "      <td>24.0</td>\n",
              "      <td>ปี</td>\n",
              "      <td>Thailand</td>\n",
              "      <td>อุบลราชธานี</td>\n",
              "      <td>อื่นๆ</td>\n",
              "      <td>ขอนแก่น</td>\n",
              "      <td>NaN</td>\n",
              "    </tr>\n",
              "    <tr>\n",
              "      <th>507542</th>\n",
              "      <td>507543</td>\n",
              "      <td>26/7/2021</td>\n",
              "      <td>25/7/2021</td>\n",
              "      <td>หญิง</td>\n",
              "      <td>51.0</td>\n",
              "      <td>ปี</td>\n",
              "      <td>Thailand</td>\n",
              "      <td>อุบลราชธานี</td>\n",
              "      <td>อื่นๆ</td>\n",
              "      <td>ขอนแก่น</td>\n",
              "      <td>NaN</td>\n",
              "    </tr>\n",
              "    <tr>\n",
              "      <th>507543</th>\n",
              "      <td>507544</td>\n",
              "      <td>26/7/2021</td>\n",
              "      <td>25/7/2021</td>\n",
              "      <td>หญิง</td>\n",
              "      <td>13.0</td>\n",
              "      <td>ปี</td>\n",
              "      <td>Thailand</td>\n",
              "      <td>อุบลราชธานี</td>\n",
              "      <td>อื่นๆ</td>\n",
              "      <td>ขอนแก่น</td>\n",
              "      <td>NaN</td>\n",
              "    </tr>\n",
              "    <tr>\n",
              "      <th>507544</th>\n",
              "      <td>507545</td>\n",
              "      <td>26/7/2021</td>\n",
              "      <td>25/7/2021</td>\n",
              "      <td>หญิง</td>\n",
              "      <td>23.0</td>\n",
              "      <td>ปี</td>\n",
              "      <td>Thailand</td>\n",
              "      <td>อุบลราชธานี</td>\n",
              "      <td>อื่นๆ</td>\n",
              "      <td>ขอนแก่น</td>\n",
              "      <td>NaN</td>\n",
              "    </tr>\n",
              "    <tr>\n",
              "      <th>507546</th>\n",
              "      <td>507547</td>\n",
              "      <td>26/7/2021</td>\n",
              "      <td>25/7/2021</td>\n",
              "      <td>ชาย</td>\n",
              "      <td>24.0</td>\n",
              "      <td>ปี</td>\n",
              "      <td>Thailand</td>\n",
              "      <td>อุบลราชธานี</td>\n",
              "      <td>อื่นๆ</td>\n",
              "      <td>ขอนแก่น</td>\n",
              "      <td>NaN</td>\n",
              "    </tr>\n",
              "  </tbody>\n",
              "</table>\n",
              "<p>3149 rows × 11 columns</p>\n",
              "</div>"
            ],
            "text/plain": [
              "           No. announce_date  ... province_of_onset district_of_onset\n",
              "181        182     18/3/2020  ...           ขอนแก่น             เมือง\n",
              "463        464     22/3/2020  ...           ขอนแก่น             เมือง\n",
              "1467      1468     30/3/2020  ...           ขอนแก่น             เมือง\n",
              "1971      1972      3/4/2020  ...           ขอนแก่น             เมือง\n",
              "2638      2639     15/4/2020  ...           ขอนแก่น            น้ำพอง\n",
              "...        ...           ...  ...               ...               ...\n",
              "507541  507542     26/7/2021  ...           ขอนแก่น               NaN\n",
              "507542  507543     26/7/2021  ...           ขอนแก่น               NaN\n",
              "507543  507544     26/7/2021  ...           ขอนแก่น               NaN\n",
              "507544  507545     26/7/2021  ...           ขอนแก่น               NaN\n",
              "507546  507547     26/7/2021  ...           ขอนแก่น               NaN\n",
              "\n",
              "[3149 rows x 11 columns]"
            ]
          },
          "metadata": {
            "tags": []
          },
          "execution_count": 63
        }
      ]
    },
    {
      "cell_type": "markdown",
      "metadata": {
        "id": "emwQEM1M979W"
      },
      "source": [
        "#เติมค่า mean แทน missing ของ เชียงใหม่"
      ]
    },
    {
      "cell_type": "code",
      "metadata": {
        "colab": {
          "base_uri": "https://localhost:8080/"
        },
        "id": "Ca1r5XBb95Ra",
        "outputId": "7301e9bd-b8eb-414e-b079-1a8ddb6d54f1"
      },
      "source": [
        "# หาค่า mean ของเชียงใหม่\n",
        "CM_cases = data_cases2['province_of_onset'] == 'เชียงใหม่'\n",
        "CM_mean = data_cases2[CM_cases]['age'].mean()\n",
        "\n",
        "# เลือกมาเฉพาะ data เชียงใหม่\n",
        "data_CM = data_cases2[CM_cases]\n",
        "\n",
        "# เติมค่า mean แทน missing\n",
        "data_CM[['age']] = data_CM[['age']].fillna(CM_mean)"
      ],
      "execution_count": 64,
      "outputs": [
        {
          "output_type": "stream",
          "text": [
            "/usr/local/lib/python3.7/dist-packages/pandas/core/frame.py:3069: SettingWithCopyWarning: \n",
            "A value is trying to be set on a copy of a slice from a DataFrame.\n",
            "Try using .loc[row_indexer,col_indexer] = value instead\n",
            "\n",
            "See the caveats in the documentation: https://pandas.pydata.org/pandas-docs/stable/user_guide/indexing.html#returning-a-view-versus-a-copy\n",
            "  self[k1] = value[k2]\n"
          ],
          "name": "stderr"
        }
      ]
    },
    {
      "cell_type": "markdown",
      "metadata": {
        "id": "ywZ-rMbB8Vm2"
      },
      "source": [
        "#ต่อตารางแนวแกน Y[PD]"
      ]
    },
    {
      "cell_type": "code",
      "metadata": {
        "colab": {
          "base_uri": "https://localhost:8080/",
          "height": 418
        },
        "id": "kUCbvEdK8e4T",
        "outputId": "e54d0986-f332-41f3-a99e-3c889cd3c2aa"
      },
      "source": [
        "data_CMKK = pd.concat([data_CM,data_KK])\n",
        "data_CMKK"
      ],
      "execution_count": 65,
      "outputs": [
        {
          "output_type": "execute_result",
          "data": {
            "text/html": [
              "<div>\n",
              "<style scoped>\n",
              "    .dataframe tbody tr th:only-of-type {\n",
              "        vertical-align: middle;\n",
              "    }\n",
              "\n",
              "    .dataframe tbody tr th {\n",
              "        vertical-align: top;\n",
              "    }\n",
              "\n",
              "    .dataframe thead th {\n",
              "        text-align: right;\n",
              "    }\n",
              "</style>\n",
              "<table border=\"1\" class=\"dataframe\">\n",
              "  <thead>\n",
              "    <tr style=\"text-align: right;\">\n",
              "      <th></th>\n",
              "      <th>No.</th>\n",
              "      <th>announce_date</th>\n",
              "      <th>Notified date</th>\n",
              "      <th>sex</th>\n",
              "      <th>age</th>\n",
              "      <th>Unit</th>\n",
              "      <th>nationality</th>\n",
              "      <th>province_of_isolation</th>\n",
              "      <th>risk</th>\n",
              "      <th>province_of_onset</th>\n",
              "      <th>district_of_onset</th>\n",
              "    </tr>\n",
              "  </thead>\n",
              "  <tbody>\n",
              "    <tr>\n",
              "      <th>16</th>\n",
              "      <td>17</td>\n",
              "      <td>31/1/2020</td>\n",
              "      <td>NaN</td>\n",
              "      <td>ชาย</td>\n",
              "      <td>28.0</td>\n",
              "      <td>ปี</td>\n",
              "      <td>China</td>\n",
              "      <td>เชียงใหม่</td>\n",
              "      <td>คนต่างชาติเดินทางมาจากต่างประเทศ</td>\n",
              "      <td>เชียงใหม่</td>\n",
              "      <td>หางดง</td>\n",
              "    </tr>\n",
              "    <tr>\n",
              "      <th>91</th>\n",
              "      <td>92</td>\n",
              "      <td>15/3/2020</td>\n",
              "      <td>NaN</td>\n",
              "      <td>ชาย</td>\n",
              "      <td>37.0</td>\n",
              "      <td>ปี</td>\n",
              "      <td>Thailand</td>\n",
              "      <td>เชียงใหม่</td>\n",
              "      <td>สนามมวย</td>\n",
              "      <td>เชียงใหม่</td>\n",
              "      <td>แม่ริม</td>\n",
              "    </tr>\n",
              "    <tr>\n",
              "      <th>185</th>\n",
              "      <td>186</td>\n",
              "      <td>18/3/2020</td>\n",
              "      <td>NaN</td>\n",
              "      <td>ชาย</td>\n",
              "      <td>31.0</td>\n",
              "      <td>ปี</td>\n",
              "      <td>Thailand</td>\n",
              "      <td>เชียงใหม่</td>\n",
              "      <td>สนามมวย</td>\n",
              "      <td>เชียงใหม่</td>\n",
              "      <td>นครพิงค์</td>\n",
              "    </tr>\n",
              "    <tr>\n",
              "      <th>192</th>\n",
              "      <td>193</td>\n",
              "      <td>18/3/2020</td>\n",
              "      <td>NaN</td>\n",
              "      <td>ชาย</td>\n",
              "      <td>32.0</td>\n",
              "      <td>ปี</td>\n",
              "      <td>Thailand</td>\n",
              "      <td>เชียงใหม่</td>\n",
              "      <td>สัมผัสใกล้ชิดกับผู้ป่วยยืนยันรายก่อนหน้านี้</td>\n",
              "      <td>เชียงใหม่</td>\n",
              "      <td>NaN</td>\n",
              "    </tr>\n",
              "    <tr>\n",
              "      <th>252</th>\n",
              "      <td>253</td>\n",
              "      <td>19/3/2020</td>\n",
              "      <td>NaN</td>\n",
              "      <td>ชาย</td>\n",
              "      <td>25.0</td>\n",
              "      <td>ปี</td>\n",
              "      <td>Thailand</td>\n",
              "      <td>เชียงใหม่</td>\n",
              "      <td>สัมผัสใกล้ชิดกับผู้ป่วยยืนยันรายก่อนหน้านี้</td>\n",
              "      <td>เชียงใหม่</td>\n",
              "      <td>NaN</td>\n",
              "    </tr>\n",
              "    <tr>\n",
              "      <th>...</th>\n",
              "      <td>...</td>\n",
              "      <td>...</td>\n",
              "      <td>...</td>\n",
              "      <td>...</td>\n",
              "      <td>...</td>\n",
              "      <td>...</td>\n",
              "      <td>...</td>\n",
              "      <td>...</td>\n",
              "      <td>...</td>\n",
              "      <td>...</td>\n",
              "      <td>...</td>\n",
              "    </tr>\n",
              "    <tr>\n",
              "      <th>507541</th>\n",
              "      <td>507542</td>\n",
              "      <td>26/7/2021</td>\n",
              "      <td>25/7/2021</td>\n",
              "      <td>หญิง</td>\n",
              "      <td>24.0</td>\n",
              "      <td>ปี</td>\n",
              "      <td>Thailand</td>\n",
              "      <td>อุบลราชธานี</td>\n",
              "      <td>อื่นๆ</td>\n",
              "      <td>ขอนแก่น</td>\n",
              "      <td>NaN</td>\n",
              "    </tr>\n",
              "    <tr>\n",
              "      <th>507542</th>\n",
              "      <td>507543</td>\n",
              "      <td>26/7/2021</td>\n",
              "      <td>25/7/2021</td>\n",
              "      <td>หญิง</td>\n",
              "      <td>51.0</td>\n",
              "      <td>ปี</td>\n",
              "      <td>Thailand</td>\n",
              "      <td>อุบลราชธานี</td>\n",
              "      <td>อื่นๆ</td>\n",
              "      <td>ขอนแก่น</td>\n",
              "      <td>NaN</td>\n",
              "    </tr>\n",
              "    <tr>\n",
              "      <th>507543</th>\n",
              "      <td>507544</td>\n",
              "      <td>26/7/2021</td>\n",
              "      <td>25/7/2021</td>\n",
              "      <td>หญิง</td>\n",
              "      <td>13.0</td>\n",
              "      <td>ปี</td>\n",
              "      <td>Thailand</td>\n",
              "      <td>อุบลราชธานี</td>\n",
              "      <td>อื่นๆ</td>\n",
              "      <td>ขอนแก่น</td>\n",
              "      <td>NaN</td>\n",
              "    </tr>\n",
              "    <tr>\n",
              "      <th>507544</th>\n",
              "      <td>507545</td>\n",
              "      <td>26/7/2021</td>\n",
              "      <td>25/7/2021</td>\n",
              "      <td>หญิง</td>\n",
              "      <td>23.0</td>\n",
              "      <td>ปี</td>\n",
              "      <td>Thailand</td>\n",
              "      <td>อุบลราชธานี</td>\n",
              "      <td>อื่นๆ</td>\n",
              "      <td>ขอนแก่น</td>\n",
              "      <td>NaN</td>\n",
              "    </tr>\n",
              "    <tr>\n",
              "      <th>507546</th>\n",
              "      <td>507547</td>\n",
              "      <td>26/7/2021</td>\n",
              "      <td>25/7/2021</td>\n",
              "      <td>ชาย</td>\n",
              "      <td>24.0</td>\n",
              "      <td>ปี</td>\n",
              "      <td>Thailand</td>\n",
              "      <td>อุบลราชธานี</td>\n",
              "      <td>อื่นๆ</td>\n",
              "      <td>ขอนแก่น</td>\n",
              "      <td>NaN</td>\n",
              "    </tr>\n",
              "  </tbody>\n",
              "</table>\n",
              "<p>7223 rows × 11 columns</p>\n",
              "</div>"
            ],
            "text/plain": [
              "           No. announce_date  ... province_of_onset district_of_onset\n",
              "16          17     31/1/2020  ...         เชียงใหม่             หางดง\n",
              "91          92     15/3/2020  ...         เชียงใหม่            แม่ริม\n",
              "185        186     18/3/2020  ...         เชียงใหม่          นครพิงค์\n",
              "192        193     18/3/2020  ...         เชียงใหม่               NaN\n",
              "252        253     19/3/2020  ...         เชียงใหม่               NaN\n",
              "...        ...           ...  ...               ...               ...\n",
              "507541  507542     26/7/2021  ...           ขอนแก่น               NaN\n",
              "507542  507543     26/7/2021  ...           ขอนแก่น               NaN\n",
              "507543  507544     26/7/2021  ...           ขอนแก่น               NaN\n",
              "507544  507545     26/7/2021  ...           ขอนแก่น               NaN\n",
              "507546  507547     26/7/2021  ...           ขอนแก่น               NaN\n",
              "\n",
              "[7223 rows x 11 columns]"
            ]
          },
          "metadata": {
            "tags": []
          },
          "execution_count": 65
        }
      ]
    },
    {
      "cell_type": "markdown",
      "metadata": {
        "id": "swXtCQE1-Gk-"
      },
      "source": [
        "#Handling Missing Value 5 (แทนด้วย ค่ากลางของ samples ใน class เดียวกัน) (ต่อ)"
      ]
    },
    {
      "cell_type": "code",
      "metadata": {
        "colab": {
          "base_uri": "https://localhost:8080/",
          "height": 418
        },
        "id": "d93nzfjg-JmH",
        "outputId": "15417c38-abab-4663-b033-f7d0cd5c8f32"
      },
      "source": [
        "data_cases2"
      ],
      "execution_count": 66,
      "outputs": [
        {
          "output_type": "execute_result",
          "data": {
            "text/html": [
              "<div>\n",
              "<style scoped>\n",
              "    .dataframe tbody tr th:only-of-type {\n",
              "        vertical-align: middle;\n",
              "    }\n",
              "\n",
              "    .dataframe tbody tr th {\n",
              "        vertical-align: top;\n",
              "    }\n",
              "\n",
              "    .dataframe thead th {\n",
              "        text-align: right;\n",
              "    }\n",
              "</style>\n",
              "<table border=\"1\" class=\"dataframe\">\n",
              "  <thead>\n",
              "    <tr style=\"text-align: right;\">\n",
              "      <th></th>\n",
              "      <th>No.</th>\n",
              "      <th>announce_date</th>\n",
              "      <th>Notified date</th>\n",
              "      <th>sex</th>\n",
              "      <th>age</th>\n",
              "      <th>Unit</th>\n",
              "      <th>nationality</th>\n",
              "      <th>province_of_isolation</th>\n",
              "      <th>risk</th>\n",
              "      <th>province_of_onset</th>\n",
              "      <th>district_of_onset</th>\n",
              "    </tr>\n",
              "  </thead>\n",
              "  <tbody>\n",
              "    <tr>\n",
              "      <th>0</th>\n",
              "      <td>1</td>\n",
              "      <td>12/1/2020</td>\n",
              "      <td>NaN</td>\n",
              "      <td>หญิง</td>\n",
              "      <td>61.0</td>\n",
              "      <td>ปี</td>\n",
              "      <td>China</td>\n",
              "      <td>กรุงเทพมหานคร</td>\n",
              "      <td>คนต่างชาติเดินทางมาจากต่างประเทศ</td>\n",
              "      <td>กรุงเทพมหานคร</td>\n",
              "      <td>NaN</td>\n",
              "    </tr>\n",
              "    <tr>\n",
              "      <th>1</th>\n",
              "      <td>2</td>\n",
              "      <td>17/1/2020</td>\n",
              "      <td>NaN</td>\n",
              "      <td>หญิง</td>\n",
              "      <td>74.0</td>\n",
              "      <td>ปี</td>\n",
              "      <td>China</td>\n",
              "      <td>กรุงเทพมหานคร</td>\n",
              "      <td>คนต่างชาติเดินทางมาจากต่างประเทศ</td>\n",
              "      <td>กรุงเทพมหานคร</td>\n",
              "      <td>NaN</td>\n",
              "    </tr>\n",
              "    <tr>\n",
              "      <th>2</th>\n",
              "      <td>3</td>\n",
              "      <td>22/1/2020</td>\n",
              "      <td>NaN</td>\n",
              "      <td>หญิง</td>\n",
              "      <td>73.0</td>\n",
              "      <td>ปี</td>\n",
              "      <td>Thailand</td>\n",
              "      <td>นครปฐม</td>\n",
              "      <td>คนต่างชาติเดินทางมาจากต่างประเทศ</td>\n",
              "      <td>นครปฐม</td>\n",
              "      <td>เมือง</td>\n",
              "    </tr>\n",
              "    <tr>\n",
              "      <th>3</th>\n",
              "      <td>4</td>\n",
              "      <td>22/1/2020</td>\n",
              "      <td>NaN</td>\n",
              "      <td>ชาย</td>\n",
              "      <td>68.0</td>\n",
              "      <td>ปี</td>\n",
              "      <td>China</td>\n",
              "      <td>กรุงเทพมหานคร</td>\n",
              "      <td>คนต่างชาติเดินทางมาจากต่างประเทศ</td>\n",
              "      <td>กรุงเทพมหานคร</td>\n",
              "      <td>NaN</td>\n",
              "    </tr>\n",
              "    <tr>\n",
              "      <th>4</th>\n",
              "      <td>5</td>\n",
              "      <td>24/1/2020</td>\n",
              "      <td>NaN</td>\n",
              "      <td>หญิง</td>\n",
              "      <td>66.0</td>\n",
              "      <td>ปี</td>\n",
              "      <td>China</td>\n",
              "      <td>นนทบุรี</td>\n",
              "      <td>คนต่างชาติเดินทางมาจากต่างประเทศ</td>\n",
              "      <td>กรุงเทพมหานคร</td>\n",
              "      <td>NaN</td>\n",
              "    </tr>\n",
              "    <tr>\n",
              "      <th>...</th>\n",
              "      <td>...</td>\n",
              "      <td>...</td>\n",
              "      <td>...</td>\n",
              "      <td>...</td>\n",
              "      <td>...</td>\n",
              "      <td>...</td>\n",
              "      <td>...</td>\n",
              "      <td>...</td>\n",
              "      <td>...</td>\n",
              "      <td>...</td>\n",
              "      <td>...</td>\n",
              "    </tr>\n",
              "    <tr>\n",
              "      <th>512617</th>\n",
              "      <td>512618</td>\n",
              "      <td>26/7/2021</td>\n",
              "      <td>25/7/2021</td>\n",
              "      <td>ชาย</td>\n",
              "      <td>NaN</td>\n",
              "      <td>NaN</td>\n",
              "      <td>NaN</td>\n",
              "      <td>ชลบุรี</td>\n",
              "      <td>ทัณฑสถาน/เรือนจำ</td>\n",
              "      <td>NaN</td>\n",
              "      <td>NaN</td>\n",
              "    </tr>\n",
              "    <tr>\n",
              "      <th>512618</th>\n",
              "      <td>512619</td>\n",
              "      <td>26/7/2021</td>\n",
              "      <td>25/7/2021</td>\n",
              "      <td>ชาย</td>\n",
              "      <td>NaN</td>\n",
              "      <td>NaN</td>\n",
              "      <td>NaN</td>\n",
              "      <td>ชลบุรี</td>\n",
              "      <td>ทัณฑสถาน/เรือนจำ</td>\n",
              "      <td>NaN</td>\n",
              "      <td>NaN</td>\n",
              "    </tr>\n",
              "    <tr>\n",
              "      <th>512619</th>\n",
              "      <td>512620</td>\n",
              "      <td>26/7/2021</td>\n",
              "      <td>25/7/2021</td>\n",
              "      <td>ชาย</td>\n",
              "      <td>NaN</td>\n",
              "      <td>NaN</td>\n",
              "      <td>NaN</td>\n",
              "      <td>ชลบุรี</td>\n",
              "      <td>ทัณฑสถาน/เรือนจำ</td>\n",
              "      <td>NaN</td>\n",
              "      <td>NaN</td>\n",
              "    </tr>\n",
              "    <tr>\n",
              "      <th>512620</th>\n",
              "      <td>512621</td>\n",
              "      <td>26/7/2021</td>\n",
              "      <td>25/7/2021</td>\n",
              "      <td>ชาย</td>\n",
              "      <td>NaN</td>\n",
              "      <td>NaN</td>\n",
              "      <td>NaN</td>\n",
              "      <td>ชลบุรี</td>\n",
              "      <td>ทัณฑสถาน/เรือนจำ</td>\n",
              "      <td>NaN</td>\n",
              "      <td>NaN</td>\n",
              "    </tr>\n",
              "    <tr>\n",
              "      <th>512621</th>\n",
              "      <td>512622</td>\n",
              "      <td>26/7/2021</td>\n",
              "      <td>25/7/2021</td>\n",
              "      <td>ชาย</td>\n",
              "      <td>NaN</td>\n",
              "      <td>NaN</td>\n",
              "      <td>NaN</td>\n",
              "      <td>ชลบุรี</td>\n",
              "      <td>ทัณฑสถาน/เรือนจำ</td>\n",
              "      <td>NaN</td>\n",
              "      <td>NaN</td>\n",
              "    </tr>\n",
              "  </tbody>\n",
              "</table>\n",
              "<p>512622 rows × 11 columns</p>\n",
              "</div>"
            ],
            "text/plain": [
              "           No. announce_date  ... province_of_onset district_of_onset\n",
              "0            1     12/1/2020  ...     กรุงเทพมหานคร               NaN\n",
              "1            2     17/1/2020  ...     กรุงเทพมหานคร               NaN\n",
              "2            3     22/1/2020  ...            นครปฐม             เมือง\n",
              "3            4     22/1/2020  ...     กรุงเทพมหานคร               NaN\n",
              "4            5     24/1/2020  ...     กรุงเทพมหานคร               NaN\n",
              "...        ...           ...  ...               ...               ...\n",
              "512617  512618     26/7/2021  ...               NaN               NaN\n",
              "512618  512619     26/7/2021  ...               NaN               NaN\n",
              "512619  512620     26/7/2021  ...               NaN               NaN\n",
              "512620  512621     26/7/2021  ...               NaN               NaN\n",
              "512621  512622     26/7/2021  ...               NaN               NaN\n",
              "\n",
              "[512622 rows x 11 columns]"
            ]
          },
          "metadata": {
            "tags": []
          },
          "execution_count": 66
        }
      ]
    },
    {
      "cell_type": "markdown",
      "metadata": {
        "id": "r6aPDsIGB9Ny"
      },
      "source": [
        "#เติมค่า missing ให้จังหวัดก่อน"
      ]
    },
    {
      "cell_type": "code",
      "metadata": {
        "id": "Nlt-FPBnBgkS"
      },
      "source": [
        "data_cases2[['province_of_onset']] = data_cases2[['province_of_onset']].fillna('ไม่มีข้อมูล')"
      ],
      "execution_count": 91,
      "outputs": []
    },
    {
      "cell_type": "markdown",
      "metadata": {
        "id": "dY2mBwiACd0o"
      },
      "source": [
        "หาจังหวัดทั้งหมด"
      ]
    },
    {
      "cell_type": "code",
      "metadata": {
        "colab": {
          "base_uri": "https://localhost:8080/"
        },
        "id": "Jpuk6lkRCgLq",
        "outputId": "7b1c9eaa-5262-48f1-eeae-f3e65321fcd0"
      },
      "source": [
        "all_cities = set(data_cases2['province_of_onset'])\n",
        "all_cities"
      ],
      "execution_count": 92,
      "outputs": [
        {
          "output_type": "execute_result",
          "data": {
            "text/plain": [
              "{'กระบี่',\n",
              " 'กรุงเทพมหานคร',\n",
              " 'กัมพูชา',\n",
              " 'กาญจนบุรี',\n",
              " 'กาฬสินธิ์',\n",
              " 'กาฬสินธุ์',\n",
              " 'กาฬสินธ์ุ',\n",
              " 'กาฬสิินธุ์',\n",
              " 'กำแพงเพชร',\n",
              " 'ขอนแก่น',\n",
              " 'ขอนแก่่น',\n",
              " 'จ.ปัตตานี',\n",
              " 'จังหวัดร้อยเอ็ด',\n",
              " 'จันทบุรี',\n",
              " 'ฉะเชิงเทรา',\n",
              " 'ชลบุรี',\n",
              " 'ชลบุุรี',\n",
              " 'ชัยนาท',\n",
              " 'ชัยภูมิ',\n",
              " 'ชััยภูมิ',\n",
              " 'ชุมพร',\n",
              " 'ชุุมพร',\n",
              " 'ตรัง',\n",
              " 'ตราด',\n",
              " 'ตาก',\n",
              " 'ธารโต',\n",
              " 'นคนปฐม',\n",
              " 'นคปฐม',\n",
              " 'นครนาชสีมา',\n",
              " 'นครนายก',\n",
              " 'นครปฐม',\n",
              " 'นครประฐม',\n",
              " 'นครพนม',\n",
              " 'นครราชธสีมา',\n",
              " 'นครราชสีมา',\n",
              " 'นครศรธรรมาช',\n",
              " 'นครศรี',\n",
              " 'นครศรีธรรมราช',\n",
              " 'นครศรีธรรรมราช',\n",
              " 'นครศรีราชสีมา',\n",
              " 'นครศรีีธรรมราช',\n",
              " 'นครสวรรค์',\n",
              " 'นครสววรค์',\n",
              " 'นตรปฐม',\n",
              " 'นนทบุรี',\n",
              " 'นนทุบรี',\n",
              " 'นราธิวาส',\n",
              " 'นาราธิวาส',\n",
              " 'นาวัง',\n",
              " 'น่าน',\n",
              " 'บางกะปิ',\n",
              " 'บึงกาฬ',\n",
              " 'บึงโขงหลง',\n",
              " 'บึึงกาฬ',\n",
              " 'บุรีรัมย์',\n",
              " 'บ้านหลวง',\n",
              " 'ปทุมทานี',\n",
              " 'ปทุมธานี',\n",
              " 'ปทุมธานีี',\n",
              " 'ปทุุมธานี',\n",
              " 'ประจวบครีขันธ์',\n",
              " 'ประจวบคีรีขันธื',\n",
              " 'ประจวบคีรีขันธ์',\n",
              " 'ปราจีนบุรี',\n",
              " 'ปลายพระยา',\n",
              " 'ปัตตานี',\n",
              " 'ปัตตานี\\u200b',\n",
              " 'ปัว',\n",
              " 'พม่า',\n",
              " 'พระนครศรียุธยา',\n",
              " 'พระนครศรีอยุทธยา',\n",
              " 'พระนครศรีอยุธนา',\n",
              " 'พระนครศรีอยุธยา',\n",
              " 'พระนครศีรอยุธยา',\n",
              " 'พระนครศีอยุธยา',\n",
              " 'พระนตรศรีอยุธยา',\n",
              " 'พะเยา',\n",
              " 'พังงา',\n",
              " 'พัทลุง',\n",
              " 'พิจิตร',\n",
              " 'พิษณุโลก',\n",
              " 'ภูเก็ต',\n",
              " 'ภูเพียง',\n",
              " 'มหาสารคราม',\n",
              " 'มหาสารคาม',\n",
              " 'มาเลเซีย',\n",
              " 'มุกดาหาร',\n",
              " 'ยะลา',\n",
              " 'ยานนาวา',\n",
              " 'ยโสธร',\n",
              " 'ระนอง',\n",
              " 'ระยอง',\n",
              " 'ราชบุรี',\n",
              " 'ร้องกวาง',\n",
              " 'ร้อยเอ็ด',\n",
              " 'ร้อยเอ็็ด',\n",
              " 'ร้อยเอ้ด',\n",
              " 'ร้้อยเอ็ด',\n",
              " 'ลพบรี',\n",
              " 'ลพบุรี',\n",
              " 'ลพบุุรี',\n",
              " 'ลอง',\n",
              " 'ลำปาง',\n",
              " 'ลำพูน',\n",
              " 'วังชิ้น',\n",
              " 'ศรีษะเกษ',\n",
              " 'ศรีสะเกษ',\n",
              " 'ศรีีสะเกษ',\n",
              " 'ศีรษะเกษ',\n",
              " 'ศีรสะเกษ',\n",
              " 'สกลนคร',\n",
              " 'สงขขลา',\n",
              " 'สงขลา',\n",
              " 'สงขลา\\u200b',\n",
              " 'สตูล',\n",
              " 'สถานที่ทำงาน',\n",
              " 'สมทรสาคร',\n",
              " 'สมุทปราการ',\n",
              " 'สมุทรปราการ',\n",
              " 'สมุทรปาการ',\n",
              " 'สมุทรสงคราม',\n",
              " 'สมุทรสาคร',\n",
              " 'สมุทราปราการ',\n",
              " 'สมุทราสาคร',\n",
              " 'สมุทสงคราม',\n",
              " 'สมุทสาคร',\n",
              " 'สมุุทรปราการ',\n",
              " 'สมุุทรสงคราม',\n",
              " 'สมุุทรสาคร',\n",
              " 'สมุุทสาคร',\n",
              " 'สระบุรี',\n",
              " 'สระบุุรี',\n",
              " 'สระแก้ว',\n",
              " 'สรแก้ว',\n",
              " 'สอง',\n",
              " 'สองแคว',\n",
              " 'สิงห์บุรี',\n",
              " 'สุทรปราการ',\n",
              " 'สุพรรณบุรี',\n",
              " 'สุมทรสาคร',\n",
              " 'สุมุทรปราการ',\n",
              " 'สุมุทรสาคร',\n",
              " 'สุราษฎร์ธานี',\n",
              " 'สุรินทร์',\n",
              " 'สุุราษฎร์ธานี',\n",
              " 'สุโขทัย',\n",
              " 'สูงเม่น',\n",
              " 'หนองคาย',\n",
              " 'หนองบัวลำภู',\n",
              " 'หนองบัวลำภูู',\n",
              " 'หนองบัวลำำภู',\n",
              " 'หนองบััวลำภู',\n",
              " 'หนองม่วงไข่',\n",
              " 'อยุธยา',\n",
              " 'อำนาจเจริญ',\n",
              " 'อุดรธานี',\n",
              " 'อุดรธานีี',\n",
              " 'อุตรดิตถ์',\n",
              " 'อุทัยธานี',\n",
              " 'อุบลราขธานี',\n",
              " 'อุบลราชธานี',\n",
              " 'อุุดรธาน',\n",
              " 'อุุดรธานี',\n",
              " 'อุุตรดิตถ์',\n",
              " 'อุุทัยธานี',\n",
              " 'อ่างทอง',\n",
              " 'ูภูเก็ต',\n",
              " 'เชียงราย',\n",
              " 'เชียงใหม่',\n",
              " 'เด่นชัย',\n",
              " 'เพชบุรี',\n",
              " 'เพชรบุรี',\n",
              " 'เพชรบูรณ์',\n",
              " 'เพรชบุรี',\n",
              " 'เพรบุรี',\n",
              " 'เมือง',\n",
              " 'เมืองน่าน',\n",
              " 'เรือ',\n",
              " 'เลย',\n",
              " 'เวียงจันทร์',\n",
              " 'เวียงสา',\n",
              " 'แพร่',\n",
              " 'แม่ฮ่องสอน',\n",
              " 'ไม่มีข้อมูล',\n",
              " 'ไม่ระบุ'}"
            ]
          },
          "metadata": {
            "tags": []
          },
          "execution_count": 92
        }
      ]
    },
    {
      "cell_type": "code",
      "metadata": {
        "colab": {
          "base_uri": "https://localhost:8080/"
        },
        "id": "0WzySWwkDP2a",
        "outputId": "d506c0c6-a493-4943-dfac-b60b6757b09d"
      },
      "source": [
        "fixed_cities = []\n",
        "\n",
        "for city in all_cities:\n",
        "    # หาค่า mean ของเชียงใหม่\n",
        "    X_cases = data_cases2['province_of_onset'] == city\n",
        "    X_mean = data_cases2[X_cases]['age'].mean()\n",
        "\n",
        "    # เลือกมาเฉพาะ data เชียงใหม่\n",
        "    data_X = data_cases2[X_cases]\n",
        "\n",
        "    # เติมค่า mean แทน missing\n",
        "    data_X[['age']] = data_X[['age']].fillna(X_mean)\n",
        "\n",
        "    fixed_cities.append(data_X)\n",
        "\n",
        "\n",
        "data_cases2_nomissingage = pd.concat(fixed_cities)"
      ],
      "execution_count": 93,
      "outputs": [
        {
          "output_type": "stream",
          "text": [
            "/usr/local/lib/python3.7/dist-packages/pandas/core/frame.py:3069: SettingWithCopyWarning: \n",
            "A value is trying to be set on a copy of a slice from a DataFrame.\n",
            "Try using .loc[row_indexer,col_indexer] = value instead\n",
            "\n",
            "See the caveats in the documentation: https://pandas.pydata.org/pandas-docs/stable/user_guide/indexing.html#returning-a-view-versus-a-copy\n",
            "  self[k1] = value[k2]\n"
          ],
          "name": "stderr"
        }
      ]
    },
    {
      "cell_type": "code",
      "metadata": {
        "colab": {
          "base_uri": "https://localhost:8080/",
          "height": 418
        },
        "id": "4cEOuDo9H6Mi",
        "outputId": "a07a603f-8039-47e4-ec9d-f046c4ce3a5e"
      },
      "source": [
        "data_cases2_nomissingage"
      ],
      "execution_count": 94,
      "outputs": [
        {
          "output_type": "execute_result",
          "data": {
            "text/html": [
              "<div>\n",
              "<style scoped>\n",
              "    .dataframe tbody tr th:only-of-type {\n",
              "        vertical-align: middle;\n",
              "    }\n",
              "\n",
              "    .dataframe tbody tr th {\n",
              "        vertical-align: top;\n",
              "    }\n",
              "\n",
              "    .dataframe thead th {\n",
              "        text-align: right;\n",
              "    }\n",
              "</style>\n",
              "<table border=\"1\" class=\"dataframe\">\n",
              "  <thead>\n",
              "    <tr style=\"text-align: right;\">\n",
              "      <th></th>\n",
              "      <th>No.</th>\n",
              "      <th>announce_date</th>\n",
              "      <th>Notified date</th>\n",
              "      <th>sex</th>\n",
              "      <th>age</th>\n",
              "      <th>Unit</th>\n",
              "      <th>nationality</th>\n",
              "      <th>province_of_isolation</th>\n",
              "      <th>risk</th>\n",
              "      <th>province_of_onset</th>\n",
              "      <th>district_of_onset</th>\n",
              "    </tr>\n",
              "  </thead>\n",
              "  <tbody>\n",
              "    <tr>\n",
              "      <th>357875</th>\n",
              "      <td>357876</td>\n",
              "      <td>14/7/2021</td>\n",
              "      <td>13/7/2021</td>\n",
              "      <td>ชาย</td>\n",
              "      <td>66.0</td>\n",
              "      <td>ปี</td>\n",
              "      <td>Thailand</td>\n",
              "      <td>สมุทรปราการ</td>\n",
              "      <td>อื่นๆ</td>\n",
              "      <td>พระนครศีอยุธยา</td>\n",
              "      <td>นครหลวง</td>\n",
              "    </tr>\n",
              "    <tr>\n",
              "      <th>377901</th>\n",
              "      <td>377902</td>\n",
              "      <td>16/7/2021</td>\n",
              "      <td>15/7/2021</td>\n",
              "      <td>หญิง</td>\n",
              "      <td>43.0</td>\n",
              "      <td>ปี</td>\n",
              "      <td>Thailand</td>\n",
              "      <td>ศรีสะเกษ</td>\n",
              "      <td>อื่นๆ</td>\n",
              "      <td>พระนครศีอยุธยา</td>\n",
              "      <td>NaN</td>\n",
              "    </tr>\n",
              "    <tr>\n",
              "      <th>378102</th>\n",
              "      <td>378103</td>\n",
              "      <td>16/7/2021</td>\n",
              "      <td>15/7/2021</td>\n",
              "      <td>ชาย</td>\n",
              "      <td>2.0</td>\n",
              "      <td>ปี</td>\n",
              "      <td>NaN</td>\n",
              "      <td>นครศรีธรรมราช</td>\n",
              "      <td>อยู่ระหว่างการสอบสวน</td>\n",
              "      <td>นครศรีีธรรมราช</td>\n",
              "      <td>เมือง</td>\n",
              "    </tr>\n",
              "    <tr>\n",
              "      <th>48668</th>\n",
              "      <td>48669</td>\n",
              "      <td>23/4/2021</td>\n",
              "      <td>22/4/2021</td>\n",
              "      <td>ชาย</td>\n",
              "      <td>42.0</td>\n",
              "      <td>ปี</td>\n",
              "      <td>Belgium</td>\n",
              "      <td>อุดรธานี</td>\n",
              "      <td>ไปสถานที่ชุมชน เช่น ตลาดนัด สถานที่ท่องเที่ยว</td>\n",
              "      <td>อุุดรธานี</td>\n",
              "      <td>เมือง</td>\n",
              "    </tr>\n",
              "    <tr>\n",
              "      <th>48689</th>\n",
              "      <td>48690</td>\n",
              "      <td>23/4/2021</td>\n",
              "      <td>22/4/2021</td>\n",
              "      <td>หญิง</td>\n",
              "      <td>28.0</td>\n",
              "      <td>ปี</td>\n",
              "      <td>Thailand</td>\n",
              "      <td>อุดรธานี</td>\n",
              "      <td>สัมผัสใกล้ชิดกับผู้ป่วยยืนยันรายก่อนหน้านี้</td>\n",
              "      <td>อุุดรธานี</td>\n",
              "      <td>กุมภวาปี</td>\n",
              "    </tr>\n",
              "    <tr>\n",
              "      <th>...</th>\n",
              "      <td>...</td>\n",
              "      <td>...</td>\n",
              "      <td>...</td>\n",
              "      <td>...</td>\n",
              "      <td>...</td>\n",
              "      <td>...</td>\n",
              "      <td>...</td>\n",
              "      <td>...</td>\n",
              "      <td>...</td>\n",
              "      <td>...</td>\n",
              "      <td>...</td>\n",
              "    </tr>\n",
              "    <tr>\n",
              "      <th>500304</th>\n",
              "      <td>500305</td>\n",
              "      <td>26/7/2021</td>\n",
              "      <td>25/7/2021</td>\n",
              "      <td>หญิง</td>\n",
              "      <td>18.0</td>\n",
              "      <td>ปี</td>\n",
              "      <td>Thailand</td>\n",
              "      <td>สระบุรี</td>\n",
              "      <td>สัมผัสใกล้ชิดกับผู้ป่วยยืนยันรายก่อนหน้านี้</td>\n",
              "      <td>สระบุรี</td>\n",
              "      <td>เมืองสระบุรี</td>\n",
              "    </tr>\n",
              "    <tr>\n",
              "      <th>500338</th>\n",
              "      <td>500339</td>\n",
              "      <td>26/7/2021</td>\n",
              "      <td>25/7/2021</td>\n",
              "      <td>ชาย</td>\n",
              "      <td>5.0</td>\n",
              "      <td>ปี</td>\n",
              "      <td>Thailand</td>\n",
              "      <td>นครนายก</td>\n",
              "      <td>สัมผัสใกล้ชิดกับผู้ป่วยยืนยันรายก่อนหน้านี้</td>\n",
              "      <td>สระบุรี</td>\n",
              "      <td>วิหารแดง</td>\n",
              "    </tr>\n",
              "    <tr>\n",
              "      <th>505515</th>\n",
              "      <td>505516</td>\n",
              "      <td>26/7/2021</td>\n",
              "      <td>25/7/2021</td>\n",
              "      <td>ชาย</td>\n",
              "      <td>46.0</td>\n",
              "      <td>ปี</td>\n",
              "      <td>NaN</td>\n",
              "      <td>ขอนแก่น</td>\n",
              "      <td>อื่นๆ</td>\n",
              "      <td>สระบุรี</td>\n",
              "      <td>เมือง</td>\n",
              "    </tr>\n",
              "    <tr>\n",
              "      <th>507523</th>\n",
              "      <td>507524</td>\n",
              "      <td>26/7/2021</td>\n",
              "      <td>25/7/2021</td>\n",
              "      <td>ชาย</td>\n",
              "      <td>24.0</td>\n",
              "      <td>ปี</td>\n",
              "      <td>Thailand</td>\n",
              "      <td>อุบลราชธานี</td>\n",
              "      <td>อื่นๆ</td>\n",
              "      <td>สระบุรี</td>\n",
              "      <td>NaN</td>\n",
              "    </tr>\n",
              "    <tr>\n",
              "      <th>403514</th>\n",
              "      <td>403515</td>\n",
              "      <td>19/7/2021</td>\n",
              "      <td>18/7/2021</td>\n",
              "      <td>ชาย</td>\n",
              "      <td>NaN</td>\n",
              "      <td>NaN</td>\n",
              "      <td>Thailand</td>\n",
              "      <td>แพร่</td>\n",
              "      <td>อื่นๆ</td>\n",
              "      <td>วังชิ้น</td>\n",
              "      <td>ป่าสัก</td>\n",
              "    </tr>\n",
              "  </tbody>\n",
              "</table>\n",
              "<p>512622 rows × 11 columns</p>\n",
              "</div>"
            ],
            "text/plain": [
              "           No. announce_date  ... province_of_onset district_of_onset\n",
              "357875  357876     14/7/2021  ...    พระนครศีอยุธยา           นครหลวง\n",
              "377901  377902     16/7/2021  ...    พระนครศีอยุธยา               NaN\n",
              "378102  378103     16/7/2021  ...    นครศรีีธรรมราช             เมือง\n",
              "48668    48669     23/4/2021  ...         อุุดรธานี             เมือง\n",
              "48689    48690     23/4/2021  ...         อุุดรธานี          กุมภวาปี\n",
              "...        ...           ...  ...               ...               ...\n",
              "500304  500305     26/7/2021  ...           สระบุรี      เมืองสระบุรี\n",
              "500338  500339     26/7/2021  ...           สระบุรี          วิหารแดง\n",
              "505515  505516     26/7/2021  ...           สระบุรี             เมือง\n",
              "507523  507524     26/7/2021  ...           สระบุรี               NaN\n",
              "403514  403515     19/7/2021  ...           วังชิ้น            ป่าสัก\n",
              "\n",
              "[512622 rows x 11 columns]"
            ]
          },
          "metadata": {
            "tags": []
          },
          "execution_count": 94
        }
      ]
    },
    {
      "cell_type": "code",
      "metadata": {
        "id": "7KXI6TUFj-dF",
        "outputId": "8e7f51f7-8d56-4280-9d0d-1558a0d61938",
        "colab": {
          "base_uri": "https://localhost:8080/"
        }
      },
      "source": [
        "data_cases2_nomissingage.isnull().any()"
      ],
      "execution_count": 95,
      "outputs": [
        {
          "output_type": "execute_result",
          "data": {
            "text/plain": [
              "No.                      False\n",
              "announce_date            False\n",
              "Notified date             True\n",
              "sex                       True\n",
              "age                       True\n",
              "Unit                      True\n",
              "nationality               True\n",
              "province_of_isolation     True\n",
              "risk                      True\n",
              "province_of_onset        False\n",
              "district_of_onset         True\n",
              "dtype: bool"
            ]
          },
          "metadata": {
            "tags": []
          },
          "execution_count": 95
        }
      ]
    },
    {
      "cell_type": "markdown",
      "metadata": {
        "id": "NpKyel4xKt69"
      },
      "source": [
        "เติม mean ของทั้งตาราง ให้กับ missing ที่เหลืออยู่"
      ]
    },
    {
      "cell_type": "code",
      "metadata": {
        "id": "6FoQj7XKGju5"
      },
      "source": [
        "data_cases2_nomissingage[['age']] = data_cases2_nomissingage[['age']].fillna(data_cases2_nomissingage['age'].mean())"
      ],
      "execution_count": 96,
      "outputs": []
    },
    {
      "cell_type": "code",
      "metadata": {
        "colab": {
          "base_uri": "https://localhost:8080/"
        },
        "id": "e4iFHMorHIho",
        "outputId": "ceb8aea2-473a-4fcd-e6c9-7940d1a2e82a"
      },
      "source": [
        "data_cases2_nomissingage.isnull().any()"
      ],
      "execution_count": 97,
      "outputs": [
        {
          "output_type": "execute_result",
          "data": {
            "text/plain": [
              "No.                      False\n",
              "announce_date            False\n",
              "Notified date             True\n",
              "sex                       True\n",
              "age                      False\n",
              "Unit                      True\n",
              "nationality               True\n",
              "province_of_isolation     True\n",
              "risk                      True\n",
              "province_of_onset        False\n",
              "district_of_onset         True\n",
              "dtype: bool"
            ]
          },
          "metadata": {
            "tags": []
          },
          "execution_count": 97
        }
      ]
    },
    {
      "cell_type": "code",
      "metadata": {
        "colab": {
          "base_uri": "https://localhost:8080/",
          "height": 418
        },
        "id": "xV2528gBIJDq",
        "outputId": "7e6a3245-3748-4df8-ef44-7a86a3fa8b43"
      },
      "source": [
        "data_cases2_nomissingage"
      ],
      "execution_count": 98,
      "outputs": [
        {
          "output_type": "execute_result",
          "data": {
            "text/html": [
              "<div>\n",
              "<style scoped>\n",
              "    .dataframe tbody tr th:only-of-type {\n",
              "        vertical-align: middle;\n",
              "    }\n",
              "\n",
              "    .dataframe tbody tr th {\n",
              "        vertical-align: top;\n",
              "    }\n",
              "\n",
              "    .dataframe thead th {\n",
              "        text-align: right;\n",
              "    }\n",
              "</style>\n",
              "<table border=\"1\" class=\"dataframe\">\n",
              "  <thead>\n",
              "    <tr style=\"text-align: right;\">\n",
              "      <th></th>\n",
              "      <th>No.</th>\n",
              "      <th>announce_date</th>\n",
              "      <th>Notified date</th>\n",
              "      <th>sex</th>\n",
              "      <th>age</th>\n",
              "      <th>Unit</th>\n",
              "      <th>nationality</th>\n",
              "      <th>province_of_isolation</th>\n",
              "      <th>risk</th>\n",
              "      <th>province_of_onset</th>\n",
              "      <th>district_of_onset</th>\n",
              "    </tr>\n",
              "  </thead>\n",
              "  <tbody>\n",
              "    <tr>\n",
              "      <th>357875</th>\n",
              "      <td>357876</td>\n",
              "      <td>14/7/2021</td>\n",
              "      <td>13/7/2021</td>\n",
              "      <td>ชาย</td>\n",
              "      <td>66.000000</td>\n",
              "      <td>ปี</td>\n",
              "      <td>Thailand</td>\n",
              "      <td>สมุทรปราการ</td>\n",
              "      <td>อื่นๆ</td>\n",
              "      <td>พระนครศีอยุธยา</td>\n",
              "      <td>นครหลวง</td>\n",
              "    </tr>\n",
              "    <tr>\n",
              "      <th>377901</th>\n",
              "      <td>377902</td>\n",
              "      <td>16/7/2021</td>\n",
              "      <td>15/7/2021</td>\n",
              "      <td>หญิง</td>\n",
              "      <td>43.000000</td>\n",
              "      <td>ปี</td>\n",
              "      <td>Thailand</td>\n",
              "      <td>ศรีสะเกษ</td>\n",
              "      <td>อื่นๆ</td>\n",
              "      <td>พระนครศีอยุธยา</td>\n",
              "      <td>NaN</td>\n",
              "    </tr>\n",
              "    <tr>\n",
              "      <th>378102</th>\n",
              "      <td>378103</td>\n",
              "      <td>16/7/2021</td>\n",
              "      <td>15/7/2021</td>\n",
              "      <td>ชาย</td>\n",
              "      <td>2.000000</td>\n",
              "      <td>ปี</td>\n",
              "      <td>NaN</td>\n",
              "      <td>นครศรีธรรมราช</td>\n",
              "      <td>อยู่ระหว่างการสอบสวน</td>\n",
              "      <td>นครศรีีธรรมราช</td>\n",
              "      <td>เมือง</td>\n",
              "    </tr>\n",
              "    <tr>\n",
              "      <th>48668</th>\n",
              "      <td>48669</td>\n",
              "      <td>23/4/2021</td>\n",
              "      <td>22/4/2021</td>\n",
              "      <td>ชาย</td>\n",
              "      <td>42.000000</td>\n",
              "      <td>ปี</td>\n",
              "      <td>Belgium</td>\n",
              "      <td>อุดรธานี</td>\n",
              "      <td>ไปสถานที่ชุมชน เช่น ตลาดนัด สถานที่ท่องเที่ยว</td>\n",
              "      <td>อุุดรธานี</td>\n",
              "      <td>เมือง</td>\n",
              "    </tr>\n",
              "    <tr>\n",
              "      <th>48689</th>\n",
              "      <td>48690</td>\n",
              "      <td>23/4/2021</td>\n",
              "      <td>22/4/2021</td>\n",
              "      <td>หญิง</td>\n",
              "      <td>28.000000</td>\n",
              "      <td>ปี</td>\n",
              "      <td>Thailand</td>\n",
              "      <td>อุดรธานี</td>\n",
              "      <td>สัมผัสใกล้ชิดกับผู้ป่วยยืนยันรายก่อนหน้านี้</td>\n",
              "      <td>อุุดรธานี</td>\n",
              "      <td>กุมภวาปี</td>\n",
              "    </tr>\n",
              "    <tr>\n",
              "      <th>...</th>\n",
              "      <td>...</td>\n",
              "      <td>...</td>\n",
              "      <td>...</td>\n",
              "      <td>...</td>\n",
              "      <td>...</td>\n",
              "      <td>...</td>\n",
              "      <td>...</td>\n",
              "      <td>...</td>\n",
              "      <td>...</td>\n",
              "      <td>...</td>\n",
              "      <td>...</td>\n",
              "    </tr>\n",
              "    <tr>\n",
              "      <th>500304</th>\n",
              "      <td>500305</td>\n",
              "      <td>26/7/2021</td>\n",
              "      <td>25/7/2021</td>\n",
              "      <td>หญิง</td>\n",
              "      <td>18.000000</td>\n",
              "      <td>ปี</td>\n",
              "      <td>Thailand</td>\n",
              "      <td>สระบุรี</td>\n",
              "      <td>สัมผัสใกล้ชิดกับผู้ป่วยยืนยันรายก่อนหน้านี้</td>\n",
              "      <td>สระบุรี</td>\n",
              "      <td>เมืองสระบุรี</td>\n",
              "    </tr>\n",
              "    <tr>\n",
              "      <th>500338</th>\n",
              "      <td>500339</td>\n",
              "      <td>26/7/2021</td>\n",
              "      <td>25/7/2021</td>\n",
              "      <td>ชาย</td>\n",
              "      <td>5.000000</td>\n",
              "      <td>ปี</td>\n",
              "      <td>Thailand</td>\n",
              "      <td>นครนายก</td>\n",
              "      <td>สัมผัสใกล้ชิดกับผู้ป่วยยืนยันรายก่อนหน้านี้</td>\n",
              "      <td>สระบุรี</td>\n",
              "      <td>วิหารแดง</td>\n",
              "    </tr>\n",
              "    <tr>\n",
              "      <th>505515</th>\n",
              "      <td>505516</td>\n",
              "      <td>26/7/2021</td>\n",
              "      <td>25/7/2021</td>\n",
              "      <td>ชาย</td>\n",
              "      <td>46.000000</td>\n",
              "      <td>ปี</td>\n",
              "      <td>NaN</td>\n",
              "      <td>ขอนแก่น</td>\n",
              "      <td>อื่นๆ</td>\n",
              "      <td>สระบุรี</td>\n",
              "      <td>เมือง</td>\n",
              "    </tr>\n",
              "    <tr>\n",
              "      <th>507523</th>\n",
              "      <td>507524</td>\n",
              "      <td>26/7/2021</td>\n",
              "      <td>25/7/2021</td>\n",
              "      <td>ชาย</td>\n",
              "      <td>24.000000</td>\n",
              "      <td>ปี</td>\n",
              "      <td>Thailand</td>\n",
              "      <td>อุบลราชธานี</td>\n",
              "      <td>อื่นๆ</td>\n",
              "      <td>สระบุรี</td>\n",
              "      <td>NaN</td>\n",
              "    </tr>\n",
              "    <tr>\n",
              "      <th>403514</th>\n",
              "      <td>403515</td>\n",
              "      <td>19/7/2021</td>\n",
              "      <td>18/7/2021</td>\n",
              "      <td>ชาย</td>\n",
              "      <td>35.521033</td>\n",
              "      <td>NaN</td>\n",
              "      <td>Thailand</td>\n",
              "      <td>แพร่</td>\n",
              "      <td>อื่นๆ</td>\n",
              "      <td>วังชิ้น</td>\n",
              "      <td>ป่าสัก</td>\n",
              "    </tr>\n",
              "  </tbody>\n",
              "</table>\n",
              "<p>512622 rows × 11 columns</p>\n",
              "</div>"
            ],
            "text/plain": [
              "           No. announce_date  ... province_of_onset district_of_onset\n",
              "357875  357876     14/7/2021  ...    พระนครศีอยุธยา           นครหลวง\n",
              "377901  377902     16/7/2021  ...    พระนครศีอยุธยา               NaN\n",
              "378102  378103     16/7/2021  ...    นครศรีีธรรมราช             เมือง\n",
              "48668    48669     23/4/2021  ...         อุุดรธานี             เมือง\n",
              "48689    48690     23/4/2021  ...         อุุดรธานี          กุมภวาปี\n",
              "...        ...           ...  ...               ...               ...\n",
              "500304  500305     26/7/2021  ...           สระบุรี      เมืองสระบุรี\n",
              "500338  500339     26/7/2021  ...           สระบุรี          วิหารแดง\n",
              "505515  505516     26/7/2021  ...           สระบุรี             เมือง\n",
              "507523  507524     26/7/2021  ...           สระบุรี               NaN\n",
              "403514  403515     19/7/2021  ...           วังชิ้น            ป่าสัก\n",
              "\n",
              "[512622 rows x 11 columns]"
            ]
          },
          "metadata": {
            "tags": []
          },
          "execution_count": 98
        }
      ]
    },
    {
      "cell_type": "markdown",
      "metadata": {
        "id": "X06qC5eZHixH"
      },
      "source": [
        "#การเรียงข้อมูล[PD]"
      ]
    },
    {
      "cell_type": "code",
      "metadata": {
        "id": "sqxat2oCIViX"
      },
      "source": [
        "data_cases2_nomissingage = data_cases2_nomissingage.sort_values(by=['No.'])"
      ],
      "execution_count": 99,
      "outputs": []
    },
    {
      "cell_type": "code",
      "metadata": {
        "id": "ck3587MzkVKM",
        "outputId": "953cdb1c-4ee8-4123-bd9e-774d45f5b925",
        "colab": {
          "base_uri": "https://localhost:8080/",
          "height": 418
        }
      },
      "source": [
        "data_cases2_nomissingage"
      ],
      "execution_count": 100,
      "outputs": [
        {
          "output_type": "execute_result",
          "data": {
            "text/html": [
              "<div>\n",
              "<style scoped>\n",
              "    .dataframe tbody tr th:only-of-type {\n",
              "        vertical-align: middle;\n",
              "    }\n",
              "\n",
              "    .dataframe tbody tr th {\n",
              "        vertical-align: top;\n",
              "    }\n",
              "\n",
              "    .dataframe thead th {\n",
              "        text-align: right;\n",
              "    }\n",
              "</style>\n",
              "<table border=\"1\" class=\"dataframe\">\n",
              "  <thead>\n",
              "    <tr style=\"text-align: right;\">\n",
              "      <th></th>\n",
              "      <th>No.</th>\n",
              "      <th>announce_date</th>\n",
              "      <th>Notified date</th>\n",
              "      <th>sex</th>\n",
              "      <th>age</th>\n",
              "      <th>Unit</th>\n",
              "      <th>nationality</th>\n",
              "      <th>province_of_isolation</th>\n",
              "      <th>risk</th>\n",
              "      <th>province_of_onset</th>\n",
              "      <th>district_of_onset</th>\n",
              "    </tr>\n",
              "  </thead>\n",
              "  <tbody>\n",
              "    <tr>\n",
              "      <th>0</th>\n",
              "      <td>1</td>\n",
              "      <td>12/1/2020</td>\n",
              "      <td>NaN</td>\n",
              "      <td>หญิง</td>\n",
              "      <td>61.000000</td>\n",
              "      <td>ปี</td>\n",
              "      <td>China</td>\n",
              "      <td>กรุงเทพมหานคร</td>\n",
              "      <td>คนต่างชาติเดินทางมาจากต่างประเทศ</td>\n",
              "      <td>กรุงเทพมหานคร</td>\n",
              "      <td>NaN</td>\n",
              "    </tr>\n",
              "    <tr>\n",
              "      <th>1</th>\n",
              "      <td>2</td>\n",
              "      <td>17/1/2020</td>\n",
              "      <td>NaN</td>\n",
              "      <td>หญิง</td>\n",
              "      <td>74.000000</td>\n",
              "      <td>ปี</td>\n",
              "      <td>China</td>\n",
              "      <td>กรุงเทพมหานคร</td>\n",
              "      <td>คนต่างชาติเดินทางมาจากต่างประเทศ</td>\n",
              "      <td>กรุงเทพมหานคร</td>\n",
              "      <td>NaN</td>\n",
              "    </tr>\n",
              "    <tr>\n",
              "      <th>2</th>\n",
              "      <td>3</td>\n",
              "      <td>22/1/2020</td>\n",
              "      <td>NaN</td>\n",
              "      <td>หญิง</td>\n",
              "      <td>73.000000</td>\n",
              "      <td>ปี</td>\n",
              "      <td>Thailand</td>\n",
              "      <td>นครปฐม</td>\n",
              "      <td>คนต่างชาติเดินทางมาจากต่างประเทศ</td>\n",
              "      <td>นครปฐม</td>\n",
              "      <td>เมือง</td>\n",
              "    </tr>\n",
              "    <tr>\n",
              "      <th>3</th>\n",
              "      <td>4</td>\n",
              "      <td>22/1/2020</td>\n",
              "      <td>NaN</td>\n",
              "      <td>ชาย</td>\n",
              "      <td>68.000000</td>\n",
              "      <td>ปี</td>\n",
              "      <td>China</td>\n",
              "      <td>กรุงเทพมหานคร</td>\n",
              "      <td>คนต่างชาติเดินทางมาจากต่างประเทศ</td>\n",
              "      <td>กรุงเทพมหานคร</td>\n",
              "      <td>NaN</td>\n",
              "    </tr>\n",
              "    <tr>\n",
              "      <th>4</th>\n",
              "      <td>5</td>\n",
              "      <td>24/1/2020</td>\n",
              "      <td>NaN</td>\n",
              "      <td>หญิง</td>\n",
              "      <td>66.000000</td>\n",
              "      <td>ปี</td>\n",
              "      <td>China</td>\n",
              "      <td>นนทบุรี</td>\n",
              "      <td>คนต่างชาติเดินทางมาจากต่างประเทศ</td>\n",
              "      <td>กรุงเทพมหานคร</td>\n",
              "      <td>NaN</td>\n",
              "    </tr>\n",
              "    <tr>\n",
              "      <th>...</th>\n",
              "      <td>...</td>\n",
              "      <td>...</td>\n",
              "      <td>...</td>\n",
              "      <td>...</td>\n",
              "      <td>...</td>\n",
              "      <td>...</td>\n",
              "      <td>...</td>\n",
              "      <td>...</td>\n",
              "      <td>...</td>\n",
              "      <td>...</td>\n",
              "      <td>...</td>\n",
              "    </tr>\n",
              "    <tr>\n",
              "      <th>512617</th>\n",
              "      <td>512618</td>\n",
              "      <td>26/7/2021</td>\n",
              "      <td>25/7/2021</td>\n",
              "      <td>ชาย</td>\n",
              "      <td>35.378474</td>\n",
              "      <td>NaN</td>\n",
              "      <td>NaN</td>\n",
              "      <td>ชลบุรี</td>\n",
              "      <td>ทัณฑสถาน/เรือนจำ</td>\n",
              "      <td>ไม่มีข้อมูล</td>\n",
              "      <td>NaN</td>\n",
              "    </tr>\n",
              "    <tr>\n",
              "      <th>512618</th>\n",
              "      <td>512619</td>\n",
              "      <td>26/7/2021</td>\n",
              "      <td>25/7/2021</td>\n",
              "      <td>ชาย</td>\n",
              "      <td>35.378474</td>\n",
              "      <td>NaN</td>\n",
              "      <td>NaN</td>\n",
              "      <td>ชลบุรี</td>\n",
              "      <td>ทัณฑสถาน/เรือนจำ</td>\n",
              "      <td>ไม่มีข้อมูล</td>\n",
              "      <td>NaN</td>\n",
              "    </tr>\n",
              "    <tr>\n",
              "      <th>512619</th>\n",
              "      <td>512620</td>\n",
              "      <td>26/7/2021</td>\n",
              "      <td>25/7/2021</td>\n",
              "      <td>ชาย</td>\n",
              "      <td>35.378474</td>\n",
              "      <td>NaN</td>\n",
              "      <td>NaN</td>\n",
              "      <td>ชลบุรี</td>\n",
              "      <td>ทัณฑสถาน/เรือนจำ</td>\n",
              "      <td>ไม่มีข้อมูล</td>\n",
              "      <td>NaN</td>\n",
              "    </tr>\n",
              "    <tr>\n",
              "      <th>512620</th>\n",
              "      <td>512621</td>\n",
              "      <td>26/7/2021</td>\n",
              "      <td>25/7/2021</td>\n",
              "      <td>ชาย</td>\n",
              "      <td>35.378474</td>\n",
              "      <td>NaN</td>\n",
              "      <td>NaN</td>\n",
              "      <td>ชลบุรี</td>\n",
              "      <td>ทัณฑสถาน/เรือนจำ</td>\n",
              "      <td>ไม่มีข้อมูล</td>\n",
              "      <td>NaN</td>\n",
              "    </tr>\n",
              "    <tr>\n",
              "      <th>512621</th>\n",
              "      <td>512622</td>\n",
              "      <td>26/7/2021</td>\n",
              "      <td>25/7/2021</td>\n",
              "      <td>ชาย</td>\n",
              "      <td>35.378474</td>\n",
              "      <td>NaN</td>\n",
              "      <td>NaN</td>\n",
              "      <td>ชลบุรี</td>\n",
              "      <td>ทัณฑสถาน/เรือนจำ</td>\n",
              "      <td>ไม่มีข้อมูล</td>\n",
              "      <td>NaN</td>\n",
              "    </tr>\n",
              "  </tbody>\n",
              "</table>\n",
              "<p>512622 rows × 11 columns</p>\n",
              "</div>"
            ],
            "text/plain": [
              "           No. announce_date  ... province_of_onset district_of_onset\n",
              "0            1     12/1/2020  ...     กรุงเทพมหานคร               NaN\n",
              "1            2     17/1/2020  ...     กรุงเทพมหานคร               NaN\n",
              "2            3     22/1/2020  ...            นครปฐม             เมือง\n",
              "3            4     22/1/2020  ...     กรุงเทพมหานคร               NaN\n",
              "4            5     24/1/2020  ...     กรุงเทพมหานคร               NaN\n",
              "...        ...           ...  ...               ...               ...\n",
              "512617  512618     26/7/2021  ...       ไม่มีข้อมูล               NaN\n",
              "512618  512619     26/7/2021  ...       ไม่มีข้อมูล               NaN\n",
              "512619  512620     26/7/2021  ...       ไม่มีข้อมูล               NaN\n",
              "512620  512621     26/7/2021  ...       ไม่มีข้อมูล               NaN\n",
              "512621  512622     26/7/2021  ...       ไม่มีข้อมูล               NaN\n",
              "\n",
              "[512622 rows x 11 columns]"
            ]
          },
          "metadata": {
            "tags": []
          },
          "execution_count": 100
        }
      ]
    },
    {
      "cell_type": "markdown",
      "metadata": {
        "id": "TBT8gz7rIrJ6"
      },
      "source": [
        "#Outlier"
      ]
    },
    {
      "cell_type": "code",
      "metadata": {
        "id": "esqtvMk-IqXw"
      },
      "source": [
        "from matplotlib import pyplot as plt"
      ],
      "execution_count": 101,
      "outputs": []
    },
    {
      "cell_type": "code",
      "metadata": {
        "colab": {
          "base_uri": "https://localhost:8080/",
          "height": 265
        },
        "id": "sJbtjr-IKCYq",
        "outputId": "051b401a-06e7-4864-dad1-e52480b479ab"
      },
      "source": [
        "data_dict = plt.boxplot(data_cases2_nomissingage['age'])"
      ],
      "execution_count": 102,
      "outputs": [
        {
          "output_type": "display_data",
          "data": {
            "image/png": "[encoded data removed]",
            "text/plain": [
              "<Figure size 432x288 with 1 Axes>"
            ]
          },
          "metadata": {
            "tags": [],
            "needs_background": "light"
          }
        }
      ]
    },
    {
      "cell_type": "code",
      "metadata": {
        "colab": {
          "base_uri": "https://localhost:8080/"
        },
        "id": "tayEhsTZMgan",
        "outputId": "a49b743b-8d41-401a-cb06-6cf87c81e3a9"
      },
      "source": [
        "data_dict # curly brackets"
      ],
      "execution_count": 103,
      "outputs": [
        {
          "output_type": "execute_result",
          "data": {
            "text/plain": [
              "{'boxes': [<matplotlib.lines.Line2D at 0x7f9af356acd0>],\n",
              " 'caps': [<matplotlib.lines.Line2D at 0x7f9af3581d90>,\n",
              "  <matplotlib.lines.Line2D at 0x7f9af3590310>],\n",
              " 'fliers': [<matplotlib.lines.Line2D at 0x7f9af3590dd0>],\n",
              " 'means': [],\n",
              " 'medians': [<matplotlib.lines.Line2D at 0x7f9af3590890>],\n",
              " 'whiskers': [<matplotlib.lines.Line2D at 0x7f9af3581310>,\n",
              "  <matplotlib.lines.Line2D at 0x7f9af3581850>]}"
            ]
          },
          "metadata": {
            "tags": []
          },
          "execution_count": 103
        }
      ]
    },
    {
      "cell_type": "code",
      "metadata": {
        "colab": {
          "base_uri": "https://localhost:8080/"
        },
        "id": "Lm0SIXF4M21T",
        "outputId": "920a268e-fc7a-4aa0-be5f-dbf9dacb4fa8"
      },
      "source": [
        "data_dict['boxes'] # โครงสร้างข้อมูลชี้ด้วยชื่อ"
      ],
      "execution_count": 104,
      "outputs": [
        {
          "output_type": "execute_result",
          "data": {
            "text/plain": [
              "[<matplotlib.lines.Line2D at 0x7f9af356acd0>]"
            ]
          },
          "metadata": {
            "tags": []
          },
          "execution_count": 104
        }
      ]
    },
    {
      "cell_type": "code",
      "metadata": {
        "colab": {
          "base_uri": "https://localhost:8080/"
        },
        "id": "o_fr_ZDiOCY9",
        "outputId": "76453440-9490-47e8-e838-b7115122a651"
      },
      "source": [
        "data_dict['boxes'][0]"
      ],
      "execution_count": 105,
      "outputs": [
        {
          "output_type": "execute_result",
          "data": {
            "text/plain": [
              "<matplotlib.lines.Line2D at 0x7f9af356acd0>"
            ]
          },
          "metadata": {
            "tags": []
          },
          "execution_count": 105
        }
      ]
    },
    {
      "cell_type": "code",
      "metadata": {
        "colab": {
          "base_uri": "https://localhost:8080/"
        },
        "id": "CzIT9a3OAT-9",
        "outputId": "cf9d7b7c-950f-4812-f201-2acf9b16731e"
      },
      "source": [
        "data_dict['boxes'][0].get_ydata()"
      ],
      "execution_count": 106,
      "outputs": [
        {
          "output_type": "execute_result",
          "data": {
            "text/plain": [
              "array([26., 26., 44., 44., 26.])"
            ]
          },
          "metadata": {
            "tags": []
          },
          "execution_count": 106
        }
      ]
    },
    {
      "cell_type": "code",
      "metadata": {
        "id": "D1fABnkbOTFa"
      },
      "source": [
        "Q1 = data_dict['boxes'][0].get_ydata()[0] # ลบข้อมูลออก"
      ],
      "execution_count": 107,
      "outputs": []
    },
    {
      "cell_type": "code",
      "metadata": {
        "colab": {
          "base_uri": "https://localhost:8080/"
        },
        "id": "B83C6LYNOhRF",
        "outputId": "f9f840f4-7732-4094-8ba9-6e89c9dcc9e3"
      },
      "source": [
        "Q1 "
      ],
      "execution_count": 108,
      "outputs": [
        {
          "output_type": "execute_result",
          "data": {
            "text/plain": [
              "26.0"
            ]
          },
          "metadata": {
            "tags": []
          },
          "execution_count": 108
        }
      ]
    },
    {
      "cell_type": "code",
      "metadata": {
        "colab": {
          "base_uri": "https://localhost:8080/"
        },
        "id": "ipYvRFcBQNTA",
        "outputId": "b4144aff-c279-41b0-a9b5-cb56ca69f076"
      },
      "source": [
        "data_dict['fliers'][0].get_ydata()"
      ],
      "execution_count": 109,
      "outputs": [
        {
          "output_type": "execute_result",
          "data": {
            "text/plain": [
              "array([74., 73., 73., ..., 83., 80., 75.])"
            ]
          },
          "metadata": {
            "tags": []
          },
          "execution_count": 109
        }
      ]
    },
    {
      "cell_type": "code",
      "metadata": {
        "colab": {
          "base_uri": "https://localhost:8080/"
        },
        "id": "yzdUiXwYO7QZ",
        "outputId": "80c57b7d-4c4f-4080-f48e-e7207dfdd663"
      },
      "source": [
        "data_dict['caps'][0].get_ydata()  "
      ],
      "execution_count": 110,
      "outputs": [
        {
          "output_type": "execute_result",
          "data": {
            "text/plain": [
              "array([1., 1.])"
            ]
          },
          "metadata": {
            "tags": []
          },
          "execution_count": 110
        }
      ]
    },
    {
      "cell_type": "code",
      "metadata": {
        "colab": {
          "base_uri": "https://localhost:8080/"
        },
        "id": "3C6ObmaXPzgq",
        "outputId": "c3ffa1b9-7472-4e74-eadd-4f2b04c62695"
      },
      "source": [
        "data_dict['caps'][1].get_ydata()  "
      ],
      "execution_count": 111,
      "outputs": [
        {
          "output_type": "execute_result",
          "data": {
            "text/plain": [
              "array([71., 71.])"
            ]
          },
          "metadata": {
            "tags": []
          },
          "execution_count": 111
        }
      ]
    },
    {
      "cell_type": "code",
      "metadata": {
        "colab": {
          "base_uri": "https://localhost:8080/",
          "height": 418
        },
        "id": "haRg6NkLQVOY",
        "outputId": "a9a70b56-783b-4fbf-e80d-e9419c29a359"
      },
      "source": [
        "cap1 = data_cases2_nomissingage['age'] >= data_dict['caps'][0].get_ydata()[0]\n",
        "cap2 = data_cases2_nomissingage['age'] <= data_dict['caps'][1].get_ydata()[0]\n",
        "\n",
        "data_cases2_nomissingage_nooutlier = data_cases2_nomissingage[cap1 & cap2]\n",
        "data_cases2_nomissingage_nooutlier"
      ],
      "execution_count": 112,
      "outputs": [
        {
          "output_type": "execute_result",
          "data": {
            "text/html": [
              "<div>\n",
              "<style scoped>\n",
              "    .dataframe tbody tr th:only-of-type {\n",
              "        vertical-align: middle;\n",
              "    }\n",
              "\n",
              "    .dataframe tbody tr th {\n",
              "        vertical-align: top;\n",
              "    }\n",
              "\n",
              "    .dataframe thead th {\n",
              "        text-align: right;\n",
              "    }\n",
              "</style>\n",
              "<table border=\"1\" class=\"dataframe\">\n",
              "  <thead>\n",
              "    <tr style=\"text-align: right;\">\n",
              "      <th></th>\n",
              "      <th>No.</th>\n",
              "      <th>announce_date</th>\n",
              "      <th>Notified date</th>\n",
              "      <th>sex</th>\n",
              "      <th>age</th>\n",
              "      <th>Unit</th>\n",
              "      <th>nationality</th>\n",
              "      <th>province_of_isolation</th>\n",
              "      <th>risk</th>\n",
              "      <th>province_of_onset</th>\n",
              "      <th>district_of_onset</th>\n",
              "    </tr>\n",
              "  </thead>\n",
              "  <tbody>\n",
              "    <tr>\n",
              "      <th>0</th>\n",
              "      <td>1</td>\n",
              "      <td>12/1/2020</td>\n",
              "      <td>NaN</td>\n",
              "      <td>หญิง</td>\n",
              "      <td>61.000000</td>\n",
              "      <td>ปี</td>\n",
              "      <td>China</td>\n",
              "      <td>กรุงเทพมหานคร</td>\n",
              "      <td>คนต่างชาติเดินทางมาจากต่างประเทศ</td>\n",
              "      <td>กรุงเทพมหานคร</td>\n",
              "      <td>NaN</td>\n",
              "    </tr>\n",
              "    <tr>\n",
              "      <th>3</th>\n",
              "      <td>4</td>\n",
              "      <td>22/1/2020</td>\n",
              "      <td>NaN</td>\n",
              "      <td>ชาย</td>\n",
              "      <td>68.000000</td>\n",
              "      <td>ปี</td>\n",
              "      <td>China</td>\n",
              "      <td>กรุงเทพมหานคร</td>\n",
              "      <td>คนต่างชาติเดินทางมาจากต่างประเทศ</td>\n",
              "      <td>กรุงเทพมหานคร</td>\n",
              "      <td>NaN</td>\n",
              "    </tr>\n",
              "    <tr>\n",
              "      <th>4</th>\n",
              "      <td>5</td>\n",
              "      <td>24/1/2020</td>\n",
              "      <td>NaN</td>\n",
              "      <td>หญิง</td>\n",
              "      <td>66.000000</td>\n",
              "      <td>ปี</td>\n",
              "      <td>China</td>\n",
              "      <td>นนทบุรี</td>\n",
              "      <td>คนต่างชาติเดินทางมาจากต่างประเทศ</td>\n",
              "      <td>กรุงเทพมหานคร</td>\n",
              "      <td>NaN</td>\n",
              "    </tr>\n",
              "    <tr>\n",
              "      <th>5</th>\n",
              "      <td>6</td>\n",
              "      <td>25/1/2020</td>\n",
              "      <td>NaN</td>\n",
              "      <td>หญิง</td>\n",
              "      <td>33.000000</td>\n",
              "      <td>ปี</td>\n",
              "      <td>China</td>\n",
              "      <td>กรุงเทพมหานคร</td>\n",
              "      <td>คนต่างชาติเดินทางมาจากต่างประเทศ</td>\n",
              "      <td>กรุงเทพมหานคร</td>\n",
              "      <td>NaN</td>\n",
              "    </tr>\n",
              "    <tr>\n",
              "      <th>6</th>\n",
              "      <td>7</td>\n",
              "      <td>26/1/2020</td>\n",
              "      <td>NaN</td>\n",
              "      <td>หญิง</td>\n",
              "      <td>57.000000</td>\n",
              "      <td>ปี</td>\n",
              "      <td>China</td>\n",
              "      <td>กรุงเทพมหานคร</td>\n",
              "      <td>คนต่างชาติเดินทางมาจากต่างประเทศ</td>\n",
              "      <td>กรุงเทพมหานคร</td>\n",
              "      <td>NaN</td>\n",
              "    </tr>\n",
              "    <tr>\n",
              "      <th>...</th>\n",
              "      <td>...</td>\n",
              "      <td>...</td>\n",
              "      <td>...</td>\n",
              "      <td>...</td>\n",
              "      <td>...</td>\n",
              "      <td>...</td>\n",
              "      <td>...</td>\n",
              "      <td>...</td>\n",
              "      <td>...</td>\n",
              "      <td>...</td>\n",
              "      <td>...</td>\n",
              "    </tr>\n",
              "    <tr>\n",
              "      <th>512617</th>\n",
              "      <td>512618</td>\n",
              "      <td>26/7/2021</td>\n",
              "      <td>25/7/2021</td>\n",
              "      <td>ชาย</td>\n",
              "      <td>35.378474</td>\n",
              "      <td>NaN</td>\n",
              "      <td>NaN</td>\n",
              "      <td>ชลบุรี</td>\n",
              "      <td>ทัณฑสถาน/เรือนจำ</td>\n",
              "      <td>ไม่มีข้อมูล</td>\n",
              "      <td>NaN</td>\n",
              "    </tr>\n",
              "    <tr>\n",
              "      <th>512618</th>\n",
              "      <td>512619</td>\n",
              "      <td>26/7/2021</td>\n",
              "      <td>25/7/2021</td>\n",
              "      <td>ชาย</td>\n",
              "      <td>35.378474</td>\n",
              "      <td>NaN</td>\n",
              "      <td>NaN</td>\n",
              "      <td>ชลบุรี</td>\n",
              "      <td>ทัณฑสถาน/เรือนจำ</td>\n",
              "      <td>ไม่มีข้อมูล</td>\n",
              "      <td>NaN</td>\n",
              "    </tr>\n",
              "    <tr>\n",
              "      <th>512619</th>\n",
              "      <td>512620</td>\n",
              "      <td>26/7/2021</td>\n",
              "      <td>25/7/2021</td>\n",
              "      <td>ชาย</td>\n",
              "      <td>35.378474</td>\n",
              "      <td>NaN</td>\n",
              "      <td>NaN</td>\n",
              "      <td>ชลบุรี</td>\n",
              "      <td>ทัณฑสถาน/เรือนจำ</td>\n",
              "      <td>ไม่มีข้อมูล</td>\n",
              "      <td>NaN</td>\n",
              "    </tr>\n",
              "    <tr>\n",
              "      <th>512620</th>\n",
              "      <td>512621</td>\n",
              "      <td>26/7/2021</td>\n",
              "      <td>25/7/2021</td>\n",
              "      <td>ชาย</td>\n",
              "      <td>35.378474</td>\n",
              "      <td>NaN</td>\n",
              "      <td>NaN</td>\n",
              "      <td>ชลบุรี</td>\n",
              "      <td>ทัณฑสถาน/เรือนจำ</td>\n",
              "      <td>ไม่มีข้อมูล</td>\n",
              "      <td>NaN</td>\n",
              "    </tr>\n",
              "    <tr>\n",
              "      <th>512621</th>\n",
              "      <td>512622</td>\n",
              "      <td>26/7/2021</td>\n",
              "      <td>25/7/2021</td>\n",
              "      <td>ชาย</td>\n",
              "      <td>35.378474</td>\n",
              "      <td>NaN</td>\n",
              "      <td>NaN</td>\n",
              "      <td>ชลบุรี</td>\n",
              "      <td>ทัณฑสถาน/เรือนจำ</td>\n",
              "      <td>ไม่มีข้อมูล</td>\n",
              "      <td>NaN</td>\n",
              "    </tr>\n",
              "  </tbody>\n",
              "</table>\n",
              "<p>502350 rows × 11 columns</p>\n",
              "</div>"
            ],
            "text/plain": [
              "           No. announce_date  ... province_of_onset district_of_onset\n",
              "0            1     12/1/2020  ...     กรุงเทพมหานคร               NaN\n",
              "3            4     22/1/2020  ...     กรุงเทพมหานคร               NaN\n",
              "4            5     24/1/2020  ...     กรุงเทพมหานคร               NaN\n",
              "5            6     25/1/2020  ...     กรุงเทพมหานคร               NaN\n",
              "6            7     26/1/2020  ...     กรุงเทพมหานคร               NaN\n",
              "...        ...           ...  ...               ...               ...\n",
              "512617  512618     26/7/2021  ...       ไม่มีข้อมูล               NaN\n",
              "512618  512619     26/7/2021  ...       ไม่มีข้อมูล               NaN\n",
              "512619  512620     26/7/2021  ...       ไม่มีข้อมูล               NaN\n",
              "512620  512621     26/7/2021  ...       ไม่มีข้อมูล               NaN\n",
              "512621  512622     26/7/2021  ...       ไม่มีข้อมูล               NaN\n",
              "\n",
              "[502350 rows x 11 columns]"
            ]
          },
          "metadata": {
            "tags": []
          },
          "execution_count": 112
        }
      ]
    },
    {
      "cell_type": "code",
      "metadata": {
        "colab": {
          "base_uri": "https://localhost:8080/",
          "height": 265
        },
        "id": "d0w10intRhfV",
        "outputId": "3df0061e-cadd-4026-8bad-56490b0d44b2"
      },
      "source": [
        "data_dict = plt.boxplot(data_cases2_nomissingage_nooutlier['age'])"
      ],
      "execution_count": 113,
      "outputs": [
        {
          "output_type": "display_data",
          "data": {
            "image/png": "[encoded data removed]",
            "text/plain": [
              "<Figure size 432x288 with 1 Axes>"
            ]
          },
          "metadata": {
            "tags": [],
            "needs_background": "light"
          }
        }
      ]
    },
    {
      "cell_type": "markdown",
      "metadata": {
        "id": "j2GqDyEqRtKs"
      },
      "source": [
        "ตัด outlier แบบ manual "
      ]
    },
    {
      "cell_type": "code",
      "metadata": {
        "colab": {
          "base_uri": "https://localhost:8080/",
          "height": 418
        },
        "id": "c4ruUti2R3dd",
        "outputId": "c79d3fa1-b540-486e-c310-0ca6156063db"
      },
      "source": [
        "data_cases2_nomissingage[data_cases2_nomissingage['province_of_onset'] != 'ลอง']"
      ],
      "execution_count": 154,
      "outputs": [
        {
          "output_type": "execute_result",
          "data": {
            "text/html": [
              "<div>\n",
              "<style scoped>\n",
              "    .dataframe tbody tr th:only-of-type {\n",
              "        vertical-align: middle;\n",
              "    }\n",
              "\n",
              "    .dataframe tbody tr th {\n",
              "        vertical-align: top;\n",
              "    }\n",
              "\n",
              "    .dataframe thead th {\n",
              "        text-align: right;\n",
              "    }\n",
              "</style>\n",
              "<table border=\"1\" class=\"dataframe\">\n",
              "  <thead>\n",
              "    <tr style=\"text-align: right;\">\n",
              "      <th></th>\n",
              "      <th>No.</th>\n",
              "      <th>announce_date</th>\n",
              "      <th>Notified date</th>\n",
              "      <th>sex</th>\n",
              "      <th>age</th>\n",
              "      <th>Unit</th>\n",
              "      <th>nationality</th>\n",
              "      <th>province_of_isolation</th>\n",
              "      <th>risk</th>\n",
              "      <th>province_of_onset</th>\n",
              "      <th>district_of_onset</th>\n",
              "    </tr>\n",
              "  </thead>\n",
              "  <tbody>\n",
              "    <tr>\n",
              "      <th>0</th>\n",
              "      <td>1</td>\n",
              "      <td>12/1/2020</td>\n",
              "      <td>NaN</td>\n",
              "      <td>หญิง</td>\n",
              "      <td>61.000000</td>\n",
              "      <td>ปี</td>\n",
              "      <td>China</td>\n",
              "      <td>กรุงเทพมหานคร</td>\n",
              "      <td>คนต่างชาติเดินทางมาจากต่างประเทศ</td>\n",
              "      <td>กรุงเทพมหานคร</td>\n",
              "      <td>NaN</td>\n",
              "    </tr>\n",
              "    <tr>\n",
              "      <th>1</th>\n",
              "      <td>2</td>\n",
              "      <td>17/1/2020</td>\n",
              "      <td>NaN</td>\n",
              "      <td>หญิง</td>\n",
              "      <td>74.000000</td>\n",
              "      <td>ปี</td>\n",
              "      <td>China</td>\n",
              "      <td>กรุงเทพมหานคร</td>\n",
              "      <td>คนต่างชาติเดินทางมาจากต่างประเทศ</td>\n",
              "      <td>กรุงเทพมหานคร</td>\n",
              "      <td>NaN</td>\n",
              "    </tr>\n",
              "    <tr>\n",
              "      <th>2</th>\n",
              "      <td>3</td>\n",
              "      <td>22/1/2020</td>\n",
              "      <td>NaN</td>\n",
              "      <td>หญิง</td>\n",
              "      <td>73.000000</td>\n",
              "      <td>ปี</td>\n",
              "      <td>Thailand</td>\n",
              "      <td>นครปฐม</td>\n",
              "      <td>คนต่างชาติเดินทางมาจากต่างประเทศ</td>\n",
              "      <td>นครปฐม</td>\n",
              "      <td>เมือง</td>\n",
              "    </tr>\n",
              "    <tr>\n",
              "      <th>3</th>\n",
              "      <td>4</td>\n",
              "      <td>22/1/2020</td>\n",
              "      <td>NaN</td>\n",
              "      <td>ชาย</td>\n",
              "      <td>68.000000</td>\n",
              "      <td>ปี</td>\n",
              "      <td>China</td>\n",
              "      <td>กรุงเทพมหานคร</td>\n",
              "      <td>คนต่างชาติเดินทางมาจากต่างประเทศ</td>\n",
              "      <td>กรุงเทพมหานคร</td>\n",
              "      <td>NaN</td>\n",
              "    </tr>\n",
              "    <tr>\n",
              "      <th>4</th>\n",
              "      <td>5</td>\n",
              "      <td>24/1/2020</td>\n",
              "      <td>NaN</td>\n",
              "      <td>หญิง</td>\n",
              "      <td>66.000000</td>\n",
              "      <td>ปี</td>\n",
              "      <td>China</td>\n",
              "      <td>นนทบุรี</td>\n",
              "      <td>คนต่างชาติเดินทางมาจากต่างประเทศ</td>\n",
              "      <td>กรุงเทพมหานคร</td>\n",
              "      <td>NaN</td>\n",
              "    </tr>\n",
              "    <tr>\n",
              "      <th>...</th>\n",
              "      <td>...</td>\n",
              "      <td>...</td>\n",
              "      <td>...</td>\n",
              "      <td>...</td>\n",
              "      <td>...</td>\n",
              "      <td>...</td>\n",
              "      <td>...</td>\n",
              "      <td>...</td>\n",
              "      <td>...</td>\n",
              "      <td>...</td>\n",
              "      <td>...</td>\n",
              "    </tr>\n",
              "    <tr>\n",
              "      <th>512617</th>\n",
              "      <td>512618</td>\n",
              "      <td>26/7/2021</td>\n",
              "      <td>25/7/2021</td>\n",
              "      <td>ชาย</td>\n",
              "      <td>35.378474</td>\n",
              "      <td>NaN</td>\n",
              "      <td>NaN</td>\n",
              "      <td>ชลบุรี</td>\n",
              "      <td>ทัณฑสถาน/เรือนจำ</td>\n",
              "      <td>ไม่มีข้อมูล</td>\n",
              "      <td>NaN</td>\n",
              "    </tr>\n",
              "    <tr>\n",
              "      <th>512618</th>\n",
              "      <td>512619</td>\n",
              "      <td>26/7/2021</td>\n",
              "      <td>25/7/2021</td>\n",
              "      <td>ชาย</td>\n",
              "      <td>35.378474</td>\n",
              "      <td>NaN</td>\n",
              "      <td>NaN</td>\n",
              "      <td>ชลบุรี</td>\n",
              "      <td>ทัณฑสถาน/เรือนจำ</td>\n",
              "      <td>ไม่มีข้อมูล</td>\n",
              "      <td>NaN</td>\n",
              "    </tr>\n",
              "    <tr>\n",
              "      <th>512619</th>\n",
              "      <td>512620</td>\n",
              "      <td>26/7/2021</td>\n",
              "      <td>25/7/2021</td>\n",
              "      <td>ชาย</td>\n",
              "      <td>35.378474</td>\n",
              "      <td>NaN</td>\n",
              "      <td>NaN</td>\n",
              "      <td>ชลบุรี</td>\n",
              "      <td>ทัณฑสถาน/เรือนจำ</td>\n",
              "      <td>ไม่มีข้อมูล</td>\n",
              "      <td>NaN</td>\n",
              "    </tr>\n",
              "    <tr>\n",
              "      <th>512620</th>\n",
              "      <td>512621</td>\n",
              "      <td>26/7/2021</td>\n",
              "      <td>25/7/2021</td>\n",
              "      <td>ชาย</td>\n",
              "      <td>35.378474</td>\n",
              "      <td>NaN</td>\n",
              "      <td>NaN</td>\n",
              "      <td>ชลบุรี</td>\n",
              "      <td>ทัณฑสถาน/เรือนจำ</td>\n",
              "      <td>ไม่มีข้อมูล</td>\n",
              "      <td>NaN</td>\n",
              "    </tr>\n",
              "    <tr>\n",
              "      <th>512621</th>\n",
              "      <td>512622</td>\n",
              "      <td>26/7/2021</td>\n",
              "      <td>25/7/2021</td>\n",
              "      <td>ชาย</td>\n",
              "      <td>35.378474</td>\n",
              "      <td>NaN</td>\n",
              "      <td>NaN</td>\n",
              "      <td>ชลบุรี</td>\n",
              "      <td>ทัณฑสถาน/เรือนจำ</td>\n",
              "      <td>ไม่มีข้อมูล</td>\n",
              "      <td>NaN</td>\n",
              "    </tr>\n",
              "  </tbody>\n",
              "</table>\n",
              "<p>512616 rows × 11 columns</p>\n",
              "</div>"
            ],
            "text/plain": [
              "           No. announce_date  ... province_of_onset district_of_onset\n",
              "0            1     12/1/2020  ...     กรุงเทพมหานคร               NaN\n",
              "1            2     17/1/2020  ...     กรุงเทพมหานคร               NaN\n",
              "2            3     22/1/2020  ...            นครปฐม             เมือง\n",
              "3            4     22/1/2020  ...     กรุงเทพมหานคร               NaN\n",
              "4            5     24/1/2020  ...     กรุงเทพมหานคร               NaN\n",
              "...        ...           ...  ...               ...               ...\n",
              "512617  512618     26/7/2021  ...       ไม่มีข้อมูล               NaN\n",
              "512618  512619     26/7/2021  ...       ไม่มีข้อมูล               NaN\n",
              "512619  512620     26/7/2021  ...       ไม่มีข้อมูล               NaN\n",
              "512620  512621     26/7/2021  ...       ไม่มีข้อมูล               NaN\n",
              "512621  512622     26/7/2021  ...       ไม่มีข้อมูล               NaN\n",
              "\n",
              "[512616 rows x 11 columns]"
            ]
          },
          "metadata": {
            "tags": []
          },
          "execution_count": 154
        }
      ]
    },
    {
      "cell_type": "markdown",
      "metadata": {
        "id": "e3hNx3S-SL1U"
      },
      "source": [
        "# Quiz 5\n",
        "\n",
        "เขียนฟังก์ชั่น คำนวณ หา Q1,Q2,Q3,IQR,min,max โดยรับ input เป็น output ของ boxplot\n",
        "\n",
        "```python\n",
        "def box_vals(box_out_dict):\n",
        "    #your code1\n",
        "    .\n",
        "    .\n",
        "    .\n",
        "    #your codex\n",
        "    return q1,q2,q3,iqr,vmin,vmix\n",
        "```\n"
      ]
    },
    {
      "cell_type": "code",
      "metadata": {
        "id": "VV-JDSsMV6YF"
      },
      "source": [
        "def box_vals(box_out_dict):\n",
        "    #ส่วนโค้ด\n",
        "    q1 = data_dict['boxes'][0].get_ydata()[0]\n",
        "    q2 = data_dict['boxes'][0].get_ydata()[1]\n",
        "    q3 = data_dict['boxes'][0].get_ydata()[2]\n",
        "    iqr = q3 - q1\n",
        "    vmin = min(data_dict['boxes'][0].get_ydata())\n",
        "    vmax = max(data_dict['boxes'][0].get_ydata())\n",
        "    #ส่วนแสดงผล\n",
        "    print(f'Q1 = {q1}')\n",
        "    print(f'Q2 = {q2}')\n",
        "    print(f'Q3 = {q3}')\n",
        "    print(f'IQR = {iqr}')\n",
        "    print(f'min = {vmin}')\n",
        "    print(f'max = {vmax}')\n",
        "    #ส่วน return\n",
        "    #print('ค่าของ Q1,Q2,Q3,IQR,vmin,vmax ตามลำดับ ดังนี้')\n",
        "    return ##q1,q2,q3,iqr,vmin,vmax"
      ],
      "execution_count": 157,
      "outputs": []
    },
    {
      "cell_type": "code",
      "metadata": {
        "id": "9meHYsimqqKP",
        "outputId": "fe9ed3a3-f839-472b-8833-cc565f02ee2f",
        "colab": {
          "base_uri": "https://localhost:8080/"
        }
      },
      "source": [
        "box_vals(data_dict)"
      ],
      "execution_count": 158,
      "outputs": [
        {
          "output_type": "stream",
          "text": [
            "Q1 = 0.925\n",
            "Q2 = 1.075\n",
            "Q3 = 1.075\n",
            "IQR = 0.1499999999999999\n",
            "min = 0.925\n",
            "max = 1.075\n"
          ],
          "name": "stdout"
        }
      ]
    },
    {
      "cell_type": "code",
      "metadata": {
        "id": "IG_xM8Ym_QAH"
      },
      "source": [
        "####เฉลย\n",
        "def box_vals(box_out_dict) :\n",
        "        Q1 = box_out_dict['boxes'][0].get_ydata()[0] \n",
        "        Q2 = box_out_dict['medians'][0].get_ydata()[0]\n",
        "        Q3 = box_out_dict['boxes'][0].get_ydata()[2]\n",
        "        IQR =  Q3 - Q1\n",
        "        vmin =  box_out_dict['caps'][0].get_ydata()[0]\n",
        "        vmax =  box_out_dict['caps'][1].get_ydata()[0] \n",
        "        return Q1,Q2,Q3,IQR,vmin,vmax"
      ],
      "execution_count": 159,
      "outputs": []
    },
    {
      "cell_type": "code",
      "metadata": {
        "colab": {
          "base_uri": "https://localhost:8080/"
        },
        "id": "xKk6MCgI_YRg",
        "outputId": "f54925d0-7cd1-4397-b6f2-e59af4c700e3"
      },
      "source": [
        "box_vals(data_dict)"
      ],
      "execution_count": 160,
      "outputs": [
        {
          "output_type": "execute_result",
          "data": {
            "text/plain": [
              "(0.925, 0.925, 1.075, 0.1499999999999999, 0.9625, 0.9625)"
            ]
          },
          "metadata": {
            "tags": []
          },
          "execution_count": 160
        }
      ]
    },
    {
      "cell_type": "code",
      "metadata": {
        "id": "MQhG0alUlS1F",
        "outputId": "31d84975-f8f4-4fdd-a77c-ff2da0c4891c",
        "colab": {
          "base_uri": "https://localhost:8080/",
          "height": 265
        }
      },
      "source": [
        "data_dict = plt.boxplot(data_cases2_nomissingage_nooutlier['age'],vert=False)\n",
        "# vert คือเเนวนอน False คือต้องเป็น จาก y เป็น x True/False ต้องเป็นตัวใหญ่ ขึ้นต้น เพราะเป็นค่า binary"
      ],
      "execution_count": 161,
      "outputs": [
        {
          "output_type": "display_data",
          "data": {
            "image/png": "[encoded data removed]",
            "text/plain": [
              "<Figure size 432x288 with 1 Axes>"
            ]
          },
          "metadata": {
            "tags": [],
            "needs_background": "light"
          }
        }
      ]
    },
    {
      "cell_type": "code",
      "metadata": {
        "colab": {
          "base_uri": "https://localhost:8080/"
        },
        "id": "4miQIi-i9Rxl",
        "outputId": "daa25f6d-2ce6-492d-ad27-00054927bdf2"
      },
      "source": [
        "data_dict['boxes'][0].get_xdata() # เป็นเเนวกล่อง"
      ],
      "execution_count": 162,
      "outputs": [
        {
          "output_type": "execute_result",
          "data": {
            "text/plain": [
              "array([25., 25., 43., 43., 25.])"
            ]
          },
          "metadata": {
            "tags": []
          },
          "execution_count": 162
        }
      ]
    },
    {
      "cell_type": "markdown",
      "metadata": {
        "id": "Q4Fg8Li4lhEG"
      },
      "source": [
        "#Quiz กลุ่ม III แก้ให้ function box_vals สามารถรับ input ที่ box plot วาดแบบแนวนอนได้ (vert = False)"
      ]
    },
    {
      "cell_type": "code",
      "metadata": {
        "id": "aVl2WrpssdPd"
      },
      "source": [
        "def box_vals(box_out_dict, vert = True):\n",
        "    Q1 = box_out_dict['boxes'][0].get_ydata()[0] \n",
        "    Q2 = box_out_dict['medians'][0].get_ydata()[0]\n",
        "    Q3 = box_out_dict['boxes'][0].get_ydata()[2]\n",
        "    IQR =  Q3 - Q1\n",
        "    vmin =  box_out_dict['caps'][0].get_ydata()[0]\n",
        "    vmax =  box_out_dict['caps'][1].get_ydata()[0] \n",
        "\n",
        "    ### code ###\n",
        "\n",
        "    return Q1,Q2,Q3,IQR,vmin,vmax"
      ],
      "execution_count": null,
      "outputs": []
    }
  ]
}