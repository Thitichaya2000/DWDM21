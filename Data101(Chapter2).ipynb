{
  "nbformat": 4,
  "nbformat_minor": 0,
  "metadata": {
    "colab": {
      "name": "Data101(Chapter2).ipynb",
      "provenance": [],
      "authorship_tag": "ABX9TyM3mLVi/4OcDvRv5MEkx86S",
      "include_colab_link": true
    },
    "kernelspec": {
      "name": "python3",
      "display_name": "Python 3"
    },
    "language_info": {
      "name": "python"
    }
  },
  "cells": [
    {
      "cell_type": "markdown",
      "metadata": {
        "id": "view-in-github",
        "colab_type": "text"
      },
      "source": [
        "<a href=\"https://colab.research.google.com/github/Thitichaya2000/DWDM21/blob/main/Data101(Chapter2).ipynb\" target=\"_parent\"><img src=\"https://colab.research.google.com/assets/colab-badge.svg\" alt=\"Open In Colab\"/></a>"
      ]
    },
    {
      "cell_type": "markdown",
      "metadata": {
        "id": "7ubMJJDquIVQ"
      },
      "source": [
        "ข้อความที่อยู่ใน textbox จะเป็น ภาษา markdown\n",
        "\n",
        "ข้อดีหนึ่งของ Python คือมี package สำหรับทำงานต่างๆมากมาย \n",
        "\n",
        "ซึ่ง pandas เป็น package สำหรับการทำงานเก็บข้อมูลที่อยู่ในรูปแบบตาราง \n",
        "\n",
        "โดย pandas จะเรียกตารางนั้นว่า dataframe"
      ]
    },
    {
      "cell_type": "code",
      "metadata": {
        "id": "0g5VFYWOr8I3"
      },
      "source": [
        "import pandas #เรียกใช้ package คือ import ตามด้วยชื่อ package"
      ],
      "execution_count": null,
      "outputs": []
    },
    {
      "cell_type": "code",
      "metadata": {
        "id": "ErYsW0Krtpc6"
      },
      "source": [
        "import pandas as pd # วิธีเรียกใช้ package คือ import ตามด้วยชื่อ package ที่โหลดมาใหม่ว่า pd"
      ],
      "execution_count": null,
      "outputs": []
    },
    {
      "cell_type": "markdown",
      "metadata": {
        "id": "1dFEJFtsva8j"
      },
      "source": [
        "ไฟล์ .csv (comma separated values) เป็นไฟล์ที่เราจะได้ใช้กันในวิชานี้"
      ]
    },
    {
      "cell_type": "code",
      "metadata": {
        "id": "68N5yh_PxFUz"
      },
      "source": [
        " data_df = pd.read_csv ( 'data.csv' )\n"
      ],
      "execution_count": null,
      "outputs": []
    },
    {
      "cell_type": "code",
      "metadata": {
        "id": "djoiCloVxQoJ",
        "colab": {
          "base_uri": "https://localhost:8080/",
          "height": 142
        },
        "outputId": "af3b3506-dbb2-48df-89d5-1ceb3c1d6a82"
      },
      "source": [
        "data_df"
      ],
      "execution_count": null,
      "outputs": [
        {
          "output_type": "execute_result",
          "data": {
            "text/html": [
              "<div>\n",
              "<style scoped>\n",
              "    .dataframe tbody tr th:only-of-type {\n",
              "        vertical-align: middle;\n",
              "    }\n",
              "\n",
              "    .dataframe tbody tr th {\n",
              "        vertical-align: top;\n",
              "    }\n",
              "\n",
              "    .dataframe thead th {\n",
              "        text-align: right;\n",
              "    }\n",
              "</style>\n",
              "<table border=\"1\" class=\"dataframe\">\n",
              "  <thead>\n",
              "    <tr style=\"text-align: right;\">\n",
              "      <th></th>\n",
              "      <th>name</th>\n",
              "      <th>age</th>\n",
              "      <th>city</th>\n",
              "    </tr>\n",
              "  </thead>\n",
              "  <tbody>\n",
              "    <tr>\n",
              "      <th>0</th>\n",
              "      <td>Tom</td>\n",
              "      <td>27</td>\n",
              "      <td>Khon Kaen</td>\n",
              "    </tr>\n",
              "    <tr>\n",
              "      <th>1</th>\n",
              "      <td>Paul</td>\n",
              "      <td>15</td>\n",
              "      <td>Bangkok</td>\n",
              "    </tr>\n",
              "    <tr>\n",
              "      <th>2</th>\n",
              "      <td>Sarah</td>\n",
              "      <td>49</td>\n",
              "      <td>London</td>\n",
              "    </tr>\n",
              "  </tbody>\n",
              "</table>\n",
              "</div>"
            ],
            "text/plain": [
              "    name  age       city\n",
              "0    Tom   27  Khon Kaen\n",
              "1   Paul   15    Bangkok\n",
              "2  Sarah   49     London"
            ]
          },
          "metadata": {
            "tags": []
          },
          "execution_count": 4
        }
      ]
    },
    {
      "cell_type": "code",
      "metadata": {
        "colab": {
          "base_uri": "https://localhost:8080/",
          "height": 142
        },
        "id": "XJCTH5I6yOVj",
        "outputId": "00a74adf-c0f5-4f82-f86e-eb7d29db2ba4"
      },
      "source": [
        "data_df2 = pandas.read_csv( 'data.csv' ) \n",
        "data_df2"
      ],
      "execution_count": null,
      "outputs": [
        {
          "output_type": "execute_result",
          "data": {
            "text/html": [
              "<div>\n",
              "<style scoped>\n",
              "    .dataframe tbody tr th:only-of-type {\n",
              "        vertical-align: middle;\n",
              "    }\n",
              "\n",
              "    .dataframe tbody tr th {\n",
              "        vertical-align: top;\n",
              "    }\n",
              "\n",
              "    .dataframe thead th {\n",
              "        text-align: right;\n",
              "    }\n",
              "</style>\n",
              "<table border=\"1\" class=\"dataframe\">\n",
              "  <thead>\n",
              "    <tr style=\"text-align: right;\">\n",
              "      <th></th>\n",
              "      <th>name</th>\n",
              "      <th>age</th>\n",
              "      <th>city</th>\n",
              "    </tr>\n",
              "  </thead>\n",
              "  <tbody>\n",
              "    <tr>\n",
              "      <th>0</th>\n",
              "      <td>Tom</td>\n",
              "      <td>27</td>\n",
              "      <td>Khon Kaen</td>\n",
              "    </tr>\n",
              "    <tr>\n",
              "      <th>1</th>\n",
              "      <td>Paul</td>\n",
              "      <td>15</td>\n",
              "      <td>Bangkok</td>\n",
              "    </tr>\n",
              "    <tr>\n",
              "      <th>2</th>\n",
              "      <td>Sarah</td>\n",
              "      <td>49</td>\n",
              "      <td>London</td>\n",
              "    </tr>\n",
              "  </tbody>\n",
              "</table>\n",
              "</div>"
            ],
            "text/plain": [
              "    name  age       city\n",
              "0    Tom   27  Khon Kaen\n",
              "1   Paul   15    Bangkok\n",
              "2  Sarah   49     London"
            ]
          },
          "metadata": {
            "tags": []
          },
          "execution_count": 5
        }
      ]
    },
    {
      "cell_type": "markdown",
      "metadata": {
        "id": "r34ARgnN0GiB"
      },
      "source": [
        "# Basic\n",
        "## Variables"
      ]
    },
    {
      "cell_type": "markdown",
      "metadata": {
        "id": "bDutBjGP1mOt"
      },
      "source": [
        "ข้อกำหนดในการตั้งชื่อตัวแปร\n",
        "\n",
        "1. ชื่อห้ามมีเว้นวรรค\n",
        "2. พยายามใช้ภาษาอังกฤษ\n",
        "3. ตัวเล็กกับตัวใหญ่ แตกต่างกัน (case sensitive)\n",
        "4. ห้ามใช้ตัวเลขเป็นตัวหน้า"
      ]
    },
    {
      "cell_type": "code",
      "metadata": {
        "id": "s4BI-GXv0PUY"
      },
      "source": [
        "variables_a =  12\n",
        "variables_b = 'abcde'  # ' เรียกว่า quote\n",
        "variables_c = variables_a #ไม่มี quote จะเป็นตัวแปร\n"
      ],
      "execution_count": null,
      "outputs": []
    },
    {
      "cell_type": "code",
      "metadata": {
        "colab": {
          "base_uri": "https://localhost:8080/"
        },
        "id": "i1o1PqYn1UyF",
        "outputId": "6a03f3ab-92e0-4c17-a415-4da708cc1caa"
      },
      "source": [
        "variables_a"
      ],
      "execution_count": null,
      "outputs": [
        {
          "output_type": "execute_result",
          "data": {
            "text/plain": [
              "12"
            ]
          },
          "metadata": {
            "tags": []
          },
          "execution_count": 7
        }
      ]
    },
    {
      "cell_type": "code",
      "metadata": {
        "colab": {
          "base_uri": "https://localhost:8080/",
          "height": 35
        },
        "id": "mv7pT8_f1XYW",
        "outputId": "961aad1a-b2e2-4f4b-88be-1a8f2a5b9cf3"
      },
      "source": [
        "variables_b"
      ],
      "execution_count": null,
      "outputs": [
        {
          "output_type": "execute_result",
          "data": {
            "application/vnd.google.colaboratory.intrinsic+json": {
              "type": "string"
            },
            "text/plain": [
              "'abcde'"
            ]
          },
          "metadata": {
            "tags": []
          },
          "execution_count": 8
        }
      ]
    },
    {
      "cell_type": "code",
      "metadata": {
        "colab": {
          "base_uri": "https://localhost:8080/"
        },
        "id": "zIvO977W1blG",
        "outputId": "db999f58-2363-47cf-b58c-edb5fb4bac39"
      },
      "source": [
        "variables_c"
      ],
      "execution_count": null,
      "outputs": [
        {
          "output_type": "execute_result",
          "data": {
            "text/plain": [
              "12"
            ]
          },
          "metadata": {
            "tags": []
          },
          "execution_count": 9
        }
      ]
    },
    {
      "cell_type": "code",
      "metadata": {
        "colab": {
          "base_uri": "https://localhost:8080/",
          "height": 130
        },
        "id": "L9pNs1jP2PQS",
        "outputId": "a1ec53ae-0c8d-4d66-91e6-52ab6aa99043"
      },
      "source": [
        "# ชื่อห้ามมีเว้นวรรค\n",
        "variables a = 6"
      ],
      "execution_count": null,
      "outputs": [
        {
          "output_type": "error",
          "ename": "SyntaxError",
          "evalue": "ignored",
          "traceback": [
            "\u001b[0;36m  File \u001b[0;32m\"<ipython-input-10-082454b42c8c>\"\u001b[0;36m, line \u001b[0;32m2\u001b[0m\n\u001b[0;31m    variables a = 6\u001b[0m\n\u001b[0m              ^\u001b[0m\n\u001b[0;31mSyntaxError\u001b[0m\u001b[0;31m:\u001b[0m invalid syntax\n"
          ]
        }
      ]
    },
    {
      "cell_type": "code",
      "metadata": {
        "colab": {
          "base_uri": "https://localhost:8080/"
        },
        "id": "Vl6ofGW_2iRL",
        "outputId": "413161cc-254b-4991-f82b-6b4cbdceaf90"
      },
      "source": [
        "# (พยายาม)ใช้ภาษาอังกฤษ\n",
        "# colab ใช้ภาษาไทยเป็นชื่อตัวแปรได้ แต่ไม่ควรใช้\n",
        "ตัวแปร = 3\n",
        "ตัวแปร"
      ],
      "execution_count": null,
      "outputs": [
        {
          "output_type": "execute_result",
          "data": {
            "text/plain": [
              "3"
            ]
          },
          "metadata": {
            "tags": []
          },
          "execution_count": 11
        }
      ]
    },
    {
      "cell_type": "code",
      "metadata": {
        "colab": {
          "base_uri": "https://localhost:8080/"
        },
        "id": "RJ5RGJJm3hVS",
        "outputId": "90beab83-5310-4fd8-fb3e-491c542186b4"
      },
      "source": [
        "# ตัวเล็กกับตัวใหญ่ แตกต่างกัน (case sensitive)\n",
        "v_a = 1\n",
        "V_a = 2\n",
        "print(v_a)\n",
        "print(V_a)\n"
      ],
      "execution_count": null,
      "outputs": [
        {
          "output_type": "stream",
          "text": [
            "1\n",
            "2\n"
          ],
          "name": "stdout"
        }
      ]
    },
    {
      "cell_type": "code",
      "metadata": {
        "colab": {
          "base_uri": "https://localhost:8080/"
        },
        "id": "PQhaOabc3ALt",
        "outputId": "7b95eff4-ff5d-4f3b-dae5-6492b3b7f657"
      },
      "source": [
        "# ตัวเล็กกับตัวใหญ่ แตกต่างกัน (case sensitive)\n",
        "v_a = 1\n",
        "v_a = 2\n",
        "print(v_a)\n",
        "print(V_a)\n"
      ],
      "execution_count": null,
      "outputs": [
        {
          "output_type": "stream",
          "text": [
            "2\n",
            "2\n"
          ],
          "name": "stdout"
        }
      ]
    },
    {
      "cell_type": "code",
      "metadata": {
        "colab": {
          "base_uri": "https://localhost:8080/",
          "height": 130
        },
        "id": "qYHkHFJr3nlY",
        "outputId": "512fa5a8-7df5-466d-c4b2-f582ad54dbd0"
      },
      "source": [
        "# ห้ามใช้ตัวเลขเป็นตัวหน้า\n",
        "2 = 1"
      ],
      "execution_count": null,
      "outputs": [
        {
          "output_type": "error",
          "ename": "SyntaxError",
          "evalue": "ignored",
          "traceback": [
            "\u001b[0;36m  File \u001b[0;32m\"<ipython-input-15-24eb8a2ec18c>\"\u001b[0;36m, line \u001b[0;32m2\u001b[0m\n\u001b[0;31m    2 = 1\u001b[0m\n\u001b[0m         ^\u001b[0m\n\u001b[0;31mSyntaxError\u001b[0m\u001b[0;31m:\u001b[0m can't assign to literal\n"
          ]
        }
      ]
    },
    {
      "cell_type": "code",
      "metadata": {
        "colab": {
          "base_uri": "https://localhost:8080/",
          "height": 130
        },
        "id": "6MlQXplM3sb7",
        "outputId": "4146d3a4-92ba-4060-c993-b593f2f6cceb"
      },
      "source": [
        "# ห้ามใช้ตัวเลขเป็นตัวหน้า\n",
        "2ab = 1"
      ],
      "execution_count": null,
      "outputs": [
        {
          "output_type": "error",
          "ename": "SyntaxError",
          "evalue": "ignored",
          "traceback": [
            "\u001b[0;36m  File \u001b[0;32m\"<ipython-input-16-4a1c88deec89>\"\u001b[0;36m, line \u001b[0;32m2\u001b[0m\n\u001b[0;31m    2ab = 1\u001b[0m\n\u001b[0m      ^\u001b[0m\n\u001b[0;31mSyntaxError\u001b[0m\u001b[0;31m:\u001b[0m invalid syntax\n"
          ]
        }
      ]
    },
    {
      "cell_type": "code",
      "metadata": {
        "id": "hPG8RSUT3wEw"
      },
      "source": [
        "# ห้ามใช้ตัวเลขเป็นตัวหน้า\n",
        "variable1 = 1"
      ],
      "execution_count": null,
      "outputs": []
    },
    {
      "cell_type": "code",
      "metadata": {
        "colab": {
          "base_uri": "https://localhost:8080/"
        },
        "id": "FTH3WlYE35GQ",
        "outputId": "b01ce89f-c92b-405e-bee9-4a97fe2db2e7"
      },
      "source": [
        "print(variable1)"
      ],
      "execution_count": null,
      "outputs": [
        {
          "output_type": "stream",
          "text": [
            "1\n"
          ],
          "name": "stdout"
        }
      ]
    },
    {
      "cell_type": "code",
      "metadata": {
        "id": "ru8SN-jR4EyX"
      },
      "source": [
        "variables_a =  12\n",
        "variables_b = 'abcde'  # ' เรียกว่า quote\n",
        "variables_c = variables_a #ไม่มี quote จะเป็นตัวแปร\n",
        "variables_d =  -41.2\n",
        "variables_4 =  \"KKU\" # \" เรียกใช้ double quote\n"
      ],
      "execution_count": null,
      "outputs": []
    },
    {
      "cell_type": "code",
      "metadata": {
        "colab": {
          "base_uri": "https://localhost:8080/"
        },
        "id": "J7Zcrqv64gP3",
        "outputId": "eddb24da-7661-4225-9554-a9cf3a71fb55"
      },
      "source": [
        "variables_x = variables_c + variables_d\n",
        "print(variables_x) "
      ],
      "execution_count": null,
      "outputs": [
        {
          "output_type": "stream",
          "text": [
            "-29.200000000000003\n"
          ],
          "name": "stdout"
        }
      ]
    },
    {
      "cell_type": "code",
      "metadata": {
        "colab": {
          "base_uri": "https://localhost:8080/",
          "height": 163
        },
        "id": "_VsyWGpn6KAz",
        "outputId": "fc79c9da-21cc-40dc-ba98-8d8141cd5562"
      },
      "source": [
        "variables_a + variables_b"
      ],
      "execution_count": null,
      "outputs": [
        {
          "output_type": "error",
          "ename": "TypeError",
          "evalue": "ignored",
          "traceback": [
            "\u001b[0;31m---------------------------------------------------------------------------\u001b[0m",
            "\u001b[0;31mTypeError\u001b[0m                                 Traceback (most recent call last)",
            "\u001b[0;32m<ipython-input-21-e28e3d64d791>\u001b[0m in \u001b[0;36m<module>\u001b[0;34m()\u001b[0m\n\u001b[0;32m----> 1\u001b[0;31m \u001b[0mvariables_a\u001b[0m \u001b[0;34m+\u001b[0m \u001b[0mvariables_b\u001b[0m\u001b[0;34m\u001b[0m\u001b[0;34m\u001b[0m\u001b[0m\n\u001b[0m",
            "\u001b[0;31mTypeError\u001b[0m: unsupported operand type(s) for +: 'int' and 'str'"
          ]
        }
      ]
    },
    {
      "cell_type": "code",
      "metadata": {
        "colab": {
          "base_uri": "https://localhost:8080/"
        },
        "id": "lrVZvrji6igu",
        "outputId": "7c9738ea-d5db-4ed1-f578-d6a925ebc467"
      },
      "source": [
        "print(variables_b + variables_4) # string บวกกันได้ เอามาต่อกัน"
      ],
      "execution_count": null,
      "outputs": [
        {
          "output_type": "stream",
          "text": [
            "abcdeKKU\n"
          ],
          "name": "stdout"
        }
      ]
    },
    {
      "cell_type": "markdown",
      "metadata": {
        "id": "SYQ7RSYY7FI7"
      },
      "source": [
        "## Casting int() float() str()"
      ]
    },
    {
      "cell_type": "code",
      "metadata": {
        "colab": {
          "base_uri": "https://localhost:8080/"
        },
        "id": "fHEpoyY06sq1",
        "outputId": "93c5e730-984d-4f83-ee48-5d88661a75f1"
      },
      "source": [
        "print(variables_x)\n",
        "print(int(variables_x)) #ตัดทศนิยมออก เป็นจำนวนเต็ม"
      ],
      "execution_count": null,
      "outputs": [
        {
          "output_type": "stream",
          "text": [
            "-29.200000000000003\n",
            "-29\n"
          ],
          "name": "stdout"
        }
      ]
    },
    {
      "cell_type": "code",
      "metadata": {
        "colab": {
          "base_uri": "https://localhost:8080/"
        },
        "id": "7nznZjZu7fT9",
        "outputId": "ba7da8e5-023d-4aee-aef0-ef96d1e815eb"
      },
      "source": [
        "V_X = str(variables_x)\n",
        "print(V_X)"
      ],
      "execution_count": null,
      "outputs": [
        {
          "output_type": "stream",
          "text": [
            "-29.200000000000003\n"
          ],
          "name": "stdout"
        }
      ]
    },
    {
      "cell_type": "code",
      "metadata": {
        "colab": {
          "base_uri": "https://localhost:8080/",
          "height": 163
        },
        "id": "B5SxlczF77T_",
        "outputId": "50651039-cf04-4c28-b8a2-cd1073a57735"
      },
      "source": [
        "V_X + variables_a "
      ],
      "execution_count": null,
      "outputs": [
        {
          "output_type": "error",
          "ename": "TypeError",
          "evalue": "ignored",
          "traceback": [
            "\u001b[0;31m---------------------------------------------------------------------------\u001b[0m",
            "\u001b[0;31mTypeError\u001b[0m                                 Traceback (most recent call last)",
            "\u001b[0;32m<ipython-input-25-b373408f1d56>\u001b[0m in \u001b[0;36m<module>\u001b[0;34m()\u001b[0m\n\u001b[0;32m----> 1\u001b[0;31m \u001b[0mV_X\u001b[0m \u001b[0;34m+\u001b[0m \u001b[0mvariables_a\u001b[0m\u001b[0;34m\u001b[0m\u001b[0;34m\u001b[0m\u001b[0m\n\u001b[0m",
            "\u001b[0;31mTypeError\u001b[0m: can only concatenate str (not \"int\") to str"
          ]
        }
      ]
    },
    {
      "cell_type": "code",
      "metadata": {
        "colab": {
          "base_uri": "https://localhost:8080/",
          "height": 163
        },
        "id": "8s4ON0qy8Az7",
        "outputId": "50cd188c-7ddb-467c-cbb3-853eba197fb1"
      },
      "source": [
        "variables_a + V_X"
      ],
      "execution_count": null,
      "outputs": [
        {
          "output_type": "error",
          "ename": "TypeError",
          "evalue": "ignored",
          "traceback": [
            "\u001b[0;31m---------------------------------------------------------------------------\u001b[0m",
            "\u001b[0;31mTypeError\u001b[0m                                 Traceback (most recent call last)",
            "\u001b[0;32m<ipython-input-26-1ed2c2905fdc>\u001b[0m in \u001b[0;36m<module>\u001b[0;34m()\u001b[0m\n\u001b[0;32m----> 1\u001b[0;31m \u001b[0mvariables_a\u001b[0m \u001b[0;34m+\u001b[0m \u001b[0mV_X\u001b[0m\u001b[0;34m\u001b[0m\u001b[0;34m\u001b[0m\u001b[0m\n\u001b[0m",
            "\u001b[0;31mTypeError\u001b[0m: unsupported operand type(s) for +: 'int' and 'str'"
          ]
        }
      ]
    },
    {
      "cell_type": "code",
      "metadata": {
        "colab": {
          "base_uri": "https://localhost:8080/",
          "height": 35
        },
        "id": "zaMrHPc78Xl2",
        "outputId": "0900a97c-db91-4f43-b40b-62b2493fa493"
      },
      "source": [
        "V_X # ถ้ามี ' ยังเป็น str อยู่่"
      ],
      "execution_count": null,
      "outputs": [
        {
          "output_type": "execute_result",
          "data": {
            "application/vnd.google.colaboratory.intrinsic+json": {
              "type": "string"
            },
            "text/plain": [
              "'-29.200000000000003'"
            ]
          },
          "metadata": {
            "tags": []
          },
          "execution_count": 27
        }
      ]
    },
    {
      "cell_type": "code",
      "metadata": {
        "colab": {
          "base_uri": "https://localhost:8080/"
        },
        "id": "Wbw0fMDD8gMB",
        "outputId": "f3747ab6-9730-479f-a65b-51eb0ae125f7"
      },
      "source": [
        "float(V_X) #เปลี่ยนเป็นตัวเลข"
      ],
      "execution_count": null,
      "outputs": [
        {
          "output_type": "execute_result",
          "data": {
            "text/plain": [
              "-29.200000000000003"
            ]
          },
          "metadata": {
            "tags": []
          },
          "execution_count": 28
        }
      ]
    },
    {
      "cell_type": "markdown",
      "metadata": {
        "id": "63NZOt1s8_0R"
      },
      "source": [
        "## Data structure \n",
        "### list()"
      ]
    },
    {
      "cell_type": "code",
      "metadata": {
        "id": "GSaUJUox84rU"
      },
      "source": [
        "list_a =[1 , 2 , 0.2 , 'abs' , ] # [] square brackets\n",
        "list_b = [2, 'xyz', list_a, [1,2,0.0]]"
      ],
      "execution_count": null,
      "outputs": []
    },
    {
      "cell_type": "code",
      "metadata": {
        "colab": {
          "base_uri": "https://localhost:8080/"
        },
        "id": "fMZRC8rg97WP",
        "outputId": "87fd11e5-e0fa-44c4-9b0a-9e448abd1d48"
      },
      "source": [
        "list_a"
      ],
      "execution_count": null,
      "outputs": [
        {
          "output_type": "execute_result",
          "data": {
            "text/plain": [
              "[1, 2, 0.2, 'abs']"
            ]
          },
          "metadata": {
            "tags": []
          },
          "execution_count": 30
        }
      ]
    },
    {
      "cell_type": "code",
      "metadata": {
        "colab": {
          "base_uri": "https://localhost:8080/"
        },
        "id": "WrdwOD6d-A2G",
        "outputId": "dc1bdf86-7254-4534-da7f-313a566a7c7a"
      },
      "source": [
        "list_b"
      ],
      "execution_count": null,
      "outputs": [
        {
          "output_type": "execute_result",
          "data": {
            "text/plain": [
              "[2, 'xyz', [1, 2, 0.2, 'abs'], [1, 2, 0.0]]"
            ]
          },
          "metadata": {
            "tags": []
          },
          "execution_count": 31
        }
      ]
    },
    {
      "cell_type": "code",
      "metadata": {
        "colab": {
          "base_uri": "https://localhost:8080/"
        },
        "id": "GaD17XRL-G6P",
        "outputId": "2f8f5e3b-4911-44ba-98ab-8e6ac5340f87"
      },
      "source": [
        "len(list_b)"
      ],
      "execution_count": null,
      "outputs": [
        {
          "output_type": "execute_result",
          "data": {
            "text/plain": [
              "4"
            ]
          },
          "metadata": {
            "tags": []
          },
          "execution_count": 32
        }
      ]
    },
    {
      "cell_type": "code",
      "metadata": {
        "colab": {
          "base_uri": "https://localhost:8080/"
        },
        "id": "gGcc9WJS-g3U",
        "outputId": "5e88378a-f884-4a6d-c4d1-682b3ae51b71"
      },
      "source": [
        "list_b[3]"
      ],
      "execution_count": null,
      "outputs": [
        {
          "output_type": "execute_result",
          "data": {
            "text/plain": [
              "[1, 2, 0.0]"
            ]
          },
          "metadata": {
            "tags": []
          },
          "execution_count": 33
        }
      ]
    },
    {
      "cell_type": "code",
      "metadata": {
        "colab": {
          "base_uri": "https://localhost:8080/"
        },
        "id": "bfSbAlHE-oVk",
        "outputId": "9656c56f-13ae-43b5-9e35-5ce3baaefcce"
      },
      "source": [
        "list_b[3][1] #ค่อยๆดูทีละอัน"
      ],
      "execution_count": null,
      "outputs": [
        {
          "output_type": "execute_result",
          "data": {
            "text/plain": [
              "2"
            ]
          },
          "metadata": {
            "tags": []
          },
          "execution_count": 34
        }
      ]
    },
    {
      "cell_type": "markdown",
      "metadata": {
        "id": "9t-NoZif-4GW"
      },
      "source": [
        "string คือ list ของตัวหนังสือ"
      ]
    },
    {
      "cell_type": "code",
      "metadata": {
        "id": "EXzy6WJ1-yVR"
      },
      "source": [
        "a = 'Stat KKU' #เริ่มนับจาก 0,1,2,..."
      ],
      "execution_count": null,
      "outputs": []
    },
    {
      "cell_type": "code",
      "metadata": {
        "colab": {
          "base_uri": "https://localhost:8080/",
          "height": 35
        },
        "id": "e0AVsjQR_F_k",
        "outputId": "5f271c72-ee1f-499a-a76d-ae2f6b0d6536"
      },
      "source": [
        "a[4]"
      ],
      "execution_count": null,
      "outputs": [
        {
          "output_type": "execute_result",
          "data": {
            "application/vnd.google.colaboratory.intrinsic+json": {
              "type": "string"
            },
            "text/plain": [
              "' '"
            ]
          },
          "metadata": {
            "tags": []
          },
          "execution_count": 36
        }
      ]
    },
    {
      "cell_type": "markdown",
      "metadata": {
        "id": "wVHR2qXC_uK8"
      },
      "source": [
        "### วิธีสร้าง list ว่าง"
      ]
    },
    {
      "cell_type": "code",
      "metadata": {
        "id": "K7fA1weu_SDm"
      },
      "source": [
        "list_c = list() # แบบที่ 1\n",
        "list_d = [] # แบบที่ 2\n"
      ],
      "execution_count": null,
      "outputs": []
    },
    {
      "cell_type": "code",
      "metadata": {
        "colab": {
          "base_uri": "https://localhost:8080/"
        },
        "id": "RIC-1S_b_-kf",
        "outputId": "4e70d8ea-6f1a-449c-e1bd-dc5bbc33d2e9"
      },
      "source": [
        "list_c"
      ],
      "execution_count": null,
      "outputs": [
        {
          "output_type": "execute_result",
          "data": {
            "text/plain": [
              "[]"
            ]
          },
          "metadata": {
            "tags": []
          },
          "execution_count": 38
        }
      ]
    },
    {
      "cell_type": "code",
      "metadata": {
        "colab": {
          "base_uri": "https://localhost:8080/"
        },
        "id": "Wg3_dkQo__mX",
        "outputId": "a5ed8dd0-fdc1-4983-fc3e-152e7f9a783a"
      },
      "source": [
        "list_d"
      ],
      "execution_count": null,
      "outputs": [
        {
          "output_type": "execute_result",
          "data": {
            "text/plain": [
              "[]"
            ]
          },
          "metadata": {
            "tags": []
          },
          "execution_count": 39
        }
      ]
    },
    {
      "cell_type": "markdown",
      "metadata": {
        "id": "fH1TbOcuAeix"
      },
      "source": [
        "เติมค่าลงไปใน list (.append())"
      ]
    },
    {
      "cell_type": "code",
      "metadata": {
        "id": "H4HhHu1RBOue"
      },
      "source": [
        "list_d.append( 'a')"
      ],
      "execution_count": null,
      "outputs": []
    },
    {
      "cell_type": "code",
      "metadata": {
        "colab": {
          "base_uri": "https://localhost:8080/"
        },
        "id": "TUcDGkkjBR3R",
        "outputId": "c7dbbf4a-1876-4258-b483-17722a60c484"
      },
      "source": [
        "list_d  "
      ],
      "execution_count": null,
      "outputs": [
        {
          "output_type": "execute_result",
          "data": {
            "text/plain": [
              "['a']"
            ]
          },
          "metadata": {
            "tags": []
          },
          "execution_count": 41
        }
      ]
    },
    {
      "cell_type": "code",
      "metadata": {
        "id": "IcDL15h3BV2d"
      },
      "source": [
        "list_d.append(56)"
      ],
      "execution_count": null,
      "outputs": []
    },
    {
      "cell_type": "code",
      "metadata": {
        "colab": {
          "base_uri": "https://localhost:8080/"
        },
        "id": "OAB2oGzQBXT3",
        "outputId": "fa367176-a17e-4fb2-c165-bcd6e5898b12"
      },
      "source": [
        "list_d"
      ],
      "execution_count": null,
      "outputs": [
        {
          "output_type": "execute_result",
          "data": {
            "text/plain": [
              "['a', 56]"
            ]
          },
          "metadata": {
            "tags": []
          },
          "execution_count": 43
        }
      ]
    },
    {
      "cell_type": "markdown",
      "metadata": {
        "id": "Zz-xwNpdBhnZ"
      },
      "source": [
        "### การชี้ค่าใน list(indexing)\n",
        "\n",
        "1. ใช้ลำดับในการชี้\n",
        "2. ลำดับเริ่มจาก 0\n",
        "3. สามารถชี้จากข้างหลังได้โดยใช้ negative index"
      ]
    },
    {
      "cell_type": "code",
      "metadata": {
        "colab": {
          "base_uri": "https://localhost:8080/"
        },
        "id": "mTcO5BUiBg5j",
        "outputId": "a46db244-2277-43ba-f9da-e56d1ff87a60"
      },
      "source": [
        "list_b"
      ],
      "execution_count": null,
      "outputs": [
        {
          "output_type": "execute_result",
          "data": {
            "text/plain": [
              "[2, 'xyz', [1, 2, 0.2, 'abs'], [1, 2, 0.0]]"
            ]
          },
          "metadata": {
            "tags": []
          },
          "execution_count": 43
        }
      ]
    },
    {
      "cell_type": "code",
      "metadata": {
        "colab": {
          "base_uri": "https://localhost:8080/"
        },
        "id": "Aq8Lw9UKBoWO",
        "outputId": "b36bd7cd-b530-42a0-a12e-20f3c95fa99c"
      },
      "source": [
        "list_b[-1]"
      ],
      "execution_count": null,
      "outputs": [
        {
          "output_type": "execute_result",
          "data": {
            "text/plain": [
              "[1, 2, 0.0]"
            ]
          },
          "metadata": {
            "tags": []
          },
          "execution_count": 44
        }
      ]
    },
    {
      "cell_type": "markdown",
      "metadata": {
        "id": "rz6hiXMWCOjr"
      },
      "source": [
        "### list slicing"
      ]
    },
    {
      "cell_type": "code",
      "metadata": {
        "id": "sZkPMe91CSVp"
      },
      "source": [
        "list_ex = [1,2,3,5,6,8,-1,20,50,0]"
      ],
      "execution_count": null,
      "outputs": []
    },
    {
      "cell_type": "markdown",
      "metadata": {
        "id": "N4KWIMCnDcp_"
      },
      "source": [
        "เราจะตัด list โดยเอาตั้งแต่ [ตัวหน้า : ตัวก่อนตัวหลัง]   \n",
        "\n",
        "ถ้าเป็นสัญลักษณ์คณิตศาสตร์  [ตัวหน้า:ตัวหลัง] ->[ตัวหน้า , ตัวหลัง]"
      ]
    },
    {
      "cell_type": "code",
      "metadata": {
        "colab": {
          "base_uri": "https://localhost:8080/"
        },
        "id": "CXP9X0_ZCfnr",
        "outputId": "997f5b53-b4ad-46b3-feff-18b2f5bf2957"
      },
      "source": [
        "list_ex[1:6]"
      ],
      "execution_count": null,
      "outputs": [
        {
          "output_type": "execute_result",
          "data": {
            "text/plain": [
              "[2, 3, 5, 6, 8]"
            ]
          },
          "metadata": {
            "tags": []
          },
          "execution_count": 45
        }
      ]
    },
    {
      "cell_type": "code",
      "metadata": {
        "colab": {
          "base_uri": "https://localhost:8080/"
        },
        "id": "eiEyQCgxDkse",
        "outputId": "a69344e9-1cc8-410f-f7ed-09714059c865"
      },
      "source": [
        "list_ex[4:]"
      ],
      "execution_count": null,
      "outputs": [
        {
          "output_type": "execute_result",
          "data": {
            "text/plain": [
              "[6, 8, -1, 20, 50, 0]"
            ]
          },
          "metadata": {
            "tags": []
          },
          "execution_count": 46
        }
      ]
    },
    {
      "cell_type": "code",
      "metadata": {
        "colab": {
          "base_uri": "https://localhost:8080/"
        },
        "id": "bFNnhFxDDqqF",
        "outputId": "3d7e5277-9707-448c-afb9-8c9779923588"
      },
      "source": [
        "list_ex[:6]"
      ],
      "execution_count": null,
      "outputs": [
        {
          "output_type": "execute_result",
          "data": {
            "text/plain": [
              "[1, 2, 3, 5, 6, 8]"
            ]
          },
          "metadata": {
            "tags": []
          },
          "execution_count": 47
        }
      ]
    },
    {
      "cell_type": "markdown",
      "metadata": {
        "id": "w71PtEELEL3O"
      },
      "source": [
        "[จุดเริ่มต้น:จุดสุดท้าย:step]"
      ]
    },
    {
      "cell_type": "code",
      "metadata": {
        "colab": {
          "base_uri": "https://localhost:8080/"
        },
        "id": "WYTsGwfyEZen",
        "outputId": "c4db0db8-b661-4c8b-f0bb-d079d80b99f4"
      },
      "source": [
        "list_ex"
      ],
      "execution_count": null,
      "outputs": [
        {
          "output_type": "execute_result",
          "data": {
            "text/plain": [
              "[1, 2, 3, 5, 6, 8, -1, 20, 50, 0]"
            ]
          },
          "metadata": {
            "tags": []
          },
          "execution_count": 48
        }
      ]
    },
    {
      "cell_type": "code",
      "metadata": {
        "colab": {
          "base_uri": "https://localhost:8080/"
        },
        "id": "hfKELbsCD9SL",
        "outputId": "3a69d5e8-cfb7-4cae-b93a-fe93cb1e6762"
      },
      "source": [
        "list_ex[::2]"
      ],
      "execution_count": null,
      "outputs": [
        {
          "output_type": "execute_result",
          "data": {
            "text/plain": [
              "[1, 3, 6, -1, 50]"
            ]
          },
          "metadata": {
            "tags": []
          },
          "execution_count": 49
        }
      ]
    },
    {
      "cell_type": "code",
      "metadata": {
        "colab": {
          "base_uri": "https://localhost:8080/"
        },
        "id": "ko84KJcpEkMu",
        "outputId": "102f9aaf-d3d0-44d3-b311-177e3dfc7992"
      },
      "source": [
        "list_ex[::-1] # การกลับ list"
      ],
      "execution_count": null,
      "outputs": [
        {
          "output_type": "execute_result",
          "data": {
            "text/plain": [
              "[0, 50, 20, -1, 8, 6, 5, 3, 2, 1]"
            ]
          },
          "metadata": {
            "tags": []
          },
          "execution_count": 50
        }
      ]
    },
    {
      "cell_type": "code",
      "metadata": {
        "colab": {
          "base_uri": "https://localhost:8080/",
          "height": 35
        },
        "id": "ksZY0-3zFBDw",
        "outputId": "3abd3843-afae-4e57-f3a3-8c7618884bf4"
      },
      "source": [
        "a"
      ],
      "execution_count": null,
      "outputs": [
        {
          "output_type": "execute_result",
          "data": {
            "application/vnd.google.colaboratory.intrinsic+json": {
              "type": "string"
            },
            "text/plain": [
              "'Stat KKU'"
            ]
          },
          "metadata": {
            "tags": []
          },
          "execution_count": 51
        }
      ]
    },
    {
      "cell_type": "code",
      "metadata": {
        "colab": {
          "base_uri": "https://localhost:8080/",
          "height": 35
        },
        "id": "Y9u4Lv4yEztn",
        "outputId": "ae341ba6-051d-45b7-bcdb-35b0a5d12caa"
      },
      "source": [
        "a[:5]"
      ],
      "execution_count": null,
      "outputs": [
        {
          "output_type": "execute_result",
          "data": {
            "application/vnd.google.colaboratory.intrinsic+json": {
              "type": "string"
            },
            "text/plain": [
              "'Stat '"
            ]
          },
          "metadata": {
            "tags": []
          },
          "execution_count": 52
        }
      ]
    },
    {
      "cell_type": "code",
      "metadata": {
        "colab": {
          "base_uri": "https://localhost:8080/",
          "height": 35
        },
        "id": "RCQYxiYEFqrW",
        "outputId": "7adb8d98-c42b-4121-f0a1-a19719658449"
      },
      "source": [
        "a[5:]"
      ],
      "execution_count": null,
      "outputs": [
        {
          "output_type": "execute_result",
          "data": {
            "application/vnd.google.colaboratory.intrinsic+json": {
              "type": "string"
            },
            "text/plain": [
              "'KKU'"
            ]
          },
          "metadata": {
            "tags": []
          },
          "execution_count": 53
        }
      ]
    },
    {
      "cell_type": "code",
      "metadata": {
        "colab": {
          "base_uri": "https://localhost:8080/",
          "height": 35
        },
        "id": "RmflLAWaFwOS",
        "outputId": "8cf14355-f51f-44d0-9cfd-4d96f15b30e3"
      },
      "source": [
        "a[-3:]"
      ],
      "execution_count": null,
      "outputs": [
        {
          "output_type": "execute_result",
          "data": {
            "application/vnd.google.colaboratory.intrinsic+json": {
              "type": "string"
            },
            "text/plain": [
              "'KKU'"
            ]
          },
          "metadata": {
            "tags": []
          },
          "execution_count": 54
        }
      ]
    },
    {
      "cell_type": "code",
      "metadata": {
        "colab": {
          "base_uri": "https://localhost:8080/",
          "height": 35
        },
        "id": "VUDOlculF1GQ",
        "outputId": "12bcab0a-271e-4bcd-c945-2cc98adc2168"
      },
      "source": [
        "a[5:8]"
      ],
      "execution_count": null,
      "outputs": [
        {
          "output_type": "execute_result",
          "data": {
            "application/vnd.google.colaboratory.intrinsic+json": {
              "type": "string"
            },
            "text/plain": [
              "'KKU'"
            ]
          },
          "metadata": {
            "tags": []
          },
          "execution_count": 55
        }
      ]
    },
    {
      "cell_type": "code",
      "metadata": {
        "colab": {
          "base_uri": "https://localhost:8080/",
          "height": 35
        },
        "id": "PxOcOUuuGF5Y",
        "outputId": "7548163c-7781-4ffc-c6eb-32fb609c12ca"
      },
      "source": [
        "a[5::]"
      ],
      "execution_count": null,
      "outputs": [
        {
          "output_type": "execute_result",
          "data": {
            "application/vnd.google.colaboratory.intrinsic+json": {
              "type": "string"
            },
            "text/plain": [
              "'KKU'"
            ]
          },
          "metadata": {
            "tags": []
          },
          "execution_count": 56
        }
      ]
    },
    {
      "cell_type": "code",
      "metadata": {
        "colab": {
          "base_uri": "https://localhost:8080/",
          "height": 35
        },
        "id": "d4BLb46YGJZC",
        "outputId": "a21006e0-8897-4794-b709-e1071155dbd0"
      },
      "source": [
        "a[-3::]"
      ],
      "execution_count": null,
      "outputs": [
        {
          "output_type": "execute_result",
          "data": {
            "application/vnd.google.colaboratory.intrinsic+json": {
              "type": "string"
            },
            "text/plain": [
              "'KKU'"
            ]
          },
          "metadata": {
            "tags": []
          },
          "execution_count": 57
        }
      ]
    },
    {
      "cell_type": "markdown",
      "metadata": {
        "id": "MRdmDyMrGvmH"
      },
      "source": [
        "list + list"
      ]
    },
    {
      "cell_type": "code",
      "metadata": {
        "colab": {
          "base_uri": "https://localhost:8080/"
        },
        "id": "GCkjReh8GvGh",
        "outputId": "9ec20203-d919-4d50-b05a-41a3aba19c26"
      },
      "source": [
        "print(list_a)\n",
        "print(list_b)"
      ],
      "execution_count": null,
      "outputs": [
        {
          "output_type": "stream",
          "text": [
            "[1, 2, 0.2, 'abs']\n",
            "[2, 'xyz', [1, 2, 0.2, 'abs'], [1, 2, 0.0]]\n"
          ],
          "name": "stdout"
        }
      ]
    },
    {
      "cell_type": "code",
      "metadata": {
        "colab": {
          "base_uri": "https://localhost:8080/"
        },
        "id": "kJzCGsbUHGsY",
        "outputId": "cba5cb03-63f4-46f2-9fcd-472fe9fc7f10"
      },
      "source": [
        "list_a + list_b"
      ],
      "execution_count": null,
      "outputs": [
        {
          "output_type": "execute_result",
          "data": {
            "text/plain": [
              "[1, 2, 0.2, 'abs', 2, 'xyz', [1, 2, 0.2, 'abs'], [1, 2, 0.0]]"
            ]
          },
          "metadata": {
            "tags": []
          },
          "execution_count": 59
        }
      ]
    },
    {
      "cell_type": "markdown",
      "metadata": {
        "id": "UO13QFLELNsF"
      },
      "source": [
        "format string "
      ]
    },
    {
      "cell_type": "markdown",
      "metadata": {
        "id": "EpELZisNL8Ch"
      },
      "source": [
        "```pyphon\n",
        " f'string{ตัวแปร}'\n",
        "```\n",
        "{} เรียกว่า curly brackets"
      ]
    },
    {
      "cell_type": "code",
      "metadata": {
        "colab": {
          "base_uri": "https://localhost:8080/",
          "height": 35
        },
        "id": "v9o304D3LTOZ",
        "outputId": "9021a91a-b2b7-4d36-ef22-1c4676478e85"
      },
      "source": [
        "f'ตัวแปร list_a มีค่าคือ  {list_a} ' "
      ],
      "execution_count": null,
      "outputs": [
        {
          "output_type": "execute_result",
          "data": {
            "application/vnd.google.colaboratory.intrinsic+json": {
              "type": "string"
            },
            "text/plain": [
              "\"ตัวแปร list_a มีค่าคือ  [1, 2, 0.2, 'abs'] \""
            ]
          },
          "metadata": {
            "tags": []
          },
          "execution_count": 60
        }
      ]
    },
    {
      "cell_type": "markdown",
      "metadata": {
        "id": "SDGqNxx-ID1S"
      },
      "source": [
        "#Loop\n",
        "\n",
        "ทำงานที่ซ้ำๆกัน คล้ายๆกัน หลายรอบ"
      ]
    },
    {
      "cell_type": "markdown",
      "metadata": {
        "id": "cM8SyRjtKZV-"
      },
      "source": [
        "``` python\n",
        "for ตัวแปรที่จะรับค่าจากลิสต์ in ลิสต์ที่จะนำมาวนลูป :\n",
        "    do something #in loop\n",
        "    do another thing #in loop\n",
        "\n",
        "do other thing #out side loop\n",
        "```"
      ]
    },
    {
      "cell_type": "code",
      "metadata": {
        "colab": {
          "base_uri": "https://localhost:8080/"
        },
        "id": "gyHSeZBmJt1m",
        "outputId": "aee60f62-29fd-42bf-ce88-628e3d622383"
      },
      "source": [
        "for i in [1, 2, 3, 4, 5] :\n",
        "     print(i+1)\n"
      ],
      "execution_count": null,
      "outputs": [
        {
          "output_type": "stream",
          "text": [
            "2\n",
            "3\n",
            "4\n",
            "5\n",
            "6\n"
          ],
          "name": "stdout"
        }
      ]
    },
    {
      "cell_type": "code",
      "metadata": {
        "colab": {
          "base_uri": "https://localhost:8080/"
        },
        "id": "_R5PW_XaMyCW",
        "outputId": "c92f5243-9a64-4680-ac00-1357b7c57434"
      },
      "source": [
        "list5 = [1,2,3,4,5]\n",
        "for x in list5 :\n",
        "     print(f'ค่าตัวแปร x คือ {x} และ x+2={x+2}')  "
      ],
      "execution_count": null,
      "outputs": [
        {
          "output_type": "stream",
          "text": [
            "ค่าตัวแปร x คือ 1 และ x+2=3\n",
            "ค่าตัวแปร x คือ 2 และ x+2=4\n",
            "ค่าตัวแปร x คือ 3 และ x+2=5\n",
            "ค่าตัวแปร x คือ 4 และ x+2=6\n",
            "ค่าตัวแปร x คือ 5 และ x+2=7\n"
          ],
          "name": "stdout"
        }
      ]
    },
    {
      "cell_type": "code",
      "metadata": {
        "colab": {
          "base_uri": "https://localhost:8080/"
        },
        "id": "syC8o6cWNfFV",
        "outputId": "3612d620-7086-428f-d248-e520198b010c"
      },
      "source": [
        "list(range(10))"
      ],
      "execution_count": null,
      "outputs": [
        {
          "output_type": "execute_result",
          "data": {
            "text/plain": [
              "[0, 1, 2, 3, 4, 5, 6, 7, 8, 9]"
            ]
          },
          "metadata": {
            "tags": []
          },
          "execution_count": 64
        }
      ]
    },
    {
      "cell_type": "code",
      "metadata": {
        "colab": {
          "base_uri": "https://localhost:8080/"
        },
        "id": "gFP0dqe2NxW8",
        "outputId": "d3c30de3-defb-4c30-d52b-3126a99d2e20"
      },
      "source": [
        "for i in range(2 ,7) :\n",
        "    print(i) "
      ],
      "execution_count": null,
      "outputs": [
        {
          "output_type": "stream",
          "text": [
            "2\n",
            "3\n",
            "4\n",
            "5\n",
            "6\n"
          ],
          "name": "stdout"
        }
      ]
    },
    {
      "cell_type": "code",
      "metadata": {
        "colab": {
          "base_uri": "https://localhost:8080/"
        },
        "id": "8jENZwtROcmo",
        "outputId": "7d8430d1-e1c7-4865-ee00-77f0fa84fa01"
      },
      "source": [
        "for i in range(2 ,7,2) :\n",
        "    print(i) "
      ],
      "execution_count": null,
      "outputs": [
        {
          "output_type": "stream",
          "text": [
            "2\n",
            "4\n",
            "6\n"
          ],
          "name": "stdout"
        }
      ]
    },
    {
      "cell_type": "code",
      "metadata": {
        "colab": {
          "base_uri": "https://localhost:8080/"
        },
        "id": "r_HQRQZVOfCz",
        "outputId": "fa2110ef-bbc7-4493-ae4a-b790688625d6"
      },
      "source": [
        "for i in range(5) :\n",
        "    print('hahaha') "
      ],
      "execution_count": null,
      "outputs": [
        {
          "output_type": "stream",
          "text": [
            "hahaha\n",
            "hahaha\n",
            "hahaha\n",
            "hahaha\n",
            "hahaha\n"
          ],
          "name": "stdout"
        }
      ]
    },
    {
      "cell_type": "code",
      "metadata": {
        "colab": {
          "base_uri": "https://localhost:8080/"
        },
        "id": "3eLZP8RaOnsM",
        "outputId": "26f96991-f538-473d-da5a-dcd296d062b8"
      },
      "source": [
        "for i in range(5) :\n",
        "    print('hahaha') \n",
        "    x = i+3\n",
        "    print(f'i={i} x={x}')"
      ],
      "execution_count": null,
      "outputs": [
        {
          "output_type": "stream",
          "text": [
            "hahaha\n",
            "i=0 x=3\n",
            "hahaha\n",
            "i=1 x=4\n",
            "hahaha\n",
            "i=2 x=5\n",
            "hahaha\n",
            "i=3 x=6\n",
            "hahaha\n",
            "i=4 x=7\n"
          ],
          "name": "stdout"
        }
      ]
    },
    {
      "cell_type": "markdown",
      "metadata": {
        "id": "Px7HljD0PDQK"
      },
      "source": [
        "##Nested loop"
      ]
    },
    {
      "cell_type": "code",
      "metadata": {
        "colab": {
          "base_uri": "https://localhost:8080/"
        },
        "id": "G9RQ-LBLPKAW",
        "outputId": "e6a896e1-0434-46bf-c099-f49b34ec2727"
      },
      "source": [
        "for i in range(3) :\n",
        "    print(f'now i = {i} ')  ##เว้นวรรคให้ตรงกัน\n",
        "    print(' start j loop ')  ##เว้นวรรคให้ตรงกัน\n",
        "    for j in range(4) : ##เว้นวรรคให้ตรงกัน\n",
        "          print (f' i = {i} j = {j} i+j = {i+j}')\n",
        "    print( 'end j loop'  )"
      ],
      "execution_count": null,
      "outputs": [
        {
          "output_type": "stream",
          "text": [
            "now i = 0 \n",
            " start j loop \n",
            " i = 0 j = 0 i+j = 0\n",
            " i = 0 j = 1 i+j = 1\n",
            " i = 0 j = 2 i+j = 2\n",
            " i = 0 j = 3 i+j = 3\n",
            "end j loop\n",
            "now i = 1 \n",
            " start j loop \n",
            " i = 1 j = 0 i+j = 1\n",
            " i = 1 j = 1 i+j = 2\n",
            " i = 1 j = 2 i+j = 3\n",
            " i = 1 j = 3 i+j = 4\n",
            "end j loop\n",
            "now i = 2 \n",
            " start j loop \n",
            " i = 2 j = 0 i+j = 2\n",
            " i = 2 j = 1 i+j = 3\n",
            " i = 2 j = 2 i+j = 4\n",
            " i = 2 j = 3 i+j = 5\n",
            "end j loop\n"
          ],
          "name": "stdout"
        }
      ]
    },
    {
      "cell_type": "markdown",
      "metadata": {
        "id": "WySokswRIG1i"
      },
      "source": [
        "#Condition (if statement)\n",
        "\n"
      ]
    },
    {
      "cell_type": "markdown",
      "metadata": {
        "id": "pi44NleTFqaR"
      },
      "source": [
        "```python\n",
        "if   เงื่อนไขที่จะตรวจสอบ (โดยใช้สัญลักษณ์ ==, !=,<,>,<=,>=):\n",
        "     ถ้าเงื่อนไขเป็นจริง ทำงาน 1\n",
        "     ถ้าเงื่อนไขเป็นจริง ทำงาน 2\n",
        "```\n",
        "     "
      ]
    },
    {
      "cell_type": "code",
      "metadata": {
        "colab": {
          "base_uri": "https://localhost:8080/"
        },
        "id": "fC4w3Un5GAVB",
        "outputId": "8e9133d5-7715-4a76-ff17-1837186f8beb"
      },
      "source": [
        "stringx = 'yujhgfurtuperteyueefhppfpsodllccs'\n",
        "\n",
        "if len(stringx) > 30:\n",
        "   print(f'{stringx} is longer than 30 characters')"
      ],
      "execution_count": null,
      "outputs": [
        {
          "output_type": "stream",
          "text": [
            "yujhgfurtuperteyueefhppfpsodllccs is longer than 30 characters\n"
          ],
          "name": "stdout"
        }
      ]
    },
    {
      "cell_type": "code",
      "metadata": {
        "id": "ywW5roImJIpu"
      },
      "source": [
        "stringx = 'yujhgfurtuperteyueefhppfpsodllccs'\n",
        "\n",
        "if len(stringx) > 100:\n",
        "   print(f'{stringx} is longer than 30 characters')"
      ],
      "execution_count": null,
      "outputs": []
    },
    {
      "cell_type": "markdown",
      "metadata": {
        "id": "U53eDaDwKfLu"
      },
      "source": [
        "```python\n",
        "if เงื่อนไขที่จะตรวจสอบ (โดยใช้สัญลักษณ์ ==,!=,<,>,<=,>=):\n",
        "    ถ้าเงื่อนไขเป็นจริง ทำงานที่ 1\n",
        "    ถ้าเงื่อนไขเป็นจริง ทำงานที่ 2\n",
        "else: #ตรวจสอบเงื่อนไขข้างบนแล้วไม่เป็นจริง\n",
        "    ทำงานที่ X\n",
        "```"
      ]
    },
    {
      "cell_type": "code",
      "metadata": {
        "colab": {
          "base_uri": "https://localhost:8080/"
        },
        "id": "C2w-0zH2HzcA",
        "outputId": "db0f8535-14ed-453f-acf3-748bb8e32a21"
      },
      "source": [
        "stringx = 'yujhgfurtuperteyueefhppfpsodllccs'\n",
        "\n",
        "if len(stringx) > 100:\n",
        "   print(f'{stringx} is longer than 30 characters')\n",
        "else: \n",
        "  print(f'{stringx} in {len(stringx)} characters long')"
      ],
      "execution_count": null,
      "outputs": [
        {
          "output_type": "stream",
          "text": [
            "yujhgfurtuperteyueefhppfpsodllccs in 33 characters long\n"
          ],
          "name": "stdout"
        }
      ]
    },
    {
      "cell_type": "markdown",
      "metadata": {
        "id": "2AoMc5HnJGAl"
      },
      "source": [
        "```python\n",
        "if   เงื่อนไขที่จะตรวจสอบ (โดยใช้สัญลักษณ์ ==, !=,<,>,<=,>=):\n",
        "     ถ้าเงื่อนไขเป็นจริง ทำงาน 1\n",
        "     ถ้าเงื่อนไขเป็นจริง ทำงาน 2\n",
        "elif เงื่อนไขที่จะตรวจสอบต่อไปถ้าเงื่อนไขข้างบนไม่เป็นจริง:\n",
        "      ถ้าเงื่อนไขเป็นจริง ทำงาน a1\n",
        "      ถ้าเงื่อนไขเป็นจริง ทำงาน a2\n",
        "elif เงื่อนไขที่จะตรวจสอบต่อไปถ้าเงื่อนไขข้างบนไม่เป็นจริง:\n",
        "      ถ้าเงื่อนไขเป็นจริง ทำงาน b1\n",
        "      ถ้าเงื่อนไขเป็นจริง ทำงาน b2\n",
        "elif #เงื่อนไขที่จะตรวจสอบต่อไปถ้าเงื่อนไขข้างบนไม่เป็นจริง\n",
        "      ทำงานที่ x\n",
        "```"
      ]
    },
    {
      "cell_type": "code",
      "metadata": {
        "colab": {
          "base_uri": "https://localhost:8080/"
        },
        "id": "nn4534bBLI3i",
        "outputId": "7896f249-c741-4702-d742-8e155737ae52"
      },
      "source": [
        "password = '12345'\n",
        "\n",
        "input_pass = '123sf'\n",
        "if input_pass == password:\n",
        "        print('welcome')\n",
        "elif len(input_pass) > len(password):\n",
        "        print('Too long, try again!')\n",
        "elif len(input_pass) < len(password):\n",
        "        print('Too long, try again!')\n",
        "else:\n",
        "        print('Wrong password, try again!')\n"
      ],
      "execution_count": null,
      "outputs": [
        {
          "output_type": "stream",
          "text": [
            "Wrong password, try again!\n"
          ],
          "name": "stdout"
        }
      ]
    },
    {
      "cell_type": "markdown",
      "metadata": {
        "id": "RmVtseHxK5w7"
      },
      "source": [
        "Quiz 1 หา min"
      ]
    },
    {
      "cell_type": "code",
      "metadata": {
        "colab": {
          "base_uri": "https://localhost:8080/"
        },
        "id": "arKXuEY0N5JN",
        "outputId": "c61acbe1-f86f-4688-f15d-272e13f6df4a"
      },
      "source": [
        "list_ex = [1,5,9,-19,-2,0] #หาค่าน้อยที่สุดใน list_ex โดยไม่ใช้ function min (commit ก่อน 10.30 :Quiz1)\n",
        "\n",
        "print ('Min value element  = %d'  % min(list_ex))"
      ],
      "execution_count": null,
      "outputs": [
        {
          "output_type": "stream",
          "text": [
            "Min value element  = -19\n"
          ],
          "name": "stdout"
        }
      ]
    },
    {
      "cell_type": "code",
      "metadata": {
        "id": "mPBUBgA9R7im",
        "colab": {
          "base_uri": "https://localhost:8080/"
        },
        "outputId": "46cc9856-3290-447b-8550-e53962461657"
      },
      "source": [
        "min = 100000000 #กำหนดค่าไว้ยอะๆก่อน\n",
        "for i in list_ex:\n",
        "    if i < min:\n",
        "        min = i\n",
        "\n",
        "print(min)"
      ],
      "execution_count": null,
      "outputs": [
        {
          "output_type": "stream",
          "text": [
            "-19\n"
          ],
          "name": "stdout"
        }
      ]
    },
    {
      "cell_type": "code",
      "metadata": {
        "id": "SgFRUHG4UB4v",
        "colab": {
          "base_uri": "https://localhost:8080/"
        },
        "outputId": "22f66e18-9a5b-4120-e0db-27ce4382c36c"
      },
      "source": [
        "min = 100000000\n",
        "print(list_ex)\n",
        "for i in list_ex:\n",
        "    print(f'now i = {i}, min = {min}')\n",
        "    print('start condition')\n",
        "    if i < min:\n",
        "        print(f'i < min, update min -> {i}')\n",
        "        min = i\n",
        "    else:\n",
        "        print('i >= min, not update')\n",
        "    print('end condition, go to next i')\n",
        "\n",
        "print(min)"
      ],
      "execution_count": null,
      "outputs": [
        {
          "output_type": "stream",
          "text": [
            "[1, 5, 9, -19, -2, 0]\n",
            "now i = 1, min = 100000000\n",
            "start condition\n",
            "i < min, update min -> 1\n",
            "end condition, go to next i\n",
            "now i = 5, min = 1\n",
            "start condition\n",
            "i >= min, not update\n",
            "end condition, go to next i\n",
            "now i = 9, min = 1\n",
            "start condition\n",
            "i >= min, not update\n",
            "end condition, go to next i\n",
            "now i = -19, min = 1\n",
            "start condition\n",
            "i < min, update min -> -19\n",
            "end condition, go to next i\n",
            "now i = -2, min = -19\n",
            "start condition\n",
            "i >= min, not update\n",
            "end condition, go to next i\n",
            "now i = 0, min = -19\n",
            "start condition\n",
            "i >= min, not update\n",
            "end condition, go to next i\n",
            "-19\n"
          ],
          "name": "stdout"
        }
      ]
    },
    {
      "cell_type": "markdown",
      "metadata": {
        "id": "o1TgL1z-LAg6"
      },
      "source": [
        "HW3 ตัดเกรด"
      ]
    },
    {
      "cell_type": "code",
      "metadata": {
        "id": "1a6r0-ekXCWG"
      },
      "source": [
        "score = [49,65,70,95,82,55,89,20,77,77,81,59,10] #ตัดเกรด คะแนนใน list score (ใช้ if กับ for)"
      ],
      "execution_count": 11,
      "outputs": []
    },
    {
      "cell_type": "code",
      "metadata": {
        "id": "stI3htZVYiRw",
        "outputId": "bf2e0d57-9434-422e-b31a-879cf6220181",
        "colab": {
          "base_uri": "https://localhost:8080/"
        }
      },
      "source": [
        "for i in score:\n",
        "  if i >= 80:\n",
        "    print(f'{i} = Grade A')\n",
        "  elif i >= 75 and i < 80:\n",
        "    print(f'{i} = Grade B+')\n",
        "  elif i >= 70 and i < 75:\n",
        "    print(f'{i} = Grade B')\n",
        "  elif i >= 65 and i < 70:\n",
        "    print(f'{i} = Grade C+')\n",
        "  elif i >= 60 and i < 65:\n",
        "    print(f'{i} = Grade C')\n",
        "  elif i >= 55 and i < 60:\n",
        "    print(f'{i} = Grade D+')\n",
        "  elif i >= 50 and i < 55:\n",
        "    print(f'{i} = Grade D')\n",
        "  else:\n",
        "    print(f'{i} = Grade F')"
      ],
      "execution_count": 22,
      "outputs": [
        {
          "output_type": "stream",
          "text": [
            "49 = Grade F\n",
            "65 = Grade C+\n",
            "70 = Grade B\n",
            "95 = Grade A\n",
            "82 = Grade A\n",
            "55 = Grade D+\n",
            "89 = Grade A\n",
            "20 = Grade F\n",
            "77 = Grade B+\n",
            "77 = Grade B+\n",
            "81 = Grade A\n",
            "59 = Grade D+\n",
            "10 = Grade F\n"
          ],
          "name": "stdout"
        }
      ]
    },
    {
      "cell_type": "markdown",
      "metadata": {
        "id": "qKMA3eGLFn_1"
      },
      "source": [
        "#Function"
      ]
    },
    {
      "cell_type": "code",
      "metadata": {
        "id": "pj0hbLafHOJo"
      },
      "source": [
        ""
      ],
      "execution_count": null,
      "outputs": []
    }
  ]
}